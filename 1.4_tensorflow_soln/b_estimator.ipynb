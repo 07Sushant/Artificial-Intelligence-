{
 "cells": [
  {
   "cell_type": "markdown",
   "metadata": {},
   "source": [
    "<h1> Machine Learning using tf.estimator </h1>\n",
    "\n",
    "In this notebook, we will create a machine learning model using tf.estimator and evaluate its performance.  The dataset is rather small (7700 samples), so we can do it all in-memory.  We will also simply pass the raw data in as-is. \n"
   ]
  },
  {
   "cell_type": "code",
   "execution_count": 1,
   "metadata": {
    "collapsed": false
   },
   "outputs": [
    {
     "data": {
      "text/html": [
       "\n",
       "          <script src=\"/static/components/requirejs/require.js\"></script>\n",
       "          <script>\n",
       "            requirejs.config({\n",
       "              paths: {\n",
       "                base: '/static/base',\n",
       "              },\n",
       "            });\n",
       "          </script>\n",
       "          "
      ],
      "text/plain": [
       "<IPython.core.display.HTML object>"
      ]
     },
     "metadata": {},
     "output_type": "display_data"
    },
    {
     "name": "stdout",
     "output_type": "stream",
     "text": [
      "1.4.1\n"
     ]
    }
   ],
   "source": [
    "import google.datalab.bigquery as bq\n",
    "import tensorflow as tf\n",
    "import pandas as pd\n",
    "import numpy as np\n",
    "import shutil\n",
    "\n",
    "print tf.__version__"
   ]
  },
  {
   "cell_type": "markdown",
   "metadata": {},
   "source": [
    "Read data in this folder:"
   ]
  },
  {
   "cell_type": "code",
   "execution_count": 2,
   "metadata": {
    "collapsed": false
   },
   "outputs": [
    {
     "data": {
      "text/html": [
       "\n",
       "          <script src=\"/static/components/requirejs/require.js\"></script>\n",
       "          <script>\n",
       "            requirejs.config({\n",
       "              paths: {\n",
       "                base: '/static/base',\n",
       "              },\n",
       "            });\n",
       "          </script>\n",
       "          "
      ],
      "text/plain": [
       "<IPython.core.display.HTML object>"
      ]
     },
     "metadata": {},
     "output_type": "display_data"
    },
    {
     "name": "stdout",
     "output_type": "stream",
     "text": [
      "taxi-test.csv  taxi-train.csv  taxi-valid.csv\r\n"
     ]
    }
   ],
   "source": [
    "!ls *.csv"
   ]
  },
  {
   "cell_type": "code",
   "execution_count": 3,
   "metadata": {
    "collapsed": false
   },
   "outputs": [
    {
     "data": {
      "text/html": [
       "\n",
       "          <script src=\"/static/components/requirejs/require.js\"></script>\n",
       "          <script>\n",
       "            requirejs.config({\n",
       "              paths: {\n",
       "                base: '/static/base',\n",
       "              },\n",
       "            });\n",
       "          </script>\n",
       "          "
      ],
      "text/plain": [
       "<IPython.core.display.HTML object>"
      ]
     },
     "metadata": {},
     "output_type": "display_data"
    }
   ],
   "source": [
    "# In CSV, label is the first column, after the features, followed by the key\n",
    "CSV_COLUMNS = ['fare_amount', 'pickuplon','pickuplat','dropofflon','dropofflat','passengers', 'key']\n",
    "FEATURES = CSV_COLUMNS[1:len(CSV_COLUMNS) - 1]\n",
    "LABEL = CSV_COLUMNS[0]\n",
    "\n",
    "df_train = pd.read_csv('./taxi-train.csv', header = None, names = CSV_COLUMNS)\n",
    "df_valid = pd.read_csv('./taxi-valid.csv', header = None, names = CSV_COLUMNS)"
   ]
  },
  {
   "cell_type": "markdown",
   "metadata": {},
   "source": [
    "<h2> Input function to read from Pandas Dataframe into tf.constant </h2>\n"
   ]
  },
  {
   "cell_type": "code",
   "execution_count": 4,
   "metadata": {
    "collapsed": false
   },
   "outputs": [
    {
     "data": {
      "text/html": [
       "\n",
       "          <script src=\"/static/components/requirejs/require.js\"></script>\n",
       "          <script>\n",
       "            requirejs.config({\n",
       "              paths: {\n",
       "                base: '/static/base',\n",
       "              },\n",
       "            });\n",
       "          </script>\n",
       "          "
      ],
      "text/plain": [
       "<IPython.core.display.HTML object>"
      ]
     },
     "metadata": {},
     "output_type": "display_data"
    }
   ],
   "source": [
    "def make_input_fn(df, num_epochs):\n",
    "  return tf.estimator.inputs.pandas_input_fn(\n",
    "    x = df,\n",
    "    y = df[LABEL],\n",
    "    batch_size = 128,\n",
    "    num_epochs = num_epochs,\n",
    "    shuffle = True,\n",
    "    queue_capacity = 1000,\n",
    "    num_threads = 1\n",
    "  )"
   ]
  },
  {
   "cell_type": "markdown",
   "metadata": {},
   "source": [
    "### Create feature columns for estimator"
   ]
  },
  {
   "cell_type": "code",
   "execution_count": 5,
   "metadata": {
    "collapsed": false
   },
   "outputs": [
    {
     "data": {
      "text/html": [
       "\n",
       "          <script src=\"/static/components/requirejs/require.js\"></script>\n",
       "          <script>\n",
       "            requirejs.config({\n",
       "              paths: {\n",
       "                base: '/static/base',\n",
       "              },\n",
       "            });\n",
       "          </script>\n",
       "          "
      ],
      "text/plain": [
       "<IPython.core.display.HTML object>"
      ]
     },
     "metadata": {},
     "output_type": "display_data"
    }
   ],
   "source": [
    "def make_feature_cols():\n",
    "  input_columns = [tf.feature_column.numeric_column(k) for k in FEATURES]\n",
    "  return input_columns"
   ]
  },
  {
   "cell_type": "markdown",
   "metadata": {},
   "source": [
    "<h3> Linear Regression with tf.estimator framework </h3>"
   ]
  },
  {
   "cell_type": "code",
   "execution_count": 6,
   "metadata": {
    "collapsed": false
   },
   "outputs": [
    {
     "data": {
      "text/html": [
       "\n",
       "          <script src=\"/static/components/requirejs/require.js\"></script>\n",
       "          <script>\n",
       "            requirejs.config({\n",
       "              paths: {\n",
       "                base: '/static/base',\n",
       "              },\n",
       "            });\n",
       "          </script>\n",
       "          "
      ],
      "text/plain": [
       "<IPython.core.display.HTML object>"
      ]
     },
     "metadata": {},
     "output_type": "display_data"
    },
    {
     "name": "stdout",
     "output_type": "stream",
     "text": [
      "INFO:tensorflow:Using default config.\n",
      "INFO:tensorflow:Using config: {'_save_checkpoints_secs': 600, '_session_config': None, '_keep_checkpoint_max': 5, '_task_type': 'worker', '_is_chief': True, '_cluster_spec': <tensorflow.python.training.server_lib.ClusterSpec object at 0x7fcd12018990>, '_save_checkpoints_steps': None, '_keep_checkpoint_every_n_hours': 10000, '_service': None, '_num_ps_replicas': 0, '_tf_random_seed': None, '_master': '', '_num_worker_replicas': 1, '_task_id': 0, '_log_step_count_steps': 100, '_model_dir': 'taxi_trained', '_save_summary_steps': 100}\n",
      "INFO:tensorflow:Create CheckpointSaverHook.\n",
      "INFO:tensorflow:Saving checkpoints for 1 into taxi_trained/model.ckpt.\n",
      "INFO:tensorflow:loss = 25852.816, step = 1\n",
      "INFO:tensorflow:global_step/sec: 305.207\n",
      "INFO:tensorflow:loss = 12252.382, step = 101 (0.333 sec)\n",
      "INFO:tensorflow:global_step/sec: 313.986\n",
      "INFO:tensorflow:loss = 10138.859, step = 201 (0.319 sec)\n",
      "INFO:tensorflow:global_step/sec: 303.403\n",
      "INFO:tensorflow:loss = 13323.633, step = 301 (0.329 sec)\n",
      "INFO:tensorflow:global_step/sec: 341.288\n",
      "INFO:tensorflow:loss = 16149.831, step = 401 (0.292 sec)\n",
      "INFO:tensorflow:global_step/sec: 360.929\n",
      "INFO:tensorflow:loss = 6157.781, step = 501 (0.277 sec)\n",
      "INFO:tensorflow:global_step/sec: 299.387\n",
      "INFO:tensorflow:loss = 13079.977, step = 601 (0.335 sec)\n",
      "INFO:tensorflow:Saving checkpoints for 608 into taxi_trained/model.ckpt.\n",
      "INFO:tensorflow:Loss for final step: 1243.8893.\n"
     ]
    },
    {
     "data": {
      "text/plain": [
       "<tensorflow.python.estimator.canned.linear.LinearRegressor at 0x7fcd1c55f610>"
      ]
     },
     "execution_count": 6,
     "metadata": {},
     "output_type": "execute_result"
    }
   ],
   "source": [
    "tf.logging.set_verbosity(tf.logging.INFO)\n",
    "\n",
    "OUTDIR = 'taxi_trained'\n",
    "shutil.rmtree(OUTDIR, ignore_errors = True) # start fresh each time\n",
    "\n",
    "model = tf.estimator.LinearRegressor(\n",
    "      feature_columns = make_feature_cols(), model_dir = OUTDIR)\n",
    "\n",
    "model.train(input_fn = make_input_fn(df_train, num_epochs = 10))"
   ]
  },
  {
   "cell_type": "markdown",
   "metadata": {},
   "source": [
    "Evaluate on the validation data (we should defer using the test data to after we have selected a final model)."
   ]
  },
  {
   "cell_type": "code",
   "execution_count": 7,
   "metadata": {
    "collapsed": false
   },
   "outputs": [
    {
     "data": {
      "text/html": [
       "\n",
       "          <script src=\"/static/components/requirejs/require.js\"></script>\n",
       "          <script>\n",
       "            requirejs.config({\n",
       "              paths: {\n",
       "                base: '/static/base',\n",
       "              },\n",
       "            });\n",
       "          </script>\n",
       "          "
      ],
      "text/plain": [
       "<IPython.core.display.HTML object>"
      ]
     },
     "metadata": {},
     "output_type": "display_data"
    },
    {
     "name": "stdout",
     "output_type": "stream",
     "text": [
      "INFO:tensorflow:Starting evaluation at 2018-02-05-20:43:27\n",
      "INFO:tensorflow:Restoring parameters from taxi_trained/model.ckpt-608\n",
      "INFO:tensorflow:Finished evaluation at 2018-02-05-20:43:27\n",
      "INFO:tensorflow:Saving dict for global step 608: average_loss = 110.25499, global_step = 608, loss = 13112.469\n",
      "RMSE on validation dataset = 10.5002374649\n"
     ]
    }
   ],
   "source": [
    "def print_rmse(model, name, df):\n",
    "  metrics = model.evaluate(input_fn = make_input_fn(df, 1))\n",
    "  print 'RMSE on {} dataset = {}'.format(name, np.sqrt(metrics['average_loss']))\n",
    "print_rmse(model, 'validation', df_valid)"
   ]
  },
  {
   "cell_type": "markdown",
   "metadata": {},
   "source": [
    "This is nowhere near our benchmark (RMSE of $6 or so on this data), but it serves to demonstrate what TensorFlow code looks like.  Let's use this model for prediction."
   ]
  },
  {
   "cell_type": "code",
   "execution_count": 8,
   "metadata": {
    "collapsed": false
   },
   "outputs": [
    {
     "data": {
      "text/html": [
       "\n",
       "          <script src=\"/static/components/requirejs/require.js\"></script>\n",
       "          <script>\n",
       "            requirejs.config({\n",
       "              paths: {\n",
       "                base: '/static/base',\n",
       "              },\n",
       "            });\n",
       "          </script>\n",
       "          "
      ],
      "text/plain": [
       "<IPython.core.display.HTML object>"
      ]
     },
     "metadata": {},
     "output_type": "display_data"
    },
    {
     "name": "stdout",
     "output_type": "stream",
     "text": [
      "INFO:tensorflow:Using default config.\n",
      "INFO:tensorflow:Using config: {'_save_checkpoints_secs': 600, '_session_config': None, '_keep_checkpoint_max': 5, '_task_type': 'worker', '_is_chief': True, '_cluster_spec': <tensorflow.python.training.server_lib.ClusterSpec object at 0x7fcd4ef59dd0>, '_save_checkpoints_steps': None, '_keep_checkpoint_every_n_hours': 10000, '_service': None, '_num_ps_replicas': 0, '_tf_random_seed': None, '_master': '', '_num_worker_replicas': 1, '_task_id': 0, '_log_step_count_steps': 100, '_model_dir': 'taxi_trained', '_save_summary_steps': 100}\n",
      "INFO:tensorflow:Restoring parameters from taxi_trained/model.ckpt-608\n",
      "[10.48682, 10.427973, 10.426574, 10.722586, 10.429764]\n"
     ]
    }
   ],
   "source": [
    "import itertools\n",
    "# Read saved model and use it for prediction\n",
    "model = tf.estimator.LinearRegressor(\n",
    "      feature_columns = make_feature_cols(), model_dir = OUTDIR)\n",
    "preds_iter = model.predict(input_fn = make_input_fn(df_valid, 1))\n",
    "print [pred['predictions'][0] for pred in list(itertools.islice(preds_iter, 5))]"
   ]
  },
  {
   "cell_type": "markdown",
   "metadata": {},
   "source": [
    "This explains why the RMSE was so high -- the model essentially predicts $11 for every trip.  Would a more complex model help? Let's try using a deep neural network.  The code to do this is quite straightforward as well."
   ]
  },
  {
   "cell_type": "markdown",
   "metadata": {},
   "source": [
    "<h3> Deep Neural Network regression </h3>"
   ]
  },
  {
   "cell_type": "code",
   "execution_count": 9,
   "metadata": {
    "collapsed": false
   },
   "outputs": [
    {
     "data": {
      "text/html": [
       "\n",
       "          <script src=\"/static/components/requirejs/require.js\"></script>\n",
       "          <script>\n",
       "            requirejs.config({\n",
       "              paths: {\n",
       "                base: '/static/base',\n",
       "              },\n",
       "            });\n",
       "          </script>\n",
       "          "
      ],
      "text/plain": [
       "<IPython.core.display.HTML object>"
      ]
     },
     "metadata": {},
     "output_type": "display_data"
    },
    {
     "name": "stdout",
     "output_type": "stream",
     "text": [
      "INFO:tensorflow:Using default config.\n",
      "INFO:tensorflow:Using config: {'_save_checkpoints_secs': 600, '_session_config': None, '_keep_checkpoint_max': 5, '_task_type': 'worker', '_is_chief': True, '_cluster_spec': <tensorflow.python.training.server_lib.ClusterSpec object at 0x7fccf87d4dd0>, '_save_checkpoints_steps': None, '_keep_checkpoint_every_n_hours': 10000, '_service': None, '_num_ps_replicas': 0, '_tf_random_seed': None, '_master': '', '_num_worker_replicas': 1, '_task_id': 0, '_log_step_count_steps': 100, '_model_dir': 'taxi_trained', '_save_summary_steps': 100}\n",
      "INFO:tensorflow:Create CheckpointSaverHook.\n",
      "INFO:tensorflow:Saving checkpoints for 1 into taxi_trained/model.ckpt.\n",
      "INFO:tensorflow:loss = 32471.47, step = 1\n",
      "INFO:tensorflow:global_step/sec: 240.569\n",
      "INFO:tensorflow:loss = 17998.324, step = 101 (0.421 sec)\n",
      "INFO:tensorflow:global_step/sec: 309.2\n",
      "INFO:tensorflow:loss = 23167.19, step = 201 (0.324 sec)\n",
      "INFO:tensorflow:global_step/sec: 296.956\n",
      "INFO:tensorflow:loss = 23005.875, step = 301 (0.336 sec)\n",
      "INFO:tensorflow:global_step/sec: 282.346\n",
      "INFO:tensorflow:loss = 11667.685, step = 401 (0.354 sec)\n",
      "INFO:tensorflow:global_step/sec: 281.662\n",
      "INFO:tensorflow:loss = 23174.04, step = 501 (0.356 sec)\n",
      "INFO:tensorflow:global_step/sec: 298.316\n",
      "INFO:tensorflow:loss = 20773.418, step = 601 (0.334 sec)\n",
      "INFO:tensorflow:global_step/sec: 335.961\n",
      "INFO:tensorflow:loss = 15657.736, step = 701 (0.298 sec)\n",
      "INFO:tensorflow:global_step/sec: 330.45\n",
      "INFO:tensorflow:loss = 17090.578, step = 801 (0.302 sec)\n",
      "INFO:tensorflow:global_step/sec: 318.305\n",
      "INFO:tensorflow:loss = 28007.473, step = 901 (0.318 sec)\n",
      "INFO:tensorflow:global_step/sec: 329.967\n",
      "INFO:tensorflow:loss = 11607.628, step = 1001 (0.299 sec)\n",
      "INFO:tensorflow:global_step/sec: 319.733\n",
      "INFO:tensorflow:loss = 22202.09, step = 1101 (0.312 sec)\n",
      "INFO:tensorflow:global_step/sec: 314.695\n",
      "INFO:tensorflow:loss = 12409.344, step = 1201 (0.318 sec)\n",
      "INFO:tensorflow:global_step/sec: 269.851\n",
      "INFO:tensorflow:loss = 15602.768, step = 1301 (0.370 sec)\n",
      "INFO:tensorflow:global_step/sec: 309.784\n",
      "INFO:tensorflow:loss = 12694.72, step = 1401 (0.323 sec)\n",
      "INFO:tensorflow:global_step/sec: 341.153\n",
      "INFO:tensorflow:loss = 13459.566, step = 1501 (0.294 sec)\n",
      "INFO:tensorflow:global_step/sec: 238.721\n",
      "INFO:tensorflow:loss = 12110.238, step = 1601 (0.415 sec)\n",
      "INFO:tensorflow:global_step/sec: 243.27\n",
      "INFO:tensorflow:loss = 15462.74, step = 1701 (0.410 sec)\n",
      "INFO:tensorflow:global_step/sec: 282.052\n",
      "INFO:tensorflow:loss = 13950.765, step = 1801 (0.358 sec)\n",
      "INFO:tensorflow:global_step/sec: 326.125\n",
      "INFO:tensorflow:loss = 9715.773, step = 1901 (0.310 sec)\n",
      "INFO:tensorflow:global_step/sec: 296.548\n",
      "INFO:tensorflow:loss = 25318.795, step = 2001 (0.331 sec)\n",
      "INFO:tensorflow:global_step/sec: 280.793\n",
      "INFO:tensorflow:loss = 20251.715, step = 2101 (0.360 sec)\n",
      "INFO:tensorflow:global_step/sec: 248.873\n",
      "INFO:tensorflow:loss = 17330.844, step = 2201 (0.401 sec)\n",
      "INFO:tensorflow:global_step/sec: 267.496\n",
      "INFO:tensorflow:loss = 17784.695, step = 2301 (0.370 sec)\n",
      "INFO:tensorflow:global_step/sec: 268.542\n",
      "INFO:tensorflow:loss = 14848.992, step = 2401 (0.373 sec)\n",
      "INFO:tensorflow:global_step/sec: 238.721\n",
      "INFO:tensorflow:loss = 12490.781, step = 2501 (0.419 sec)\n",
      "INFO:tensorflow:global_step/sec: 286.301\n",
      "INFO:tensorflow:loss = 23895.914, step = 2601 (0.353 sec)\n",
      "INFO:tensorflow:global_step/sec: 284.662\n",
      "INFO:tensorflow:loss = 14590.826, step = 2701 (0.347 sec)\n",
      "INFO:tensorflow:global_step/sec: 242.192\n",
      "INFO:tensorflow:loss = 14569.906, step = 2801 (0.413 sec)\n",
      "INFO:tensorflow:global_step/sec: 272.558\n",
      "INFO:tensorflow:loss = 10338.582, step = 2901 (0.367 sec)\n",
      "INFO:tensorflow:global_step/sec: 270.94\n",
      "INFO:tensorflow:loss = 10489.38, step = 3001 (0.369 sec)\n",
      "INFO:tensorflow:global_step/sec: 321.116\n",
      "INFO:tensorflow:loss = 10734.01, step = 3101 (0.314 sec)\n",
      "INFO:tensorflow:global_step/sec: 287.185\n",
      "INFO:tensorflow:loss = 24111.967, step = 3201 (0.345 sec)\n",
      "INFO:tensorflow:global_step/sec: 300.732\n",
      "INFO:tensorflow:loss = 20090.885, step = 3301 (0.333 sec)\n",
      "INFO:tensorflow:global_step/sec: 311.426\n",
      "INFO:tensorflow:loss = 17426.934, step = 3401 (0.323 sec)\n",
      "INFO:tensorflow:global_step/sec: 294.204\n",
      "INFO:tensorflow:loss = 9695.879, step = 3501 (0.337 sec)\n",
      "INFO:tensorflow:global_step/sec: 291.603\n",
      "INFO:tensorflow:loss = 11087.705, step = 3601 (0.343 sec)\n",
      "INFO:tensorflow:global_step/sec: 297.047\n",
      "INFO:tensorflow:loss = 8508.722, step = 3701 (0.342 sec)\n",
      "INFO:tensorflow:global_step/sec: 353.471\n",
      "INFO:tensorflow:loss = 17207.342, step = 3801 (0.284 sec)\n",
      "INFO:tensorflow:global_step/sec: 297.231\n",
      "INFO:tensorflow:loss = 14557.804, step = 3901 (0.330 sec)\n",
      "INFO:tensorflow:global_step/sec: 260.743\n",
      "INFO:tensorflow:loss = 18361.387, step = 4001 (0.384 sec)\n",
      "INFO:tensorflow:global_step/sec: 328.101\n",
      "INFO:tensorflow:loss = 10464.152, step = 4101 (0.305 sec)\n",
      "INFO:tensorflow:global_step/sec: 258.227\n",
      "INFO:tensorflow:loss = 12985.091, step = 4201 (0.390 sec)\n",
      "INFO:tensorflow:global_step/sec: 270.593\n",
      "INFO:tensorflow:loss = 12612.2, step = 4301 (0.370 sec)\n",
      "INFO:tensorflow:global_step/sec: 268.192\n",
      "INFO:tensorflow:loss = 9630.404, step = 4401 (0.372 sec)\n",
      "INFO:tensorflow:global_step/sec: 293.007\n",
      "INFO:tensorflow:loss = 14758.6455, step = 4501 (0.342 sec)\n",
      "INFO:tensorflow:global_step/sec: 284.753\n",
      "INFO:tensorflow:loss = 16528.385, step = 4601 (0.350 sec)\n",
      "INFO:tensorflow:global_step/sec: 253.435\n",
      "INFO:tensorflow:loss = 13867.5625, step = 4701 (0.395 sec)\n",
      "INFO:tensorflow:global_step/sec: 300.949\n",
      "INFO:tensorflow:loss = 14117.722, step = 4801 (0.335 sec)\n",
      "INFO:tensorflow:global_step/sec: 275.496\n",
      "INFO:tensorflow:loss = 18025.336, step = 4901 (0.358 sec)\n",
      "INFO:tensorflow:global_step/sec: 275.955\n",
      "INFO:tensorflow:loss = 14940.004, step = 5001 (0.362 sec)\n",
      "INFO:tensorflow:global_step/sec: 301.418\n",
      "INFO:tensorflow:loss = 22703.79, step = 5101 (0.335 sec)\n",
      "INFO:tensorflow:global_step/sec: 258.059\n",
      "INFO:tensorflow:loss = 7988.2695, step = 5201 (0.387 sec)\n",
      "INFO:tensorflow:global_step/sec: 314.416\n",
      "INFO:tensorflow:loss = 7107.9404, step = 5301 (0.319 sec)\n",
      "INFO:tensorflow:global_step/sec: 297.562\n",
      "INFO:tensorflow:loss = 15334.482, step = 5401 (0.331 sec)\n",
      "INFO:tensorflow:global_step/sec: 300.281\n",
      "INFO:tensorflow:loss = 17489.832, step = 5501 (0.337 sec)\n",
      "INFO:tensorflow:global_step/sec: 308.308\n",
      "INFO:tensorflow:loss = 16236.942, step = 5601 (0.325 sec)\n",
      "INFO:tensorflow:global_step/sec: 328.019\n",
      "INFO:tensorflow:loss = 10559.064, step = 5701 (0.301 sec)\n",
      "INFO:tensorflow:global_step/sec: 277.148\n",
      "INFO:tensorflow:loss = 17993.58, step = 5801 (0.364 sec)\n",
      "INFO:tensorflow:global_step/sec: 304.041\n",
      "INFO:tensorflow:loss = 9339.777, step = 5901 (0.326 sec)\n",
      "INFO:tensorflow:global_step/sec: 227.847\n",
      "INFO:tensorflow:loss = 19123.969, step = 6001 (0.439 sec)\n",
      "INFO:tensorflow:Saving checkpoints for 6071 into taxi_trained/model.ckpt.\n",
      "INFO:tensorflow:Loss for final step: 5693.2637.\n",
      "INFO:tensorflow:Starting evaluation at 2018-02-05-20:43:50\n",
      "INFO:tensorflow:Restoring parameters from taxi_trained/model.ckpt-6071\n",
      "INFO:tensorflow:Finished evaluation at 2018-02-05-20:43:50\n",
      "INFO:tensorflow:Saving dict for global step 6071: average_loss = 134.98488, global_step = 6071, loss = 16053.56\n",
      "RMSE on validation dataset = 11.6182994843\n"
     ]
    }
   ],
   "source": [
    "tf.logging.set_verbosity(tf.logging.INFO)\n",
    "shutil.rmtree(OUTDIR, ignore_errors = True) # start fresh each time\n",
    "model = tf.estimator.DNNRegressor(hidden_units = [32, 8, 2],\n",
    "      feature_columns = make_feature_cols(), model_dir = OUTDIR)\n",
    "model.train(input_fn = make_input_fn(df_train, num_epochs = 100));\n",
    "print_rmse(model, 'validation', df_valid)"
   ]
  },
  {
   "cell_type": "markdown",
   "metadata": {},
   "source": [
    "We are not beating our benchmark with either model ... what's up?  Well, we may be using TensorFlow for Machine Learning, but we are not yet using it well.  That's what the rest of this course is about!\n",
    "\n",
    "But, for the record, let's say we had to choose between the two models. We'd choose the one with the lower validation error. Finally, we'd measure the RMSE on the test data with this chosen model."
   ]
  },
  {
   "cell_type": "markdown",
   "metadata": {},
   "source": [
    "<h2> Benchmark dataset </h2>\n",
    "\n",
    "Let's do this on the benchmark dataset."
   ]
  },
  {
   "cell_type": "code",
   "execution_count": 10,
   "metadata": {
    "collapsed": false
   },
   "outputs": [
    {
     "data": {
      "text/html": [
       "\n",
       "          <script src=\"/static/components/requirejs/require.js\"></script>\n",
       "          <script>\n",
       "            requirejs.config({\n",
       "              paths: {\n",
       "                base: '/static/base',\n",
       "              },\n",
       "            });\n",
       "          </script>\n",
       "          "
      ],
      "text/plain": [
       "<IPython.core.display.HTML object>"
      ]
     },
     "metadata": {},
     "output_type": "display_data"
    }
   ],
   "source": [
    "import datalab.bigquery as bq\n",
    "import numpy as np\n",
    "import pandas as pd\n",
    "\n",
    "\n",
    "def create_query(phase, EVERY_N):\n",
    "  \"\"\"\n",
    "  phase: 1 = train 2 = valid\n",
    "  \"\"\"\n",
    "  base_query = \"\"\"\n",
    "SELECT\n",
    "  (tolls_amount + fare_amount) AS fare_amount,\n",
    "  CONCAT(STRING(pickup_datetime), STRING(pickup_longitude), STRING(pickup_latitude), STRING(dropoff_latitude), STRING(dropoff_longitude)) AS key,\n",
    "  DAYOFWEEK(pickup_datetime)*1.0 AS dayofweek,\n",
    "  HOUR(pickup_datetime)*1.0 AS hourofday,\n",
    "  pickup_longitude AS pickuplon,\n",
    "  pickup_latitude AS pickuplat,\n",
    "  dropoff_longitude AS dropofflon,\n",
    "  dropoff_latitude AS dropofflat,\n",
    "  passenger_count*1.0 AS passengers,\n",
    "FROM\n",
    "  [nyc-tlc:yellow.trips]\n",
    "WHERE\n",
    "  trip_distance > 0\n",
    "  AND fare_amount >= 2.5\n",
    "  AND pickup_longitude > -78\n",
    "  AND pickup_longitude < -70\n",
    "  AND dropoff_longitude > -78\n",
    "  AND dropoff_longitude < -70\n",
    "  AND pickup_latitude > 37\n",
    "  AND pickup_latitude < 45\n",
    "  AND dropoff_latitude > 37\n",
    "  AND dropoff_latitude < 45\n",
    "  AND passenger_count > 0\n",
    "  \"\"\"\n",
    "\n",
    "  if EVERY_N == None:\n",
    "    if phase < 2:\n",
    "      # Training\n",
    "      query = \"{0} AND ABS(HASH(pickup_datetime)) % 4 < 2\".format(base_query)\n",
    "    else:\n",
    "      # Validation\n",
    "      query = \"{0} AND ABS(HASH(pickup_datetime)) % 4 == {1}\".format(base_query, phase)\n",
    "  else:\n",
    "    query = \"{0} AND ABS(HASH(pickup_datetime)) % {1} == {2}\".format(base_query, EVERY_N, phase)\n",
    "    \n",
    "  return query\n",
    "\n",
    "query = create_query(2, 100000)\n",
    "df = bq.Query(query).to_dataframe()"
   ]
  },
  {
   "cell_type": "code",
   "execution_count": 11,
   "metadata": {
    "collapsed": false
   },
   "outputs": [
    {
     "data": {
      "text/html": [
       "\n",
       "          <script src=\"/static/components/requirejs/require.js\"></script>\n",
       "          <script>\n",
       "            requirejs.config({\n",
       "              paths: {\n",
       "                base: '/static/base',\n",
       "              },\n",
       "            });\n",
       "          </script>\n",
       "          "
      ],
      "text/plain": [
       "<IPython.core.display.HTML object>"
      ]
     },
     "metadata": {},
     "output_type": "display_data"
    },
    {
     "name": "stdout",
     "output_type": "stream",
     "text": [
      "INFO:tensorflow:Starting evaluation at 2018-02-05-20:43:59\n",
      "INFO:tensorflow:Restoring parameters from taxi_trained/model.ckpt-6071\n",
      "INFO:tensorflow:Finished evaluation at 2018-02-05-20:43:59\n",
      "INFO:tensorflow:Saving dict for global step 6071: average_loss = 111.44749, global_step = 6071, loss = 14165.261\n",
      "RMSE on benchmark dataset = 10.5568695068\n"
     ]
    }
   ],
   "source": [
    "print_rmse(model, 'benchmark', df)"
   ]
  },
  {
   "cell_type": "markdown",
   "metadata": {},
   "source": [
    "RMSE on benchmark dataset is <b>10.56</b> (your results will vary because of random seeds).\n",
    "\n",
    "This is not only way more than our original benchmark of 6.00, but it doesn't even beat our distance-based rule's RMSE of 8.02.\n",
    "\n",
    "Fear not -- you have learned how to write a TensorFlow model, but not to do all the things that you will have to do to your ML model performant. We will do this in the next chapters. In this chapter though, we will get our TensorFlow model ready for these improvements.\n",
    "\n",
    "In a software sense, the rest of the labs in this chapter will be about refactoring the code so that we can improve it."
   ]
  },
  {
   "cell_type": "markdown",
   "metadata": {},
   "source": [
    "Copyright 2017 Google Inc. Licensed under the Apache License, Version 2.0 (the \"License\"); you may not use this file except in compliance with the License. You may obtain a copy of the License at http://www.apache.org/licenses/LICENSE-2.0 Unless required by applicable law or agreed to in writing, software distributed under the License is distributed on an \"AS IS\" BASIS, WITHOUT WARRANTIES OR CONDITIONS OF ANY KIND, either express or implied. See the License for the specific language governing permissions and limitations under the License"
   ]
  }
 ],
 "metadata": {
  "kernelspec": {
   "display_name": "Python 2",
   "language": "python",
   "name": "python2"
  },
  "language_info": {
   "codemirror_mode": {
    "name": "ipython",
    "version": 2
   },
   "file_extension": ".py",
   "mimetype": "text/x-python",
   "name": "python",
   "nbconvert_exporter": "python",
   "pygments_lexer": "ipython2",
   "version": "2.7.12"
  }
 },
 "nbformat": 4,
 "nbformat_minor": 0
}
