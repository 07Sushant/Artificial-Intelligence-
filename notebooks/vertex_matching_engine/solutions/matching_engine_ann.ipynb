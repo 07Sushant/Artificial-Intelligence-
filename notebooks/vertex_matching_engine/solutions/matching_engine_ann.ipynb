{
 "cells": [
  {
   "cell_type": "markdown",
   "id": "12923fca-ea11-4176-a552-133c19b766ce",
   "metadata": {},
   "source": [
    "### Vertex AI Matching Engine (ANN) for Movie Overview Similarity\n",
    "\n",
    "In this lab you will use Vertex AI Matching Engine (Approximate Nearest Neighbors) to do performant, low-latency similary matching based on vectors. The vectors used in this lab are embeddings of movie descriptions generated with Google's Universal Sentence Encoder. \n",
    "\n",
    "Learning Objectives:\n",
    "* Learn how to create an index to Vertex AI Matching Engine\n",
    "* Learned how to create an index endpoint and deploy an index to it "
   ]
  },
  {
   "cell_type": "markdown",
   "id": "29bc27a0-f79a-47ed-959e-a8afb333b8e8",
   "metadata": {},
   "source": [
    "#### Before you begin\n",
    "In Google Cloud console, open a **Cloud Shell** and run the following command to enable the Service Networking API      \n",
    "\n",
    "\n",
    "`gcloud services enable servicenetworking.googleapis.com`\n"
   ]
  },
  {
   "cell_type": "markdown",
   "id": "51f3d7b7-a8cd-4f55-b046-5e2dce5d3cb2",
   "metadata": {},
   "source": [
    "**Cloud IAM**: Navigate to IAM in the Google Cloud Console and add the role of Compute Network Admin to your Default Compute Engine Service Account"
   ]
  },
  {
   "cell_type": "markdown",
   "id": "1ba28695-56c5-4d17-9103-14325a2da5af",
   "metadata": {},
   "source": [
    "#### Setup"
   ]
  },
  {
   "cell_type": "code",
   "execution_count": 1,
   "id": "a358b953-05ae-449a-8a2e-ac63b5a06cde",
   "metadata": {},
   "outputs": [
    {
     "name": "stdout",
     "output_type": "stream",
     "text": [
      "env: PROJECT=kylesteckler-demo\n",
      "env: BUCKET=kylesteckler-demo-matching-engine\n",
      "env: REGION=us-central1\n",
      "env: NETWORK_NAME=vertex-matching-engine-vpc-network\n",
      "env: PEERING_RANGE_NAME=ip-range-1\n"
     ]
    }
   ],
   "source": [
    "PROJECT = !(gcloud config get-value core/project)\n",
    "PROJECT = PROJECT[0]\n",
    "BUCKET = f\"{PROJECT}-matching-engine\"\n",
    "REGION = \"us-central1\"\n",
    "NETWORK_NAME = \"vertex-matching-engine-vpc-network\"\n",
    "PEERING_RANGE_NAME = \"ip-range-1\"\n",
    "\n",
    "%env PROJECT={PROJECT}\n",
    "%env BUCKET={BUCKET}\n",
    "%env REGION={REGION}\n",
    "%env NETWORK_NAME={NETWORK_NAME}\n",
    "%env PEERING_RANGE_NAME={PEERING_RANGE_NAME}"
   ]
  },
  {
   "cell_type": "markdown",
   "id": "9bd53231-bbc2-4f17-966f-3ea488937fb4",
   "metadata": {},
   "source": [
    "### Setup VPC Network\n",
    "To reduce network latency for vector matching online queries, call the Vertex AI service endpoints from your Virtual Private Cloud (VPC) by using Private Service Access. For each Google Cloud project, only one VPC network can be peered with Matching Engine. If you already have a VPC with private services access configured, you can use that VPC to peer with Vertex AI Matching Engine.\n",
    "\n",
    "Configuring a VPC Network Peering connection is an initial task required only one time per Google Cloud project. After this setup is done, you can make calls to the Matching Engine index from any client running inside your VPC.\n",
    "\n",
    "The VPC Network Peering connection is required only for vector matching online queries. API calls to create, deploy, and delete indexes do not require a VPC Network Peering connection."
   ]
  },
  {
   "cell_type": "markdown",
   "id": "d3c2073d-5093-497b-b6b0-38451374b73a",
   "metadata": {},
   "source": [
    "The following cell does the following:\n",
    "* Creates the VPC network \n",
    "* Allows VPC network ICMP, RDP on TCP port 3389, SSH on TCP port 22, and internal traffic to Google service on range 10.128.0.0/9\n",
    "* Reserve an IP range\n",
    "\n",
    "**NOTE** It can take 2-3 minutes for this to complete."
   ]
  },
  {
   "cell_type": "code",
   "execution_count": 2,
   "id": "0946e5c0-5e02-4e3f-b788-60cbbc6e83db",
   "metadata": {},
   "outputs": [
    {
     "name": "stdout",
     "output_type": "stream",
     "text": [
      "NAME                                SUBNET_MODE  BGP_ROUTING_MODE  IPV4_RANGE  GATEWAY_IPV4\n",
      "vertex-matching-engine-vpc-network  AUTO         REGIONAL\n",
      "NAME                                           NETWORK                             DIRECTION  PRIORITY  ALLOW  DENY  DISABLED\n",
      "vertex-matching-engine-vpc-network-allow-icmp  vertex-matching-engine-vpc-network  INGRESS    65534     icmp         False\n",
      "NAME                                               NETWORK                             DIRECTION  PRIORITY  ALLOW  DENY  DISABLED\n",
      "vertex-matching-engine-vpc-network-allow-internal  vertex-matching-engine-vpc-network  INGRESS    65534     all          False\n",
      "NAME                                          NETWORK                             DIRECTION  PRIORITY  ALLOW     DENY  DISABLED\n",
      "vertex-matching-engine-vpc-network-allow-rdp  vertex-matching-engine-vpc-network  INGRESS    65534     tcp:3389        False\n",
      "NAME                                          NETWORK                             DIRECTION  PRIORITY  ALLOW   DENY  DISABLED\n",
      "vertex-matching-engine-vpc-network-allow-ssh  vertex-matching-engine-vpc-network  INGRESS    65534     tcp:22        False\n"
     ]
    },
    {
     "name": "stderr",
     "output_type": "stream",
     "text": [
      "Created [https://www.googleapis.com/compute/v1/projects/kylesteckler-demo/global/networks/vertex-matching-engine-vpc-network].\n",
      "\n",
      "Instances on this network will not be reachable until firewall rules\n",
      "are created. As an example, you can allow all internal traffic between\n",
      "instances as well as SSH, RDP, and ICMP by running:\n",
      "\n",
      "$ gcloud compute firewall-rules create <FIREWALL_NAME> --network vertex-matching-engine-vpc-network --allow tcp,udp,icmp --source-ranges <IP_RANGE>\n",
      "$ gcloud compute firewall-rules create <FIREWALL_NAME> --network vertex-matching-engine-vpc-network --allow tcp:22,tcp:3389,icmp\n",
      "\n",
      "Creating firewall...\n",
      "..Created [https://www.googleapis.com/compute/v1/projects/kylesteckler-demo/global/firewalls/vertex-matching-engine-vpc-network-allow-icmp].\n",
      "done.\n",
      "Creating firewall...\n",
      "..Created [https://www.googleapis.com/compute/v1/projects/kylesteckler-demo/global/firewalls/vertex-matching-engine-vpc-network-allow-internal].\n",
      "done.\n",
      "Creating firewall...\n",
      "..Created [https://www.googleapis.com/compute/v1/projects/kylesteckler-demo/global/firewalls/vertex-matching-engine-vpc-network-allow-rdp].\n",
      "done.\n",
      "Creating firewall...\n",
      "..Created [https://www.googleapis.com/compute/v1/projects/kylesteckler-demo/global/firewalls/vertex-matching-engine-vpc-network-allow-ssh].\n",
      "done.\n",
      "Created [https://www.googleapis.com/compute/v1/projects/kylesteckler-demo/global/addresses/ip-range-1].\n",
      "Operation \"operations/pssn.p24-693210680039-a7c90abb-f268-43e7-be38-9558cdd52ec1\" finished successfully.\n"
     ]
    }
   ],
   "source": [
    "%%bash\n",
    "gcloud compute networks create ${NETWORK_NAME} \\\n",
    "    --bgp-routing-mode=regional\n",
    "\n",
    "gcloud compute firewall-rules create ${NETWORK_NAME}-allow-icmp \\\n",
    "    --network ${NETWORK_NAME} \\\n",
    "    --priority 65534 \\\n",
    "    --project ${PROJECT} \\\n",
    "    --allow icmp\n",
    "\n",
    "gcloud compute firewall-rules create ${NETWORK_NAME}-allow-internal \\\n",
    "    --network ${NETWORK_NAME} \\\n",
    "    --priority 65534 \\\n",
    "    --project ${PROJECT} \\\n",
    "    --allow all \\\n",
    "    --source-ranges 10.128.0.0/9\n",
    "\n",
    "gcloud compute firewall-rules create ${NETWORK_NAME}-allow-rdp \\\n",
    "    --network ${NETWORK_NAME} \\\n",
    "    --priority 65534 \\\n",
    "    --project ${PROJECT} \\\n",
    "    --allow tcp:3389\n",
    "\n",
    "gcloud compute firewall-rules create ${NETWORK_NAME}-allow-ssh \\\n",
    "    --network ${NETWORK_NAME} \\\n",
    "    --priority 65534 \\\n",
    "    --project ${PROJECT} \\\n",
    "    --allow tcp:22\n",
    "\n",
    "gcloud compute addresses create ${PEERING_RANGE_NAME} \\\n",
    "  --global --prefix-length=16 \\\n",
    "  --network=${NETWORK_NAME} \\\n",
    "  --purpose=VPC_PEERING \\\n",
    "  --project=${PROJECT}\n",
    "\n",
    "gcloud services vpc-peerings connect \\\n",
    "  --service=servicenetworking.googleapis.com \\\n",
    "  --network=${NETWORK_NAME} \\\n",
    "  --ranges=${PEERING_RANGE_NAME} "
   ]
  },
  {
   "cell_type": "markdown",
   "id": "c75af9b5-9cce-48c8-a8d7-c7f6824b3a2a",
   "metadata": {},
   "source": [
    "### Vertex AI Matching Engine\n",
    "Vertex AI Matching Engine provides the industry's leading high scale, low latency, vector-similarity matching (also known as approximate nearest neighbor) service. Matching Engine provides tooling to build use cases that entail matching semantically similar items. More specifically, given a query item, Matching Engine finds the most semantically similar items to it from a large corpus of candidate items. At a high level, the process of using Matching Engine is as follows:\n",
    "* Create vectors\n",
    "* Create an Index\n",
    "* Create an Endpoint\n",
    "* Deploy index to endpoint"
   ]
  },
  {
   "cell_type": "markdown",
   "id": "f28ae69f-dc28-415f-9f18-4ca6fd5b6e7e",
   "metadata": {},
   "source": [
    "#### Creating Vectors\n",
    "Vertex AI Matching Engine provides tooling to generate vector representations of items. More information on this specific tooling can be found [here](https://cloud.google.com/vertex-ai/docs/matching-engine/train-embeddings-two-tower).\n",
    "\n",
    "You can also bring your own embeddings/vectors and simply leverage the ANN service. In this lab we will use the embeddings created by sending movie overviews through Google's Universal Sentence Encoder. These vectors are of length 512. "
   ]
  },
  {
   "cell_type": "code",
   "execution_count": 3,
   "id": "dcfaab0f-412b-4147-95db-4dc392883ff8",
   "metadata": {},
   "outputs": [
    {
     "name": "stdout",
     "output_type": "stream",
     "text": [
      "Creating gs://kylesteckler-demo-matching-engine/...\n"
     ]
    }
   ],
   "source": [
    "# Create regional GCS bucket\n",
    "!gsutil mb -l {REGION} gs://{BUCKET}"
   ]
  },
  {
   "cell_type": "code",
   "execution_count": 4,
   "id": "d5e9f824-dda6-47ff-ab7a-44c989c0664d",
   "metadata": {},
   "outputs": [
    {
     "name": "stdout",
     "output_type": "stream",
     "text": [
      "Copying gs://asl-public/data/movie-descriptions/index-data/embeddings-00000-of-00009.json [Content-Type=text/plain]...\n",
      "Copying gs://asl-public/data/movie-descriptions/index-data/embeddings-00001-of-00009.json [Content-Type=text/plain]...\n",
      "Copying gs://asl-public/data/movie-descriptions/index-data/embeddings-00002-of-00009.json [Content-Type=text/plain]...\n",
      "Copying gs://asl-public/data/movie-descriptions/index-data/embeddings-00003-of-00009.json [Content-Type=text/plain]...\n",
      "Copying gs://asl-public/data/movie-descriptions/index-data/embeddings-00005-of-00009.json [Content-Type=text/plain]...\n",
      "Copying gs://asl-public/data/movie-descriptions/index-data/embeddings-00004-of-00009.json [Content-Type=text/plain]...\n",
      "Copying gs://asl-public/data/movie-descriptions/index-data/embeddings-00006-of-00009.json [Content-Type=text/plain]...\n",
      "Copying gs://asl-public/data/movie-descriptions/index-data/embeddings-00008-of-00009.json [Content-Type=text/plain]...\n",
      "Copying gs://asl-public/data/movie-descriptions/index-data/embeddings-00007-of-00009.json [Content-Type=text/plain]...\n",
      "/ [9/9 files][371.8 MiB/371.8 MiB] 100% Done                                    \n",
      "Operation completed over 9 objects/371.8 MiB.                                    \n"
     ]
    }
   ],
   "source": [
    "# Copy the data to your bucket\n",
    "!gsutil -m cp gs://asl-public/data/movie-descriptions/index-data/* gs://{BUCKET}/data"
   ]
  },
  {
   "cell_type": "code",
   "execution_count": 5,
   "id": "436c147b-172f-45fe-9da8-4e04ea6fa672",
   "metadata": {},
   "outputs": [
    {
     "name": "stdout",
     "output_type": "stream",
     "text": [
      "  30774898  2022-06-27T21:56:59Z  gs://kylesteckler-demo-matching-engine/data/embeddings-00000-of-00009.json\n",
      "  11705375  2022-06-27T21:56:59Z  gs://kylesteckler-demo-matching-engine/data/embeddings-00001-of-00009.json\n",
      "  55784715  2022-06-27T21:56:59Z  gs://kylesteckler-demo-matching-engine/data/embeddings-00002-of-00009.json\n",
      "  63437085  2022-06-27T21:56:59Z  gs://kylesteckler-demo-matching-engine/data/embeddings-00003-of-00009.json\n",
      "  43122420  2022-06-27T21:56:59Z  gs://kylesteckler-demo-matching-engine/data/embeddings-00004-of-00009.json\n",
      "  52669878  2022-06-27T21:56:59Z  gs://kylesteckler-demo-matching-engine/data/embeddings-00005-of-00009.json\n",
      "  28904060  2022-06-27T21:56:59Z  gs://kylesteckler-demo-matching-engine/data/embeddings-00006-of-00009.json\n",
      "  74965967  2022-06-27T21:56:59Z  gs://kylesteckler-demo-matching-engine/data/embeddings-00007-of-00009.json\n",
      "  28517009  2022-06-27T21:56:59Z  gs://kylesteckler-demo-matching-engine/data/embeddings-00008-of-00009.json\n",
      "TOTAL: 9 objects, 389881407 bytes (371.82 MiB)\n"
     ]
    }
   ],
   "source": [
    "!gsutil ls -l gs://{BUCKET}/data/"
   ]
  },
  {
   "cell_type": "markdown",
   "id": "9ef83f95-abe9-4be6-bbc5-929b66852340",
   "metadata": {},
   "source": [
    "As you can see, there are multiple JSON files. Each json file contains rows of JSON objects with:\n",
    "* `id`: Movie Title\n",
    "* `embedding`: 512 length vector (embedded movie description)\n",
    "\n",
    "Take a look at an example"
   ]
  },
  {
   "cell_type": "code",
   "execution_count": 6,
   "id": "548795c6-2e21-4d50-8f70-90b7041344c6",
   "metadata": {},
   "outputs": [
    {
     "name": "stdout",
     "output_type": "stream",
     "text": [
      "{\"id\": \"Hector\", \"embedding\": [0.03524283692240715, -0.05786382779479027, -0.01879088394343853, -0.054597076028585434, -0.023502442985773087, 0.03810478374361992, -0.03932681679725647, -0.04778684675693512, 0.04427504166960716, 0.012033884413540363, 0.06726176291704178, 0.04901351034641266, 0.044581614434719086, -0.05477724224328995, 0.009321354329586029, -0.07125352323055267, -0.07518237084150314, 0.0561932735145092, -0.05556556209921837, -0.07360559701919556, -0.002205073134973645, 0.04406796395778656, 0.0732835903763771, -0.0203841719776392, 0.07131519168615341, 0.03472614660859108, 0.015632878988981247, 0.039959583431482315, 0.03650550916790962, 0.021306287497282028, -0.010188562795519829, 0.06862200796604156, -0.019070487469434738, 0.05627898871898651, 0.030582301318645477, -0.007555294781923294, 0.04445774108171463, 0.017033400014042854, 0.050306130200624466, -0.03371251001954079, 0.06591857969760895, -0.06860781461000443, 0.002915141172707081, -0.04184809699654579, -0.0451970212161541, -0.03811004385352135, 0.006218132097274065, 0.016174988821148872, 0.05026300624012947, -0.039598237723112106, 0.06486885249614716, -0.03778591379523277, -0.026428623124957085, 0.051225364208221436, -0.012263350188732147, -0.04461796581745148, -0.049238141626119614, 0.02379993349313736, 0.07400441914796829, 0.051938965916633606, 0.07518988102674484, -0.005499718710780144, -0.07518988102674484, 0.02213498018682003, -0.032090991735458374, 0.03257979452610016, -0.062352266162633896, 0.0238126739859581, -0.06532607972621918, 0.06518582254648209, 0.05140753090381622, 0.07153491675853729, -0.006552507169544697, 0.053340844810009, -0.026471249759197235, 0.047729913145303726, 0.0436597503721714, 0.03187677264213562, 0.01013867650181055, 0.04813529923558235, -0.005889129359275103, 0.06138082221150398, 0.053646914660930634, 0.004790399689227343, -0.014844538643956184, -0.027252312749624252, -0.05459418147802353, 0.05540613830089569, -0.05786668509244919, 0.0003958574088755995, -0.048641424626111984, -0.047582514584064484, 0.04169727489352226, 0.04285430535674095, -0.03426366299390793, 0.06994522362947464, 0.047178514301776886, 0.01862184889614582, 0.0749339610338211, -0.062347643077373505, -0.03582344204187393, 0.03183932229876518, -0.039369527250528336, 0.005327693652361631, 0.050815340131521225, 0.03994027152657509, -0.024759165942668915, -0.05810101330280304, -0.05893471837043762, 0.015396417118608952, -0.06023520231246948, 0.03230694681406021, 0.06457044184207916, -0.023743178695440292, 0.02344912849366665, -0.030299857258796692, -0.05974744260311127, 0.030051440000534058, -0.06395141780376434, 0.005287831649184227, 0.0632457435131073, 0.006352239288389683, -0.06466611474752426, 0.058217547833919525, 0.05803092196583748, 0.031360872089862823, 0.017415931448340416, -0.07157023996114731, -0.05638066306710243, 0.023865502327680588, -0.06654774397611618, 0.0034629269503057003, 0.06483090668916702, 0.0448632575571537, -0.020526651293039322, 0.018866540864109993, -0.027899472042918205, -0.04209674149751663, 0.03843442723155022, -0.02456635609269142, 0.01965586096048355, 0.0746661052107811, -0.06418704241514206, 0.042669735848903656, 0.025801435112953186, -0.03941671922802925, 0.016971712931990623, 0.03226363658905029, 0.004964971449226141, -0.014053473249077797, -0.01913696900010109, -0.05321528762578964, 0.04125809296965599, 0.013246573507785797, 0.029179608449339867, -0.00532687408849597, -0.016038065776228905, 0.04502701759338379, -0.067962646484375, 0.06388024985790253, -0.06448586285114288, 0.06169043108820915, -0.051741503179073334, -0.014907571487128735, 0.03495791554450989, 0.012699708342552185, 0.01425105705857277, -0.02798287756741047, -0.015029458329081535, -0.05510849505662918, -0.02992069534957409, -0.035936389118433, 0.025979680940508842, -0.024308841675519943, -0.01905340515077114, -0.02935895323753357, 0.036652207374572754, -0.03827350586652756, 0.07071074843406677, -0.048104070127010345, -0.043187208473682404, -0.046174779534339905, 0.011446037329733372, -0.07058892399072647, -0.06319667398929596, 0.03901311755180359, -0.0647258535027504, -0.019265852868556976, 0.07373293489217758, -0.05160573124885559, -0.05935482680797577, -0.03476082161068916, 0.04868077486753464, -0.05387548729777336, 0.05867214873433113, -0.015296411700546741, 0.024501847103238106, 0.04383532330393791, 0.07318641990423203, -0.04913116246461868, -0.030549151822924614, -0.026832308620214462, -0.022359827533364296, -0.031900979578495026, 0.06430887430906296, -0.03168807551264763, 0.021296774968504906, 0.0219939723610878, 0.03095097653567791, 0.05570515617728233, 0.028718991205096245, -0.04699672758579254, 0.05190848931670189, -0.03750414773821831, -0.05072910338640213, 0.04590258747339249, -0.03410375863313675, 0.011288055218756199, -0.0066336034797132015, 0.04861986264586449, 0.0402451828122139, -0.04658164456486702, -0.019066713750362396, -0.06769664585590363, 0.020275356248021126, -0.03945177420973778, 0.06612184643745422, -0.03253023326396942, -0.0004048283153679222, -0.06928277015686035, 0.029050761833786964, 0.023198340088129044, 0.02319401316344738, -0.07517632842063904, -0.03499497100710869, 0.007382835261523724, -0.008006863296031952, -0.033703893423080444, 0.013291186653077602, -0.033724114298820496, 0.06364743411540985, 0.015310417860746384, 0.035789068788290024, 0.033533524721860886, -0.009000892750918865, -0.019930245354771614, 0.010621135123074055, -0.06462280452251434, 0.04843289032578468, 0.017437133938074112, 0.01959952712059021, -0.07199636846780777, 0.07210856676101685, 0.0038164565339684486, 0.07034678012132645, 0.04660232365131378, -0.05547628179192543, 0.07518699765205383, 0.04583718255162239, -0.039878636598587036, 0.014317173510789871, -0.006867816671729088, -0.0540129691362381, -0.015952233225107193, -0.0320657454431057, 0.02631410025060177, -0.06361345201730728, 0.0028355843387544155, 0.03955173119902611, -0.013098672032356262, -0.025956379249691963, 0.009464285336434841, 0.06460656225681305, -0.04040035977959633, -0.074205681681633, 0.01931712031364441, 0.058793749660253525, -0.004701525438576937, 0.04476507008075714, 0.03083905018866062, 0.03675893321633339, -0.0636695846915245, 0.021978601813316345, 0.007677517831325531, -0.040603868663311005, -0.05631487816572189, -0.041485972702503204, 0.03522671014070511, 0.027217941358685493, 0.07264780253171921, 0.05927459895610809, 0.06019802764058113, 0.050037261098623276, 0.035080425441265106, 0.0670410543680191, 0.023162193596363068, 0.058294814079999924, -0.056131381541490555, -0.07498372346162796, -0.06659524887800217, 0.020954111590981483, 0.06054438278079033, -0.016568707302212715, -0.02056126669049263, 0.032764140516519547, -0.02590775303542614, -0.06513141095638275, 0.039189908653497696, 0.060251910239458084, -0.009563776664435863, -0.024126527830958366, -0.029210757464170456, -0.019874999299645424, -0.0006422721198759973, -0.041218336671590805, -0.01790790818631649, 0.01760898530483246, 0.062350645661354065, 0.0641677975654602, 0.03943662345409393, -0.04703901708126068, -0.04460005834698677, -0.04736892879009247, 0.041989684104919434, 0.0507366918027401, 0.061881545931100845, -0.014700022526085377, 0.019198771566152573, -0.01693672314286232, 0.04154418036341667, 0.06845095008611679, -0.06261146068572998, 0.046216513961553574, 0.04360925033688545, -0.054143063724040985, 0.03193940222263336, -0.037928421050310135, 0.0433853417634964, 0.07512062788009644, 0.001627553952857852, 0.0714946836233139, 0.03764917701482773, 0.029063839465379715, -0.024248184636235237, -0.03171283006668091, -0.06848055124282837, -0.06654781103134155, -0.026494847610592842, 0.005212824791669846, 0.041390351951122284, -0.021555138751864433, -0.012441922910511494, 0.003692448139190674, 0.05132417008280754, -0.06267842650413513, -0.07108795642852783, -0.07503439486026764, -0.034018415957689285, -0.01706145890057087, -0.00028154588653706014, 0.06596238911151886, 0.0006697694770991802, 0.011922755278646946, 0.015256176702678204, -0.07507368922233582, 0.003181006060913205, 0.0736139789223671, -0.02150341495871544, 0.04849253594875336, 0.02710266225039959, 0.022803382948040962, 0.034035395830869675, -0.051734667271375656, 0.049909044057130814, -0.05294816568493843, 0.004430161323398352, -0.04380955174565315, 0.021144546568393707, -0.050160739570856094, 0.057497743517160416, 0.07387949526309967, -0.062006328254938126, 0.06077176332473755, -0.052673377096652985, 0.03435927629470825, -0.07347574830055237, -0.030569514259696007, 0.0508648082613945, 0.02843860536813736, -0.013937314040958881, -0.024391205981373787, 0.0066038137301802635, 0.020111823454499245, -0.015951987355947495, 0.06854826956987381, -0.023568492382764816, 0.04816064238548279, -0.02305830456316471, -0.06247466057538986, -0.07363319396972656, 0.04140503332018852, 0.03889196738600731, -0.05380625277757645, 0.0012578860623762012, -0.017893323674798012, -0.012110340408980846, 0.0727582722902298, -0.0014084473950788379, 0.045565903186798096, -0.015842651948332787, 0.021203184500336647, -0.04503367096185684, 0.061103228479623795, -0.036323025822639465, -0.03419835492968559, 0.07043089717626572, 0.0021978055592626333, 0.023181460797786713, 0.0626441165804863, -0.021145757287740707, 0.06018832325935364, -0.06318873167037964, -0.005322113633155823, -0.06479354202747345, -0.017577579244971275, -0.011087365448474884, -0.017493829131126404, 0.04411205276846886, -0.040550604462623596, 0.03499413654208183, -0.04384295269846916, 0.03487051650881767, -0.024112459272146225, 0.06034358590841293, -0.03220335394144058, 0.05525466054677963, 0.04362541064620018, -0.023424282670021057, -0.029704557731747627, 0.020225826650857925, 0.00704178074374795, -0.07317042350769043, -0.01822900027036667, -0.04463285952806473, 0.06339747458696365, -0.029808372259140015, -0.03507154807448387, 0.04856961593031883, -0.007114263717085123, 0.044356171041727066, 0.02775309793651104, -0.010072647593915462, 0.04377901181578636, 0.04125123471021652, 0.066994808614254, -0.07329557090997696, 0.03091558627784252, 0.040301669389009476, -0.008521766401827335, 0.033398400992155075, -0.07518673688173294, 0.03537316620349884, 0.059934113174676895, -0.009754900820553303, 0.03469815105199814, 0.02558203972876072, 0.041457850486040115, 0.07128764688968658, -0.011995561420917511, -0.016834529116749763, -0.024804266169667244, 0.039433807134628296, -0.07061056792736053, 0.025804344564676285, 0.06708109378814697, 0.006041677203029394, -0.032274119555950165, 0.03605497628450394, -0.01375436969101429, -0.0681593045592308, -0.025078730657696724, -0.019596152007579803, -0.056206587702035904, -0.0740164965391159, -0.07130489498376846, 0.04683692753314972, 0.06484463065862656, 0.04997456073760986, -0.011515774764120579, 0.05888309329748154, 0.024234240874648094, 0.03634083643555641, -0.03094433806836605, 0.07059124112129211, -0.00826066080480814, 0.0129439327865839, -0.03286726027727127, 0.005042477045208216, -0.03362675756216049, 0.056698065251111984, -0.025651998817920685, -0.027709070593118668, -0.06073184311389923, -0.07443039864301682, -0.05155855789780617, -0.02620922215282917, 0.027415843680500984, 0.06396474689245224, 0.05305320769548416, 0.026769760996103287, 0.07326681166887283, -0.05212343484163284]}\n"
     ]
    }
   ],
   "source": [
    "!gsutil cat gs://{BUCKET}/data/embeddings-00001-of-00009.json | head -1"
   ]
  },
  {
   "cell_type": "markdown",
   "id": "1d3e2921-982a-4446-a4d5-2795ca6b9145",
   "metadata": {},
   "source": [
    "#### Create an Index\n",
    "Now that the data in the GCS bucket in the proper format you can create an index. To create an index you first need to configure the parameters for the index. You do this with an index metadata file. We will keep things simple in this lab but you can find the definiton for each possible index metadata field [here](https://cloud.google.com/vertex-ai/docs/matching-engine/configuring-indexes).\n",
    "\n",
    "The fields we will use:\n",
    "* `contentsDeltaUri`: Allows inserting, updating or deleting the contents of the Matching Engine Index. Must be a valid GCS directory path.\n",
    "* `config`\n",
    "    * `dimensions`: The number of dimensions of the input vectors\n",
    "    * `approximateNeighborsCount`: The default number of neighbors to find via approximate search.\n",
    "    * `distanceMeasureType`: The distance measure used in nearest neighbor search. The options are L2 Distance (Euclidean), L1 Distance (Manhattan), Cosine distance (defined as 1 - cosine similarity) or dot product distance. (defined as negative of the dot product). \n",
    "* `algorithm_config`\n",
    "    * `treeAhConfig`: Specifies the selection of the tree-AH algorithm (shallow tree + asymmetric hashing)"
   ]
  },
  {
   "cell_type": "code",
   "execution_count": 7,
   "id": "2cc5333f-136b-4f08-887d-a9b305b4c795",
   "metadata": {},
   "outputs": [],
   "source": [
    "import json\n",
    "\n",
    "metadata = {\n",
    "    \"contentsDeltaUri\": f\"gs://{BUCKET}/data/\",\n",
    "    \"config\": {\n",
    "        \"dimensions\": 512,\n",
    "        \"approximateNeighborsCount\": 20,\n",
    "        \"distanceMeasureType\": \"DOT_PRODUCT_DISTANCE\",\n",
    "        \"algorithm_config\": {\"treeAhConfig\": {}},\n",
    "    },\n",
    "}\n",
    "\n",
    "with open(\"metadata.json\", \"w\") as f:\n",
    "    json.dump(metadata, f)"
   ]
  },
  {
   "cell_type": "markdown",
   "id": "e0824f5c-7adf-4455-81cd-f6b931a53c5d",
   "metadata": {},
   "source": [
    "Create the index"
   ]
  },
  {
   "cell_type": "code",
   "execution_count": 8,
   "id": "0c9a4e92-cb5d-433a-b043-a1d404fc39d9",
   "metadata": {},
   "outputs": [
    {
     "name": "stdout",
     "output_type": "stream",
     "text": [
      "Using endpoint [https://us-central1-aiplatform.googleapis.com/]\n",
      "The create index operation [projects/693210680039/locations/us-central1/indexes/5874048512416546816/operations/7300198175489392640] was submitted successfully.\n",
      "\n",
      "You may view the status of your operation with the command\n",
      "\n",
      "  $ gcloud ai operations describe 7300198175489392640 --index=5874048512416546816 [--project=kylesteckler-demo]\n"
     ]
    }
   ],
   "source": [
    "!gcloud ai indexes create \\\n",
    "    --metadata-file='./metadata.json' \\\n",
    "    --display-name='movie-descriptions' \\\n",
    "    --project={PROJECT} \\\n",
    "    --region={REGION}"
   ]
  },
  {
   "cell_type": "markdown",
   "id": "d4e34ed5-1dd4-4e75-a000-d61a034220b1",
   "metadata": {},
   "source": [
    "**NOTE** Creating the index will likely take around 40 minutes. Run the following command to list your indexes. If the reponse does not have the index ID, then the index is still being created. You cannot move forward in the lab until your index creation has completed. "
   ]
  },
  {
   "cell_type": "code",
   "execution_count": 18,
   "id": "92d97378-69db-4103-b75c-645fce63e76c",
   "metadata": {},
   "outputs": [
    {
     "name": "stdout",
     "output_type": "stream",
     "text": [
      "Index Created. Index ID: 5874048512416546816\n"
     ]
    }
   ],
   "source": [
    "# Get your index ID. \n",
    "result = !gcloud ai indexes list \\\n",
    "    --project={PROJECT} \\\n",
    "    --region={REGION}\n",
    "\n",
    "INDEX_ID = result[-2].split('/')[-1]\n",
    "\n",
    "if INDEX_ID == \"]\":\n",
    "    print(\"\"\"Wait for the Index to be created and run this cell again. \n",
    "    This can take ~45 minutes.\"\"\")\n",
    "else:\n",
    "    print(f\"Index Created. Index ID: {INDEX_ID}\")"
   ]
  },
  {
   "cell_type": "code",
   "execution_count": 19,
   "id": "fba3efc0-5223-454a-a93f-c412e02471b2",
   "metadata": {},
   "outputs": [
    {
     "name": "stdout",
     "output_type": "stream",
     "text": [
      "env: INDEX_ID=5874048512416546816\n"
     ]
    }
   ],
   "source": [
    "%env INDEX_ID={INDEX_ID}"
   ]
  },
  {
   "cell_type": "markdown",
   "id": "a0965b7f-c94a-4505-8e38-e76fd978efa2",
   "metadata": {},
   "source": [
    "#### Create Index Endpoint and Deploy\n",
    "Now that the index has been created, you can create an endpoint and deploy the index to it."
   ]
  },
  {
   "cell_type": "code",
   "execution_count": 20,
   "id": "3afe6e17-940f-4ca2-b893-bd9064a53dba",
   "metadata": {},
   "outputs": [
    {
     "name": "stdout",
     "output_type": "stream",
     "text": [
      "Network: projects/693210680039/global/networks/vertex-matching-engine-vpc-network \n"
     ]
    }
   ],
   "source": [
    "# Need to provide full network resource path\n",
    "PROJECT_NUMBER =  !(gcloud projects describe {PROJECT} \\\n",
    "                    --format=\"value(projectNumber)\")\n",
    "    \n",
    "PROJECT_NUMBER = PROJECT_NUMBER[0]\n",
    "NETWORK_RESOURCE_NAME = (\n",
    "    f\"projects/{PROJECT_NUMBER}/global/networks/{NETWORK_NAME}\"\n",
    ")\n",
    "print(f\"Network: {NETWORK_RESOURCE_NAME} \")"
   ]
  },
  {
   "cell_type": "code",
   "execution_count": 21,
   "id": "e17b8284-a963-415a-9eb7-bf3e8a0755e7",
   "metadata": {},
   "outputs": [
    {
     "name": "stdout",
     "output_type": "stream",
     "text": [
      "Using endpoint [https://us-central1-aiplatform.googleapis.com/]\n",
      "Waiting for operation [540295134806278144]...done.                             \n",
      "Created Vertex AI index endpoint: projects/693210680039/locations/us-central1/indexEndpoints/1495423774705582080.\n"
     ]
    }
   ],
   "source": [
    "!gcloud ai index-endpoints create \\\n",
    "  --display-name=\"movie_index_endpoint\" \\\n",
    "  --network={NETWORK_RESOURCE_NAME} \\\n",
    "  --project={PROJECT} \\\n",
    "  --region={REGION}"
   ]
  },
  {
   "cell_type": "code",
   "execution_count": 22,
   "id": "a72dcdf7-50a9-473b-9a53-bbd84af2c2ff",
   "metadata": {},
   "outputs": [
    {
     "name": "stdout",
     "output_type": "stream",
     "text": [
      "Index Endpoint Created. Endpoint ID: 1495423774705582080\n"
     ]
    }
   ],
   "source": [
    "result = !gcloud ai index-endpoints list \\\n",
    "    --region={REGION} \\\n",
    "\n",
    "ENDPOINT_ID = result[-3].split('/')[-1]\n",
    "print(f\"Index Endpoint Created. Endpoint ID: {ENDPOINT_ID}\")"
   ]
  },
  {
   "cell_type": "code",
   "execution_count": 23,
   "id": "0299a8b9-eb38-4850-9773-16ebd9c5b61d",
   "metadata": {},
   "outputs": [
    {
     "name": "stdout",
     "output_type": "stream",
     "text": [
      "env: ENDPOINT_ID=1495423774705582080\n"
     ]
    }
   ],
   "source": [
    "%env ENDPOINT_ID={ENDPOINT_ID}"
   ]
  },
  {
   "cell_type": "code",
   "execution_count": 24,
   "id": "ddb912b9-bb10-4e4c-abce-af8952855448",
   "metadata": {},
   "outputs": [
    {
     "name": "stdout",
     "output_type": "stream",
     "text": [
      "metadata:\n",
      "  '@type': type.googleapis.com/google.cloud.aiplatform.v1.DeployIndexOperationMetadata\n",
      "  deployedIndexId: deployed-movie-index\n",
      "  genericMetadata:\n",
      "    createTime: '2022-06-27T22:43:52.030913Z'\n",
      "    updateTime: '2022-06-27T22:43:52.030913Z'\n",
      "name: projects/693210680039/locations/us-central1/indexEndpoints/1495423774705582080/operations/8034496020983316480\n"
     ]
    },
    {
     "name": "stderr",
     "output_type": "stream",
     "text": [
      "Using endpoint [https://us-central1-aiplatform.googleapis.com/]\n",
      "The deploy index operation [projects/693210680039/locations/us-central1/indexEndpoints/1495423774705582080/operations/8034496020983316480] was submitted successfully.\n",
      "\n",
      "You may view the status of your operation with the command\n",
      "\n",
      "  $ gcloud ai operations describe 8034496020983316480 --index-endpoint=1495423774705582080 [--project=kylesteckler-demo]\n"
     ]
    }
   ],
   "source": [
    "%%bash\n",
    "gcloud ai index-endpoints deploy-index ${ENDPOINT_ID} \\\n",
    "  --deployed-index-id=\"deployed-movie-index\" \\\n",
    "  --display-name=\"deployed-movie-index-endpoint\" \\\n",
    "  --index=${INDEX_ID} \\\n",
    "  --project=${PROJECT} \\\n",
    "  --region=${REGION} \\\n",
    "  --min-replica-count=1 \\\n",
    "  --max-replica-count=2"
   ]
  },
  {
   "cell_type": "markdown",
   "id": "aed9a556-82e3-4086-a897-6f6e5a626dc2",
   "metadata": {},
   "source": [
    "#### Querying the Endpoint\n",
    "To query the endpoint, spin up a Vertex AI notebook in the same VPC network as your deployed index. Then you can walk through `matching_engine_query.ipynb`."
   ]
  },
  {
   "cell_type": "code",
   "execution_count": null,
   "id": "055132dc-0d19-41ac-953f-d2fb0c0a87d7",
   "metadata": {},
   "outputs": [],
   "source": []
  }
 ],
 "metadata": {
  "environment": {
   "kernel": "python3",
   "name": "tf2-gpu.2-6.m93",
   "type": "gcloud",
   "uri": "gcr.io/deeplearning-platform-release/tf2-gpu.2-6:m93"
  },
  "kernelspec": {
   "display_name": "Python 3",
   "language": "python",
   "name": "python3"
  },
  "language_info": {
   "codemirror_mode": {
    "name": "ipython",
    "version": 3
   },
   "file_extension": ".py",
   "mimetype": "text/x-python",
   "name": "python",
   "nbconvert_exporter": "python",
   "pygments_lexer": "ipython3",
   "version": "3.7.12"
  }
 },
 "nbformat": 4,
 "nbformat_minor": 5
}
