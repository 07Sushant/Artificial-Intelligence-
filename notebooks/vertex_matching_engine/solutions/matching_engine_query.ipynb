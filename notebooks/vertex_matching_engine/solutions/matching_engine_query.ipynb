{
 "cells": [
  {
   "cell_type": "markdown",
   "id": "130f0c22-14df-4001-9bb5-554487f4f6f1",
   "metadata": {},
   "source": [
    "### Query an Index Deployed to Vertex Matching Engine\n",
    "**NOTE** This notebook can only be run after completing `matching_engine_ann.ipynb`. You must run this notebook in the same VPC network as your deployed index endpoint. "
   ]
  },
  {
   "cell_type": "code",
   "execution_count": null,
   "id": "002adb7f-347f-4ef2-aff1-30e22d8c653f",
   "metadata": {},
   "outputs": [],
   "source": [
    "!pip install grpcio-tools"
   ]
  },
  {
   "cell_type": "markdown",
   "id": "9e77a915-8dfd-4b51-ad06-8dd76cc5c778",
   "metadata": {},
   "source": [
    "Restart Kernel"
   ]
  },
  {
   "cell_type": "markdown",
   "id": "fb88b083-19cf-4055-aa44-a0c4ba668270",
   "metadata": {},
   "source": [
    "#### Setup"
   ]
  },
  {
   "cell_type": "code",
   "execution_count": 1,
   "id": "68c84c02-977b-40f0-ac68-41f4ae410692",
   "metadata": {},
   "outputs": [],
   "source": [
    "import grpc\n",
    "import tensorflow_hub as hub\n",
    "from google.cloud import aiplatform_v1\n",
    "\n",
    "PROJECT = !(gcloud config get-value core/project)\n",
    "PROJECT = PROJECT[0]\n",
    "REGION = \"us-central1\"\n",
    "PARENT = f\"projects/{PROJECT}/locations/{REGION}\"\n",
    "ENDPOINT = f\"{REGION}-aiplatform.googleapis.com\""
   ]
  },
  {
   "cell_type": "markdown",
   "id": "3ae004f2-0e0a-4f79-9502-9e78b0993c80",
   "metadata": {},
   "source": [
    "#### Online Queries\n",
    "Now you can query against the deployed index through the online querying gRPC API (Match Service). You need to generate the client from protocol buffer definition."
   ]
  },
  {
   "cell_type": "code",
   "execution_count": null,
   "id": "fc3b21c1-ba7c-4ad5-b3b8-21f0859b583e",
   "metadata": {},
   "outputs": [],
   "source": [
    "%%writefile match_service.proto\n",
    "\n",
    "syntax = \"proto3\";\n",
    "\n",
    "package google.cloud.aiplatform.container.v1beta1;\n",
    "\n",
    "import \"google/rpc/status.proto\";\n",
    "\n",
    "// MatchService is a Google managed service for efficient vector similarity\n",
    "// search at scale.\n",
    "service MatchService {\n",
    "  // Returns the nearest neighbors for the query. If it is a sharded\n",
    "  // deployment, calls the other shards and aggregates the responses.\n",
    "  rpc Match(MatchRequest) returns (MatchResponse) {}\n",
    "\n",
    "  // Returns the nearest neighbors for batch queries. If it is a sharded\n",
    "  // deployment, calls the other shards and aggregates the responses.\n",
    "  rpc BatchMatch(BatchMatchRequest) returns (BatchMatchResponse) {}\n",
    "}\n",
    "\n",
    "// Parameters for a match query.\n",
    "message MatchRequest {\n",
    "  // The ID of the DeploydIndex that will serve the request.\n",
    "  // This MatchRequest is sent to a specific IndexEndpoint of the Control API,\n",
    "  // as per the IndexEndpoint.network. That IndexEndpoint also has\n",
    "  // IndexEndpoint.deployed_indexes, and each such index has an\n",
    "  // DeployedIndex.id field.\n",
    "  // The value of the field below must equal one of the DeployedIndex.id\n",
    "  // fields of the IndexEndpoint that is being called for this request.\n",
    "  string deployed_index_id = 1;\n",
    "\n",
    "  // The embedding values.\n",
    "  repeated float float_val = 2;\n",
    "\n",
    "  // The number of nearest neighbors to be retrieved from database for\n",
    "  // each query. If not set, will use the default from\n",
    "  // the service configuration.\n",
    "  int32 num_neighbors = 3;\n",
    "\n",
    "  // The list of restricts.\n",
    "  repeated Namespace restricts = 4;\n",
    "\n",
    "  // Crowding is a constraint on a neighbor list produced by nearest neighbor\n",
    "  // search requiring that no more than some value k' of the k neighbors\n",
    "  // returned have the same value of crowding_attribute.\n",
    "  // It's used for improving result diversity.\n",
    "  // This field is the maximum number of matches with the same crowding tag.\n",
    "  int32 per_crowding_attribute_num_neighbors = 5;\n",
    "\n",
    "  // The number of neighbors to find via approximate search before\n",
    "  // exact reordering is performed. If not set, the default value from scam\n",
    "  // config is used; if set, this value must be > 0.\n",
    "  int32 approx_num_neighbors = 6;\n",
    "\n",
    "  // The fraction of the number of leaves to search, set at query time allows\n",
    "  // user to tune search performance. This value increase result in both search\n",
    "  // accuracy and latency increase. The value should be between 0.0 and 1.0. If\n",
    "  // not set or set to 0.0, query uses the default value specified in\n",
    "  // NearestNeighborSearchConfig.TreeAHConfig.leaf_nodes_to_search_percent.\n",
    "  int32 leaf_nodes_to_search_percent_override = 7;\n",
    "}\n",
    "\n",
    "// Response of a match query.\n",
    "message MatchResponse {\n",
    "  message Neighbor {\n",
    "    // The ids of the matches.\n",
    "    string id = 1;\n",
    "\n",
    "    // The distances of the matches.\n",
    "    double distance = 2;\n",
    "  }\n",
    "  // All its neighbors.\n",
    "  repeated Neighbor neighbor = 1;\n",
    "}\n",
    "\n",
    "// Parameters for a batch match query.\n",
    "message BatchMatchRequest {\n",
    "  // Batched requests against one index.\n",
    "  message BatchMatchRequestPerIndex {\n",
    "    // The ID of the DeploydIndex that will serve the request.\n",
    "    string deployed_index_id = 1;\n",
    "\n",
    "    // The requests against the index identified by the above deployed_index_id.\n",
    "    repeated MatchRequest requests = 2;\n",
    "\n",
    "    // Selects the optimal batch size to use for low-level batching. Queries\n",
    "    // within each low level batch are executed sequentially while low level\n",
    "    // batches are executed in parallel.\n",
    "    // This field is optional, defaults to 0 if not set. A non-positive number\n",
    "    // disables low level batching, i.e. all queries are executed sequentially.\n",
    "    int32 low_level_batch_size = 3;\n",
    "  }\n",
    "\n",
    "  // The batch requests grouped by indexes.\n",
    "  repeated BatchMatchRequestPerIndex requests = 1;\n",
    "}\n",
    "\n",
    "// Response of a batch match query.\n",
    "message BatchMatchResponse {\n",
    "  // Batched responses for one index.\n",
    "  message BatchMatchResponsePerIndex {\n",
    "    // The ID of the DeployedIndex that produced the responses.\n",
    "    string deployed_index_id = 1;\n",
    "\n",
    "    // The match responses produced by the index identified by the above\n",
    "    // deployed_index_id. This field is set only when the query against that\n",
    "    // index succeed.\n",
    "    repeated MatchResponse responses = 2;\n",
    "\n",
    "    // The status of response for the batch query identified by the above\n",
    "    // deployed_index_id.\n",
    "    google.rpc.Status status = 3;\n",
    "  }\n",
    "\n",
    "  // The batched responses grouped by indexes.\n",
    "  repeated BatchMatchResponsePerIndex responses = 1;\n",
    "}\n",
    "\n",
    "// Namespace specifies the rules for determining the datapoints that are\n",
    "// eligible for each matching query, overall query is an AND across namespaces.\n",
    "message Namespace {\n",
    "  // The string name of the namespace that this proto is specifying,\n",
    "  // such as \"color\", \"shape\", \"geo\", or \"tags\".\n",
    "  string name = 1;\n",
    "\n",
    "  // The allowed tokens in the namespace.\n",
    "  repeated string allow_tokens = 2;\n",
    "\n",
    "  // The denied tokens in the namespace.\n",
    "  // The denied tokens have exactly the same format as the token fields, but\n",
    "  // represents a negation. When a token is denied, then matches will be\n",
    "  // excluded whenever the other datapoint has that token.\n",
    "  //\n",
    "  // For example, if a query specifies {color: red, blue, !purple}, then that\n",
    "  // query will match datapoints that are red or blue, but if those points are\n",
    "  // also purple, then they will be excluded even if they are red/blue.\n",
    "  repeated string deny_tokens = 3;\n",
    "}"
   ]
  },
  {
   "cell_type": "markdown",
   "id": "ddf8f949-94c5-459e-9406-151a9fc1d46e",
   "metadata": {},
   "source": [
    "Third party dependencies"
   ]
  },
  {
   "cell_type": "code",
   "execution_count": null,
   "id": "4e5de13e-a3a3-4016-ad40-3af442e3f4e8",
   "metadata": {},
   "outputs": [],
   "source": [
    "!mkdir third_party && \\\n",
    "    cd third_party && \\\n",
    "    git clone https://github.com/googleapis/googleapis.git"
   ]
  },
  {
   "cell_type": "markdown",
   "id": "743abf48-8e8a-4382-926c-d9d4af6a602d",
   "metadata": {},
   "source": [
    "Compile the protocol buffer, and then `match_service_pb2.py` and `match_service_pb2_grpc.py` are generated."
   ]
  },
  {
   "cell_type": "code",
   "execution_count": null,
   "id": "dbdc6ac3-bbac-4fa9-b73e-a4d126abf5e2",
   "metadata": {},
   "outputs": [],
   "source": [
    "!python -m grpc_tools.protoc -I=. --proto_path=third_party/googleapis --python_out=. --grpc_python_out=. match_service.proto"
   ]
  },
  {
   "cell_type": "markdown",
   "id": "3d2e27a5-962f-4997-8c43-f69cd62ef178",
   "metadata": {},
   "source": [
    "Get the IP of the deployed index endpoint"
   ]
  },
  {
   "cell_type": "code",
   "execution_count": 2,
   "id": "cd3e906a-d92a-4576-aab0-e92d0a267136",
   "metadata": {},
   "outputs": [
    {
     "data": {
      "text/plain": [
       "'10.64.0.5'"
      ]
     },
     "execution_count": 2,
     "metadata": {},
     "output_type": "execute_result"
    }
   ],
   "source": [
    "index_endpoint_client = aiplatform_v1.IndexEndpointServiceClient(\n",
    "    client_options=dict(api_endpoint=ENDPOINT)\n",
    ")\n",
    "\n",
    "DEPLOYED_INDEX_SERVER_IP = (\n",
    "    list(index_endpoint_client.list_index_endpoints(parent=PARENT))[0]\n",
    "    .deployed_indexes[0]\n",
    "    .private_endpoints.match_grpc_address\n",
    ")\n",
    "DEPLOYED_INDEX_SERVER_IP"
   ]
  },
  {
   "cell_type": "code",
   "execution_count": 3,
   "id": "b12fe87d-8b35-4d03-83c4-d9a41209e26f",
   "metadata": {},
   "outputs": [],
   "source": [
    "import match_service_pb2\n",
    "import match_service_pb2_grpc\n",
    "\n",
    "channel = grpc.insecure_channel(f\"{DEPLOYED_INDEX_SERVER_IP}:10000\")\n",
    "stub = match_service_pb2_grpc.MatchServiceStub(channel)"
   ]
  },
  {
   "cell_type": "markdown",
   "id": "5f4a3b04-bce1-4f86-a264-504f7715a657",
   "metadata": {},
   "source": [
    "Create functions to \n",
    "* Take a sentence and convert it to a vector\n",
    "* Take a vector and send a request to Vertex Matching Engine"
   ]
  },
  {
   "cell_type": "code",
   "execution_count": 4,
   "id": "b3858e5f-e5a0-4a78-b770-c354f8bc0316",
   "metadata": {},
   "outputs": [
    {
     "name": "stderr",
     "output_type": "stream",
     "text": [
      "2022-06-29 15:21:04.395240: I tensorflow/core/common_runtime/process_util.cc:146] Creating new thread pool with default inter op setting: 2. Tune using inter_op_parallelism_threads for best performance.\n",
      "2022-06-29 15:21:08.387966: I tensorflow/compiler/mlir/mlir_graph_optimization_pass.cc:185] None of the MLIR Optimization Passes are enabled (registered 2)\n"
     ]
    }
   ],
   "source": [
    "import match_service_pb2\n",
    "import match_service_pb2_grpc\n",
    "import tensorflow_hub as hub\n",
    "\n",
    "channel = grpc.insecure_channel(f\"{DEPLOYED_INDEX_SERVER_IP}:10000\")\n",
    "stub = match_service_pb2_grpc.MatchServiceStub(channel)\n",
    "\n",
    "embed = hub.load(\"https://tfhub.dev/google/universal-sentence-encoder/4\")\n",
    "\n",
    "\n",
    "def sentence_to_vector(s):\n",
    "    embeddings = embed([s])\n",
    "    return embeddings[0].numpy().tolist()\n",
    "\n",
    "\n",
    "def get_ann(vector, num_neighbors=5):\n",
    "    request = match_service_pb2.MatchRequest(num_neighbors=num_neighbors)\n",
    "    request.deployed_index_id = \"deployed-movie-index\"\n",
    "    for val in vector:\n",
    "        request.float_val.append(val)\n",
    "\n",
    "    response = stub.Match(request)\n",
    "    return response"
   ]
  },
  {
   "cell_type": "markdown",
   "id": "cc72ba13-5d2b-4318-bff9-c50d62351afd",
   "metadata": {},
   "source": [
    "Create an example movie overview (feel free to play around and write your own) to see what movies are similar based off their overview embeddings) and send it through Google's Universal Sentence Encoder to generate a vector."
   ]
  },
  {
   "cell_type": "code",
   "execution_count": 5,
   "id": "fe95852d-ade8-4ffe-89d2-f88a529bc8ae",
   "metadata": {},
   "outputs": [],
   "source": [
    "s = \"\"\"\n",
    "In this classic thriller, Kyle pushes a machine learning algorithm \n",
    "to production without thinking twice. The events that follow change\n",
    "how he views artifical intelligence forever. \n",
    "\"\"\"\n",
    "\n",
    "vector = sentence_to_vector(s)"
   ]
  },
  {
   "cell_type": "markdown",
   "id": "e206932a-a945-4dbb-b970-d1a11189380d",
   "metadata": {},
   "source": [
    "Make a request with the vector to Matching Engine. Remember in our index metadata we specified `DOT_PRODUCT_DISTANCE`. This will return a number between 0 and 1. The larger the number the greater the similarity.  "
   ]
  },
  {
   "cell_type": "code",
   "execution_count": 7,
   "id": "0b73b9dd-c00b-457e-9cbe-81f2d9628d62",
   "metadata": {},
   "outputs": [
    {
     "data": {
      "text/plain": [
       "neighbor {\n",
       "  id: \"Evolver\"\n",
       "  distance: 0.5481205582618713\n",
       "}\n",
       "neighbor {\n",
       "  id: \"The Questor Tapes\"\n",
       "  distance: 0.500476598739624\n",
       "}\n",
       "neighbor {\n",
       "  id: \"D.A.R.Y.L.\"\n",
       "  distance: 0.4930911064147949\n",
       "}\n",
       "neighbor {\n",
       "  id: \"Source Code\"\n",
       "  distance: 0.48311907052993774\n",
       "}\n",
       "neighbor {\n",
       "  id: \"A.I. Artificial Intelligence\"\n",
       "  distance: 0.4776439070701599\n",
       "}\n",
       "neighbor {\n",
       "  id: \"Justice Is Mind\"\n",
       "  distance: 0.4682193994522095\n",
       "}\n",
       "neighbor {\n",
       "  id: \"Animal\"\n",
       "  distance: 0.46664437651634216\n",
       "}\n",
       "neighbor {\n",
       "  id: \"Saturn 3\"\n",
       "  distance: 0.4630534052848816\n",
       "}\n",
       "neighbor {\n",
       "  id: \"Flesh Wounds\"\n",
       "  distance: 0.4608614444732666\n",
       "}\n",
       "neighbor {\n",
       "  id: \"A.P.E.X.\"\n",
       "  distance: 0.4607503414154053\n",
       "}\n",
       "neighbor {\n",
       "  id: \"Terminator Genisys\"\n",
       "  distance: 0.45924970507621765\n",
       "}\n",
       "neighbor {\n",
       "  id: \"Hologram Man\"\n",
       "  distance: 0.45832666754722595\n",
       "}\n",
       "neighbor {\n",
       "  id: \"DxM\"\n",
       "  distance: 0.4581947922706604\n",
       "}\n",
       "neighbor {\n",
       "  id: \"Prototype\"\n",
       "  distance: 0.45451611280441284\n",
       "}\n",
       "neighbor {\n",
       "  id: \"Debug\"\n",
       "  distance: 0.45419520139694214\n",
       "}"
      ]
     },
     "execution_count": 7,
     "metadata": {},
     "output_type": "execute_result"
    }
   ],
   "source": [
    "get_ann(vector, num_neighbors=15)"
   ]
  },
  {
   "cell_type": "code",
   "execution_count": null,
   "id": "af570bff-c530-4283-8793-4afd18990f96",
   "metadata": {},
   "outputs": [],
   "source": []
  }
 ],
 "metadata": {
  "environment": {
   "kernel": "python3",
   "name": "tf2-gpu.2-6.m93",
   "type": "gcloud",
   "uri": "gcr.io/deeplearning-platform-release/tf2-gpu.2-6:m93"
  },
  "kernelspec": {
   "display_name": "Python 3",
   "language": "python",
   "name": "python3"
  },
  "language_info": {
   "codemirror_mode": {
    "name": "ipython",
    "version": 3
   },
   "file_extension": ".py",
   "mimetype": "text/x-python",
   "name": "python",
   "nbconvert_exporter": "python",
   "pygments_lexer": "ipython3",
   "version": "3.7.12"
  }
 },
 "nbformat": 4,
 "nbformat_minor": 5
}
