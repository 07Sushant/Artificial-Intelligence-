{
 "cells": [
  {
   "cell_type": "code",
   "execution_count": 9,
   "id": "fe356959",
   "metadata": {},
   "outputs": [],
   "source": [
    "# Copyright 2021 Google LLC\n",
    "#\n",
    "# Licensed under the Apache License, Version 2.0 (the \"License\");\n",
    "# you may not use this file except in compliance with the License.\n",
    "# You may obtain a copy of the License at\n",
    "#\n",
    "#     https://www.apache.org/licenses/LICENSE-2.0\n",
    "#\n",
    "# Unless required by applicable law or agreed to in writing, software\n",
    "# distributed under the License is distributed on an \"AS IS\" BASIS,\n",
    "# WITHOUT WARRANTIES OR CONDITIONS OF ANY KIND, either express or implied.\n",
    "# See the License for the specific language governing permissions and\n",
    "# limitations under the License."
   ]
  },
  {
   "cell_type": "markdown",
   "id": "2a653d3e",
   "metadata": {},
   "source": [
    "# Deploy Vertex AI model for online prediction"
   ]
  },
  {
   "cell_type": "code",
   "execution_count": 10,
   "id": "02204d15",
   "metadata": {},
   "outputs": [],
   "source": [
    "import json\n",
    "\n",
    "import tensorflow_datasets as tfds\n",
    "from absl import flags\n",
    "from google.cloud import aiplatform\n",
    "from jax.experimental.jax2tf.examples import mnist_lib"
   ]
  },
  {
   "cell_type": "markdown",
   "id": "f421c289",
   "metadata": {},
   "source": [
    "## Fetch model"
   ]
  },
  {
   "cell_type": "markdown",
   "id": "9d4a8ccd",
   "metadata": {},
   "source": [
    "On Vertex AI, only the \"resource name\" (ending in a numerical ID) of a model is unique, not its \"display name\". Therefore while you can look up your model(s) by display_name, if you have multiple ones, you need to know the resource_name of the one you need (this is returned and printed when you upload the model)."
   ]
  },
  {
   "cell_type": "code",
   "execution_count": 17,
   "id": "fdd9d321",
   "metadata": {},
   "outputs": [],
   "source": [
    "# specify either a unique MODEL_DISPLAY_NAME, or a MODEL_RESOURCE_NAME\n",
    "MODEL_RESOURCENAME = None\n",
    "MODEL_DISPLAYNAME = \"jax_model_customcontainer\"\n",
    "\n",
    "USE_GPU_SERVING = False\n",
    "\n",
    "if MODEL_RESOURCENAME:\n",
    "    model = aiplatform.Model(MODEL_RESOURCENAME)\n",
    "else:\n",
    "    models = aiplatform.Model.list(filter=f\"display_name={MODEL_DISPLAYNAME}\")\n",
    "    if len(models) > 1:\n",
    "        for model in models:\n",
    "            print(model.resource_name, model.display_name)\n",
    "        raise Exception(f\"multiple models with display_name=={MODEL_DISPLAYNAME} (see above), please use a resource_name\")\n",
    "    model = models[0]"
   ]
  },
  {
   "cell_type": "markdown",
   "id": "49b11128",
   "metadata": {},
   "source": [
    "## Deploy model for Online Prediction on Vertex AI"
   ]
  },
  {
   "cell_type": "code",
   "execution_count": null,
   "id": "880172fc",
   "metadata": {},
   "outputs": [
    {
     "name": "stdout",
     "output_type": "stream",
     "text": [
      "INFO:google.cloud.aiplatform.models:Creating Endpoint\n",
      "INFO:google.cloud.aiplatform.models:Create Endpoint backing LRO: projects/654544512569/locations/us-central1/endpoints/7320372495872163840/operations/5971529289189818368\n",
      "INFO:google.cloud.aiplatform.models:Endpoint created. Resource name: projects/654544512569/locations/us-central1/endpoints/7320372495872163840\n",
      "INFO:google.cloud.aiplatform.models:To use this Endpoint in another session:\n",
      "INFO:google.cloud.aiplatform.models:endpoint = aiplatform.Endpoint('projects/654544512569/locations/us-central1/endpoints/7320372495872163840')\n",
      "INFO:google.cloud.aiplatform.models:Deploying model to Endpoint : projects/654544512569/locations/us-central1/endpoints/7320372495872163840\n",
      "INFO:google.cloud.aiplatform.models:Deploy Endpoint model backing LRO: projects/654544512569/locations/us-central1/endpoints/7320372495872163840/operations/7041134200690311168\n"
     ]
    }
   ],
   "source": [
    "MACHINE_TYPE = \"n1-standard-2\"\n",
    "\n",
    "if USE_GPU_SERVING:\n",
    "    ACCELERATOR_TYPE = \"NVIDIA_TESLA_T4\"\n",
    "    ACCELERATOR_COUNT = 1\n",
    "else:\n",
    "    ACCELERATOR_TYPE = None\n",
    "    ACCELERATOR_COUNT = None\n",
    "\n",
    "endpoint = model.deploy(\n",
    "    machine_type=MACHINE_TYPE,\n",
    "    accelerator_type=ACCELERATOR_TYPE,\n",
    "    accelerator_count=ACCELERATOR_COUNT,\n",
    "#    traffic_percentage=100,\n",
    ")"
   ]
  },
  {
   "cell_type": "markdown",
   "id": "2deac493",
   "metadata": {},
   "source": [
    "## Get Online Predictions from Vertex AI"
   ]
  },
  {
   "cell_type": "code",
   "execution_count": null,
   "id": "900b2c42",
   "metadata": {},
   "outputs": [],
   "source": [
    "# need to initialize flags somehow to avoid errors in load_mnist\n",
    "flags.FLAGS([''])\n",
    "\n",
    "image_to_predict, _ = next(iter(mnist_lib.load_mnist(tfds.Split.TEST, batch_size=1)))\n",
    "instances = image_to_predict.numpy().tolist()\n",
    "image_json = json.dumps(instances)"
   ]
  },
  {
   "cell_type": "code",
   "execution_count": null,
   "id": "524192ad",
   "metadata": {},
   "outputs": [],
   "source": [
    "#prebuilt\n",
    "prediction = endpoint.predict(instances)\n",
    "print(prediction.predictions)"
   ]
  },
  {
   "cell_type": "markdown",
   "id": "4d5a74aa",
   "metadata": {},
   "source": [
    "## Cleanup"
   ]
  },
  {
   "cell_type": "code",
   "execution_count": null,
   "id": "b410a52d",
   "metadata": {},
   "outputs": [],
   "source": [
    "endpoint.undeploy_all().delete()"
   ]
  }
 ],
 "metadata": {
  "environment": {
   "name": "tf2-gpu.2-5.m74",
   "type": "gcloud",
   "uri": "gcr.io/deeplearning-platform-release/tf2-gpu.2-5:m74"
  },
  "kernelspec": {
   "display_name": "Python 3",
   "language": "python",
   "name": "python3"
  },
  "language_info": {
   "codemirror_mode": {
    "name": "ipython",
    "version": 3
   },
   "file_extension": ".py",
   "mimetype": "text/x-python",
   "name": "python",
   "nbconvert_exporter": "python",
   "pygments_lexer": "ipython3",
   "version": "3.7.10"
  },
  "toc-autonumbering": false,
  "toc-showcode": false,
  "toc-showmarkdowntxt": false
 },
 "nbformat": 4,
 "nbformat_minor": 5
}
