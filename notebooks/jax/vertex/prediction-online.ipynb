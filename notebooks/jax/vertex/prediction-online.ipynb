{
 "cells": [
  {
   "cell_type": "code",
   "execution_count": 1,
   "id": "777eb278",
   "metadata": {},
   "outputs": [],
   "source": [
    "# Copyright 2021 Google LLC\n",
    "#\n",
    "# Licensed under the Apache License, Version 2.0 (the \"License\");\n",
    "# you may not use this file except in compliance with the License.\n",
    "# You may obtain a copy of the License at\n",
    "#\n",
    "#     https://www.apache.org/licenses/LICENSE-2.0\n",
    "#\n",
    "# Unless required by applicable law or agreed to in writing, software\n",
    "# distributed under the License is distributed on an \"AS IS\" BASIS,\n",
    "# WITHOUT WARRANTIES OR CONDITIONS OF ANY KIND, either express or implied.\n",
    "# See the License for the specific language governing permissions and\n",
    "# limitations under the License."
   ]
  },
  {
   "cell_type": "markdown",
   "id": "4a0efbd5",
   "metadata": {},
   "source": [
    "# Deploy Vertex AI model for online prediction"
   ]
  },
  {
   "cell_type": "code",
   "execution_count": 2,
   "id": "b2747485",
   "metadata": {},
   "outputs": [],
   "source": [
    "import json\n",
    "\n",
    "import tensorflow_datasets as tfds\n",
    "from absl import flags\n",
    "from google.cloud import aiplatform\n",
    "from jax.experimental.jax2tf.examples import mnist_lib"
   ]
  },
  {
   "cell_type": "markdown",
   "id": "831ace56",
   "metadata": {},
   "source": [
    "## Fetch model"
   ]
  },
  {
   "cell_type": "markdown",
   "id": "c3d42abf",
   "metadata": {},
   "source": [
    "On Vertex AI, only the \"resource name\" (ending in a numerical ID) of a model is unique, not its \"display name\". Therefore while you can look up your model(s) by display_name, if you have multiple ones, you need to know the resource_name of the one you need (this is returned and printed when you upload the model)."
   ]
  },
  {
   "cell_type": "code",
   "execution_count": 3,
   "id": "04881550",
   "metadata": {},
   "outputs": [
    {
     "name": "stdout",
     "output_type": "stream",
     "text": [
      "jax_model_prebuilt projects/654544512569/locations/us-central1/models/996570951137099776\n"
     ]
    }
   ],
   "source": [
    "# specify either a unique MODEL_DISPLAY_NAME, or a MODEL_RESOURCE_NAME\n",
    "MODEL_RESOURCENAME = None\n",
    "MODEL_DISPLAYNAME = \"jax_model_customcontainer\"\n",
    "\n",
    "USE_GPU_SERVING = False\n",
    "\n",
    "if MODEL_RESOURCENAME:\n",
    "    model = aiplatform.Model(MODEL_RESOURCENAME)\n",
    "else:\n",
    "    models = aiplatform.Model.list(filter=f\"display_name={MODEL_DISPLAYNAME}\")\n",
    "    if len(models) > 1:\n",
    "        for model in models:\n",
    "            print(model.resource_name, model.display_name)\n",
    "        raise Exception(\n",
    "            f\"multiple models with display_name=={MODEL_DISPLAYNAME} \"\n",
    "            \"(see above), please use a resource_name\"\n",
    "        )\n",
    "    model = models[0]\n",
    "\n",
    "print(model.display_name, model.resource_name)"
   ]
  },
  {
   "cell_type": "markdown",
   "id": "a167537c",
   "metadata": {},
   "source": [
    "## Deploy model for Online Prediction on Vertex AI"
   ]
  },
  {
   "cell_type": "code",
   "execution_count": 4,
   "id": "506a210a",
   "metadata": {},
   "outputs": [
    {
     "name": "stdout",
     "output_type": "stream",
     "text": [
      "INFO:google.cloud.aiplatform.models:Creating Endpoint\n",
      "INFO:google.cloud.aiplatform.models:Create Endpoint backing LRO: projects/654544512569/locations/us-central1/endpoints/4429061535100305408/operations/2436977637889933312\n",
      "INFO:google.cloud.aiplatform.models:Endpoint created. Resource name: projects/654544512569/locations/us-central1/endpoints/4429061535100305408\n",
      "INFO:google.cloud.aiplatform.models:To use this Endpoint in another session:\n",
      "INFO:google.cloud.aiplatform.models:endpoint = aiplatform.Endpoint('projects/654544512569/locations/us-central1/endpoints/4429061535100305408')\n",
      "INFO:google.cloud.aiplatform.models:Deploying model to Endpoint : projects/654544512569/locations/us-central1/endpoints/4429061535100305408\n",
      "INFO:google.cloud.aiplatform.models:Deploy Endpoint model backing LRO: projects/654544512569/locations/us-central1/endpoints/4429061535100305408/operations/7201786043647918080\n",
      "INFO:google.cloud.aiplatform.models:Endpoint model deployed. Resource name: projects/654544512569/locations/us-central1/endpoints/4429061535100305408\n"
     ]
    }
   ],
   "source": [
    "MACHINE_TYPE = \"n1-standard-2\"\n",
    "\n",
    "if USE_GPU_SERVING:\n",
    "    ACCELERATOR_TYPE = \"NVIDIA_TESLA_T4\"\n",
    "    ACCELERATOR_COUNT = 1\n",
    "else:\n",
    "    ACCELERATOR_TYPE = None\n",
    "    ACCELERATOR_COUNT = None\n",
    "\n",
    "endpoint = model.deploy(\n",
    "    machine_type=MACHINE_TYPE,\n",
    "    accelerator_type=ACCELERATOR_TYPE,\n",
    "    accelerator_count=ACCELERATOR_COUNT,\n",
    ")"
   ]
  },
  {
   "cell_type": "markdown",
   "id": "fea779be",
   "metadata": {},
   "source": [
    "## Get Online Predictions from Vertex AI"
   ]
  },
  {
   "cell_type": "code",
   "execution_count": 5,
   "id": "e327f5b5",
   "metadata": {},
   "outputs": [
    {
     "name": "stdout",
     "output_type": "stream",
     "text": [
      "INFO:absl:Load dataset info from /home/jupyter/tensorflow_datasets/mnist/3.0.1\n",
      "INFO:absl:Field info.citation from disk and from code do not match. Keeping the one from code.\n",
      "INFO:absl:Field info.splits from disk and from code do not match. Keeping the one from code.\n",
      "INFO:absl:Field info.module_name from disk and from code do not match. Keeping the one from code.\n",
      "INFO:absl:Reusing dataset mnist (/home/jupyter/tensorflow_datasets/mnist/3.0.1)\n",
      "INFO:absl:Constructing tf.data.Dataset mnist for split test, from /home/jupyter/tensorflow_datasets/mnist/3.0.1\n"
     ]
    }
   ],
   "source": [
    "# need to initialize flags somehow to avoid errors in load_mnist\n",
    "flags.FLAGS([''])\n",
    "\n",
    "image_to_predict, _ = next(iter(\n",
    "    mnist_lib.load_mnist(tfds.Split.TEST, batch_size=1)\n",
    "))\n",
    "instances = image_to_predict.numpy().tolist()\n",
    "image_json = json.dumps(instances)"
   ]
  },
  {
   "cell_type": "code",
   "execution_count": 6,
   "id": "5997b0ef",
   "metadata": {},
   "outputs": [
    {
     "name": "stdout",
     "output_type": "stream",
     "text": [
      "[[-0.0142641068, -22.4597549, -10.4813251, -11.0796452, -14.5759716, -4.32176, -7.92723083, -13.9459896, -7.69770765, -10.5191851]]\n"
     ]
    }
   ],
   "source": [
    "prediction = endpoint.predict(instances)\n",
    "print(prediction.predictions)"
   ]
  },
  {
   "cell_type": "markdown",
   "id": "0bc1a102",
   "metadata": {},
   "source": [
    "## Cleanup"
   ]
  },
  {
   "cell_type": "code",
   "execution_count": 7,
   "id": "e3dfb303",
   "metadata": {},
   "outputs": [
    {
     "name": "stdout",
     "output_type": "stream",
     "text": [
      "INFO:google.cloud.aiplatform.models:Undeploying Endpoint model: projects/654544512569/locations/us-central1/endpoints/4429061535100305408\n",
      "INFO:google.cloud.aiplatform.models:Undeploy Endpoint model backing LRO: projects/654544512569/locations/us-central1/endpoints/4429061535100305408/operations/1572286509434798080\n",
      "INFO:google.cloud.aiplatform.models:Endpoint model undeployed. Resource name: projects/654544512569/locations/us-central1/endpoints/4429061535100305408\n",
      "INFO:google.cloud.aiplatform.base:Deleting Endpoint : projects/654544512569/locations/us-central1/endpoints/4429061535100305408\n",
      "INFO:google.cloud.aiplatform.base:Delete Endpoint  backing LRO: projects/654544512569/locations/us-central1/operations/948537961043984384\n",
      "INFO:google.cloud.aiplatform.base:Endpoint deleted. . Resource name: projects/654544512569/locations/us-central1/endpoints/4429061535100305408\n"
     ]
    }
   ],
   "source": [
    "endpoint.undeploy_all().delete()"
   ]
  },
  {
   "cell_type": "code",
   "execution_count": null,
   "id": "61f631dd",
   "metadata": {},
   "outputs": [],
   "source": []
  }
 ],
 "metadata": {
  "environment": {
   "name": "tf2-gpu.2-5.m74",
   "type": "gcloud",
   "uri": "gcr.io/deeplearning-platform-release/tf2-gpu.2-5:m74"
  },
  "kernelspec": {
   "display_name": "Python 3",
   "language": "python",
   "name": "python3"
  },
  "language_info": {
   "codemirror_mode": {
    "name": "ipython",
    "version": 3
   },
   "file_extension": ".py",
   "mimetype": "text/x-python",
   "name": "python",
   "nbconvert_exporter": "python",
   "pygments_lexer": "ipython3",
   "version": "3.7.10"
  },
  "toc-autonumbering": false,
  "toc-showcode": false,
  "toc-showmarkdowntxt": false
 },
 "nbformat": 4,
 "nbformat_minor": 5
}
