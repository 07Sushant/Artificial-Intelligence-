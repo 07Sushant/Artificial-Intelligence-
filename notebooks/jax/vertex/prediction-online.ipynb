{
 "cells": [
  {
   "cell_type": "code",
   "execution_count": 1,
   "id": "2227d949",
   "metadata": {},
   "outputs": [],
   "source": [
    "# Copyright 2021 Google LLC\n",
    "#\n",
    "# Licensed under the Apache License, Version 2.0 (the \"License\");\n",
    "# you may not use this file except in compliance with the License.\n",
    "# You may obtain a copy of the License at\n",
    "#\n",
    "#     https://www.apache.org/licenses/LICENSE-2.0\n",
    "#\n",
    "# Unless required by applicable law or agreed to in writing, software\n",
    "# distributed under the License is distributed on an \"AS IS\" BASIS,\n",
    "# WITHOUT WARRANTIES OR CONDITIONS OF ANY KIND, either express or implied.\n",
    "# See the License for the specific language governing permissions and\n",
    "# limitations under the License."
   ]
  },
  {
   "cell_type": "markdown",
   "id": "89217598",
   "metadata": {},
   "source": [
    "# Deploy Vertex AI model for online prediction"
   ]
  },
  {
   "cell_type": "code",
   "execution_count": 2,
   "id": "7e29bbc6",
   "metadata": {},
   "outputs": [],
   "source": [
    "import tensorflow_datasets as tfds\n",
    "from absl import flags\n",
    "from google.cloud import aiplatform\n",
    "from jax.experimental.jax2tf.examples import mnist_lib"
   ]
  },
  {
   "cell_type": "markdown",
   "id": "b4ecacbb",
   "metadata": {},
   "source": [
    "## Fetch model"
   ]
  },
  {
   "cell_type": "markdown",
   "id": "db2a2b81",
   "metadata": {},
   "source": [
    "On Vertex AI, only the \"resource name\" (ending in a numerical ID) of a model is unique, not its \"display name\". Therefore while you can look up your model(s) by display_name, if you have multiple ones, you need to know the resource_name of the one you need (this is returned and printed when you upload the model)."
   ]
  },
  {
   "cell_type": "code",
   "execution_count": 3,
   "id": "2ac46b72",
   "metadata": {},
   "outputs": [],
   "source": [
    "# specify either a unique MODEL_DISPLAY_NAME, or a MODEL_RESOURCE_NAME\n",
    "MODEL_RESOURCENAME = None\n",
    "MODEL_DISPLAYNAME = \"jax_model_customcontainer\"\n",
    "\n",
    "USE_GPU_SERVING = False\n",
    "\n",
    "SERVING_BATCH_SIZE = 3"
   ]
  },
  {
   "cell_type": "code",
   "execution_count": 4,
   "id": "784e8d2c",
   "metadata": {},
   "outputs": [
    {
     "name": "stdout",
     "output_type": "stream",
     "text": [
      "jax_model_customcontainer projects/654544512569/locations/us-central1/models/653734429503520768\n"
     ]
    }
   ],
   "source": [
    "if MODEL_RESOURCENAME:\n",
    "    model = aiplatform.Model(MODEL_RESOURCENAME)\n",
    "else:\n",
    "    models = aiplatform.Model.list(filter=f\"display_name={MODEL_DISPLAYNAME}\")\n",
    "    if len(models) > 1:\n",
    "        for model in models:\n",
    "            print(model.display_name, model.resource_name)\n",
    "        raise Exception(\n",
    "            f\"multiple models with display_name=={MODEL_DISPLAYNAME} \"\n",
    "            \"(see above), please delete all but one, or use a resource_name\"\n",
    "        )\n",
    "    model = models[0]\n",
    "\n",
    "print(model.display_name, model.resource_name)"
   ]
  },
  {
   "cell_type": "markdown",
   "id": "144acb12",
   "metadata": {},
   "source": [
    "## Deploy model for Online Prediction on Vertex AI"
   ]
  },
  {
   "cell_type": "code",
   "execution_count": 5,
   "id": "0b0dabf9",
   "metadata": {},
   "outputs": [
    {
     "name": "stdout",
     "output_type": "stream",
     "text": [
      "INFO:google.cloud.aiplatform.models:Creating Endpoint\n",
      "INFO:google.cloud.aiplatform.models:Create Endpoint backing LRO: projects/654544512569/locations/us-central1/endpoints/1562520372278984704/operations/2452898566260129792\n",
      "INFO:google.cloud.aiplatform.models:Endpoint created. Resource name: projects/654544512569/locations/us-central1/endpoints/1562520372278984704\n",
      "INFO:google.cloud.aiplatform.models:To use this Endpoint in another session:\n",
      "INFO:google.cloud.aiplatform.models:endpoint = aiplatform.Endpoint('projects/654544512569/locations/us-central1/endpoints/1562520372278984704')\n",
      "INFO:google.cloud.aiplatform.models:Deploying model to Endpoint : projects/654544512569/locations/us-central1/endpoints/1562520372278984704\n",
      "INFO:google.cloud.aiplatform.models:Deploy Endpoint model backing LRO: projects/654544512569/locations/us-central1/endpoints/1562520372278984704/operations/1646754232960811008\n",
      "INFO:google.cloud.aiplatform.models:Endpoint model deployed. Resource name: projects/654544512569/locations/us-central1/endpoints/1562520372278984704\n"
     ]
    }
   ],
   "source": [
    "MACHINE_TYPE = \"n1-standard-2\"\n",
    "\n",
    "if USE_GPU_SERVING:\n",
    "    ACCELERATOR_TYPE = \"NVIDIA_TESLA_T4\"\n",
    "    ACCELERATOR_COUNT = 1\n",
    "else:\n",
    "    ACCELERATOR_TYPE = None\n",
    "    ACCELERATOR_COUNT = None\n",
    "\n",
    "endpoint = model.deploy(\n",
    "    machine_type=MACHINE_TYPE,\n",
    "    accelerator_type=ACCELERATOR_TYPE,\n",
    "    accelerator_count=ACCELERATOR_COUNT,\n",
    ")"
   ]
  },
  {
   "cell_type": "markdown",
   "id": "3e70e3ba",
   "metadata": {},
   "source": [
    "## Get Online Predictions from Vertex AI"
   ]
  },
  {
   "cell_type": "code",
   "execution_count": 6,
   "id": "6dce5e1a",
   "metadata": {},
   "outputs": [
    {
     "name": "stdout",
     "output_type": "stream",
     "text": [
      "INFO:absl:Load dataset info from /home/jupyter/tensorflow_datasets/mnist/3.0.1\n",
      "INFO:absl:Field info.citation from disk and from code do not match. Keeping the one from code.\n",
      "INFO:absl:Field info.splits from disk and from code do not match. Keeping the one from code.\n",
      "INFO:absl:Field info.module_name from disk and from code do not match. Keeping the one from code.\n",
      "INFO:absl:Reusing dataset mnist (/home/jupyter/tensorflow_datasets/mnist/3.0.1)\n",
      "INFO:absl:Constructing tf.data.Dataset mnist for split test, from /home/jupyter/tensorflow_datasets/mnist/3.0.1\n"
     ]
    }
   ],
   "source": [
    "# need to initialize flags somehow to avoid errors in load_mnist\n",
    "flags.FLAGS([\"\"])\n",
    "\n",
    "images_to_predict, _ = next(\n",
    "    iter(mnist_lib.load_mnist(tfds.Split.TEST, batch_size=SERVING_BATCH_SIZE))\n",
    ")\n",
    "instances = images_to_predict.numpy().tolist()"
   ]
  },
  {
   "cell_type": "code",
   "execution_count": 7,
   "id": "c61dc952",
   "metadata": {},
   "outputs": [
    {
     "name": "stdout",
     "output_type": "stream",
     "text": [
      "[[-7.69028711, -10.736084, -5.83085108, -9.11927509, -6.56423521, -3.54872346, -0.0453829765, -15.3260307, -4.54483604, -9.88377762], [-9.91017914, -0.565930367, -1.22142839, -3.13950109, -11.9850464, -10.2440071, -9.66914, -4.67057467, -2.52968788, -5.32883215], [-11.5130682, -18.885561, -0.00804901123, -4.8686595, -11.6738243, -10.9343739, -8.9753685, -15.847784, -8.68292236, -14.0929527]]\n"
     ]
    }
   ],
   "source": [
    "prediction = endpoint.predict(instances)\n",
    "print(prediction.predictions)"
   ]
  },
  {
   "cell_type": "markdown",
   "id": "808dc043",
   "metadata": {},
   "source": [
    "## Cleanup"
   ]
  },
  {
   "cell_type": "code",
   "execution_count": 8,
   "id": "f25a6bd1",
   "metadata": {},
   "outputs": [
    {
     "name": "stdout",
     "output_type": "stream",
     "text": [
      "INFO:google.cloud.aiplatform.models:Undeploying Endpoint model: projects/654544512569/locations/us-central1/endpoints/1562520372278984704\n",
      "INFO:google.cloud.aiplatform.models:Undeploy Endpoint model backing LRO: projects/654544512569/locations/us-central1/endpoints/1562520372278984704/operations/9041664821103165440\n",
      "INFO:google.cloud.aiplatform.models:Endpoint model undeployed. Resource name: projects/654544512569/locations/us-central1/endpoints/1562520372278984704\n",
      "INFO:google.cloud.aiplatform.base:Deleting Endpoint : projects/654544512569/locations/us-central1/endpoints/1562520372278984704\n",
      "INFO:google.cloud.aiplatform.base:Delete Endpoint  backing LRO: projects/654544512569/locations/us-central1/operations/3011344920054071296\n",
      "INFO:google.cloud.aiplatform.base:Endpoint deleted. . Resource name: projects/654544512569/locations/us-central1/endpoints/1562520372278984704\n"
     ]
    }
   ],
   "source": [
    "endpoint.undeploy_all().delete()"
   ]
  },
  {
   "cell_type": "code",
   "execution_count": null,
   "id": "85008ed6",
   "metadata": {},
   "outputs": [],
   "source": []
  }
 ],
 "metadata": {
  "environment": {
   "name": "tf2-gpu.2-5.m74",
   "type": "gcloud",
   "uri": "gcr.io/deeplearning-platform-release/tf2-gpu.2-5:m74"
  },
  "kernelspec": {
   "display_name": "Python 3",
   "language": "python",
   "name": "python3"
  },
  "language_info": {
   "codemirror_mode": {
    "name": "ipython",
    "version": 3
   },
   "file_extension": ".py",
   "mimetype": "text/x-python",
   "name": "python",
   "nbconvert_exporter": "python",
   "pygments_lexer": "ipython3",
   "version": "3.7.10"
  },
  "toc-autonumbering": false,
  "toc-showcode": false,
  "toc-showmarkdowntxt": false
 },
 "nbformat": 4,
 "nbformat_minor": 5
}
