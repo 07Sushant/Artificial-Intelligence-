{
 "cells": [
  {
   "cell_type": "markdown",
   "id": "3ae93020",
   "metadata": {},
   "source": [
    "# Train JAX/Flax model locally and use `jax2tf` to convert to SavedModel"
   ]
  },
  {
   "cell_type": "markdown",
   "id": "c7b89f7a",
   "metadata": {},
   "source": [
    "runs on TF2.5 [Vertex Notebook](https://cloud.google.com/vertex-ai/docs/general/notebooks)"
   ]
  },
  {
   "cell_type": "markdown",
   "id": "f17dcaa5",
   "metadata": {},
   "source": [
    "specific installation with `-f` flag comes from [official repo install instructions](https://github.com/google/jax#installation)"
   ]
  },
  {
   "cell_type": "code",
   "execution_count": 1,
   "id": "b908bb4a",
   "metadata": {},
   "outputs": [],
   "source": [
    "import logging\n",
    "import tensorflow as tf\n",
    "import tensorflow_datasets as tfds\n",
    "\n",
    "from absl import flags\n",
    "from jax.experimental.jax2tf.examples.mnist_lib import load_mnist, FlaxMNIST\n",
    "from jax.experimental.jax2tf.examples.saved_model_lib import (\n",
    "    convert_and_save_model\n",
    ")"
   ]
  },
  {
   "cell_type": "code",
   "execution_count": 2,
   "id": "73ca5489",
   "metadata": {},
   "outputs": [],
   "source": [
    "logger = logging.getLogger()\n",
    "\n",
    "# need to initialize flags somehow to avoid errors in load_mnist\n",
    "flags.FLAGS(['e'])\n",
    "\n",
    "train_batch_size = 128\n",
    "test_batch_size = 16\n",
    "\n",
    "BUCKET_NAME = \"dsparing-sandbox-bucket\"\n",
    "# Use a regional bucket you have rights to.\n",
    "# Create if needed:\n",
    "# REGION=us-central1\n",
    "# !gsutil mb -l ${REGION} gs://${BUCKET}\n",
    "\n",
    "MODEL_NAME = \"jax_model\"\n",
    "MODEL_DIR = f\"gs://{BUCKET_NAME}/models/{MODEL_NAME}\"\n",
    "\n",
    "flax_mnist = FlaxMNIST()"
   ]
  },
  {
   "cell_type": "code",
   "execution_count": 3,
   "id": "46c21c84",
   "metadata": {},
   "outputs": [],
   "source": [
    "train_ds = load_mnist(tfds.Split.TRAIN, train_batch_size)\n",
    "test_ds = load_mnist(tfds.Split.TEST, test_batch_size)"
   ]
  },
  {
   "cell_type": "code",
   "execution_count": 4,
   "id": "aa1d602e",
   "metadata": {},
   "outputs": [
    {
     "name": "stderr",
     "output_type": "stream",
     "text": [
      "INFO:absl:Starting the local TPU driver.\n",
      "INFO:absl:Unable to initialize backend 'tpu_driver': Not found: Unable to find driver in registry given worker: local://\n",
      "INFO:absl:Unable to initialize backend 'tpu': Invalid argument: TpuPlatform is not available.\n",
      "INFO:root:mnist_flax: Epoch 0 in 5.09 sec\n",
      "INFO:root:mnist_flax: Training set accuracy 88.48%\n",
      "INFO:root:mnist_flax: Test set accuracy 89.25%\n",
      "INFO:root:mnist_flax: Epoch 1 in 1.08 sec\n",
      "INFO:root:mnist_flax: Training set accuracy 91.01%\n",
      "INFO:root:mnist_flax: Test set accuracy 91.54%\n"
     ]
    }
   ],
   "source": [
    "logger.setLevel(logging.INFO)\n",
    "\n",
    "predict_fn, params = flax_mnist.train(\n",
    "    train_ds=train_ds,\n",
    "    test_ds=test_ds,\n",
    "    num_epochs=2\n",
    ")\n",
    "\n",
    "logger.setLevel(logging.NOTSET)"
   ]
  },
  {
   "cell_type": "code",
   "execution_count": 5,
   "id": "ce4165af",
   "metadata": {},
   "outputs": [],
   "source": [
    "image, _ = next(iter(train_ds))\n",
    "input_signature = tf.TensorSpec.from_tensor(tf.expand_dims(image[0], axis=0))"
   ]
  },
  {
   "cell_type": "code",
   "execution_count": 6,
   "id": "8567751a",
   "metadata": {},
   "outputs": [
    {
     "name": "stdout",
     "output_type": "stream",
     "text": [
      "WARNING:tensorflow:Mapping types may not work well with tf.nest. Prefer using MutableMapping for <class 'flax.core.frozen_dict.FrozenDict'>\n"
     ]
    },
    {
     "name": "stderr",
     "output_type": "stream",
     "text": [
      "WARNING:tensorflow:Mapping types may not work well with tf.nest. Prefer using MutableMapping for <class 'flax.core.frozen_dict.FrozenDict'>\n"
     ]
    },
    {
     "name": "stdout",
     "output_type": "stream",
     "text": [
      "INFO:tensorflow:Assets written to: gs://dsparing-sandbox-bucket/models/jax_model/assets\n"
     ]
    },
    {
     "name": "stderr",
     "output_type": "stream",
     "text": [
      "INFO:tensorflow:Assets written to: gs://dsparing-sandbox-bucket/models/jax_model/assets\n"
     ]
    }
   ],
   "source": [
    "convert_and_save_model(\n",
    "    jax_fn=predict_fn,\n",
    "    params=params,\n",
    "    model_dir=MODEL_DIR,\n",
    "    input_signatures=[input_signature],\n",
    ")"
   ]
  },
  {
   "cell_type": "markdown",
   "id": "a8c154a0",
   "metadata": {},
   "source": [
    "### Make sure we can actually predict with both predict_fn and savedmodel"
   ]
  },
  {
   "cell_type": "code",
   "execution_count": 7,
   "id": "15847eb6",
   "metadata": {},
   "outputs": [],
   "source": [
    "image_to_predict, _ = next(iter(load_mnist(tfds.Split.TEST, 1)))"
   ]
  },
  {
   "cell_type": "code",
   "execution_count": 8,
   "id": "b9806e8b",
   "metadata": {},
   "outputs": [
    {
     "data": {
      "text/plain": [
       "DeviceArray([[ -6.6423545 , -12.732087  ,  -5.5349283 ,  -7.608638  ,\n",
       "               -4.5714254 ,  -2.2557116 ,  -2.1221883 , -12.284796  ,\n",
       "               -0.27703872,  -6.638275  ]], dtype=float32)"
      ]
     },
     "execution_count": 8,
     "metadata": {},
     "output_type": "execute_result"
    }
   ],
   "source": [
    "predict_fn(params, image_to_predict)"
   ]
  },
  {
   "cell_type": "code",
   "execution_count": 9,
   "id": "c255c204",
   "metadata": {},
   "outputs": [
    {
     "data": {
      "text/plain": [
       "{'output_0': <tf.Tensor: shape=(1, 10), dtype=float32, numpy=\n",
       " array([[ -6.6423545 , -12.732087  ,  -5.5349283 ,  -7.608638  ,\n",
       "          -4.5714254 ,  -2.2557116 ,  -2.1221883 , -12.284796  ,\n",
       "          -0.27703872,  -6.638275  ]], dtype=float32)>}"
      ]
     },
     "execution_count": 9,
     "metadata": {},
     "output_type": "execute_result"
    }
   ],
   "source": [
    "loaded_model = tf.saved_model.load(MODEL_DIR)\n",
    "loaded_model.signatures[\"serving_default\"](image_to_predict)"
   ]
  }
 ],
 "metadata": {
  "environment": {
   "name": "tf2-gpu.2-5.m74",
   "type": "gcloud",
   "uri": "gcr.io/deeplearning-platform-release/tf2-gpu.2-5:m74"
  },
  "kernelspec": {
   "display_name": "Python 3",
   "language": "python",
   "name": "python3"
  },
  "language_info": {
   "codemirror_mode": {
    "name": "ipython",
    "version": 3
   },
   "file_extension": ".py",
   "mimetype": "text/x-python",
   "name": "python",
   "nbconvert_exporter": "python",
   "pygments_lexer": "ipython3",
   "version": "3.7.10"
  }
 },
 "nbformat": 4,
 "nbformat_minor": 5
}
