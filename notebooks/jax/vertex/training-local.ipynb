{
 "cells": [
  {
   "cell_type": "markdown",
   "id": "6b32c099",
   "metadata": {},
   "source": [
    "runs on TF2.5 [Vertex Notebook](https://cloud.google.com/vertex-ai/docs/general/notebooks)"
   ]
  },
  {
   "cell_type": "code",
   "execution_count": null,
   "id": "b57a0abe",
   "metadata": {},
   "outputs": [],
   "source": [
    "%%bash\n",
    "pip3 install --user --upgrade jax jaxlib==0.1.67+cuda110 -f https://storage.googleapis.com/jax-releases/jax_releases.html\n",
    "pip3 install --user --upgrade flax"
   ]
  },
  {
   "cell_type": "markdown",
   "id": "d7788d6b",
   "metadata": {},
   "source": [
    "specific installation with `-f` flag comes from [official repo install instructions](https://github.com/google/jax#installation)"
   ]
  },
  {
   "cell_type": "markdown",
   "id": "502f8462",
   "metadata": {},
   "source": [
    "# Train JAX/Flax model locally and use `jax2tf` to convert to SavedModel"
   ]
  },
  {
   "cell_type": "code",
   "execution_count": 2,
   "id": "b8d88f87",
   "metadata": {},
   "outputs": [],
   "source": [
    "import logging\n",
    "import tensorflow as tf\n",
    "import tensorflow_datasets as tfds\n",
    "\n",
    "from absl import flags\n",
    "from jax.experimental.jax2tf.examples.mnist_lib import load_mnist, FlaxMNIST\n",
    "from jax.experimental.jax2tf.examples.saved_model_lib import convert_and_save_model"
   ]
  },
  {
   "cell_type": "code",
   "execution_count": 3,
   "id": "4b4cbcb8",
   "metadata": {},
   "outputs": [],
   "source": [
    "flags.FLAGS(['e']) # need to initialize flags somehow to avoid errors in load_mnist\n",
    "\n",
    "train_batch_size = 128\n",
    "test_batch_size = 16\n",
    "\n",
    "BUCKET_NAME = \"dsparing-sandbox-bucket\"\n",
    "# Use a regional bucket you have rights to.\n",
    "# Create if needed:\n",
    "# REGION=us-central1\n",
    "# !gsutil mb -l ${REGION} gs://${BUCKET}\n",
    "\n",
    "MODEL_NAME = \"jax_model\"\n",
    "MODEL_DIR = f\"gs://{BUCKET_NAME}/models/{MODEL_NAME}\"\n",
    "\n",
    "flax_mnist = FlaxMNIST()"
   ]
  },
  {
   "cell_type": "code",
   "execution_count": 4,
   "id": "21ccee1f",
   "metadata": {},
   "outputs": [],
   "source": [
    "train_ds = load_mnist(tfds.Split.TRAIN, train_batch_size)\n",
    "test_ds = load_mnist(tfds.Split.TEST, test_batch_size)"
   ]
  },
  {
   "cell_type": "code",
   "execution_count": 5,
   "id": "50380ead",
   "metadata": {},
   "outputs": [
    {
     "name": "stderr",
     "output_type": "stream",
     "text": [
      "INFO:absl:Starting the local TPU driver.\n",
      "INFO:absl:Unable to initialize backend 'tpu_driver': Not found: Unable to find driver in registry given worker: local://\n",
      "INFO:absl:Unable to initialize backend 'tpu': Invalid argument: TpuPlatform is not available.\n",
      "INFO:root:mnist_flax: Epoch 0 in 6.14 sec\n",
      "INFO:root:mnist_flax: Training set accuracy 88.43%\n",
      "INFO:root:mnist_flax: Test set accuracy 89.03%\n",
      "INFO:root:mnist_flax: Epoch 1 in 1.11 sec\n",
      "INFO:root:mnist_flax: Training set accuracy 91.01%\n",
      "INFO:root:mnist_flax: Test set accuracy 91.37%\n"
     ]
    }
   ],
   "source": [
    "logger = logging.getLogger()\n",
    "logger.setLevel(logging.INFO)\n",
    "\n",
    "predict_fn, params = flax_mnist.train(\n",
    "    train_ds=train_ds,\n",
    "    test_ds=test_ds,\n",
    "    num_epochs=2\n",
    ")"
   ]
  },
  {
   "cell_type": "code",
   "execution_count": 6,
   "id": "8e03f414",
   "metadata": {},
   "outputs": [],
   "source": [
    "image, _ = next(iter(train_ds))\n",
    "input_signature = tf.TensorSpec.from_tensor(tf.expand_dims(image[0], axis=0))"
   ]
  },
  {
   "cell_type": "code",
   "execution_count": 7,
   "id": "794f8679",
   "metadata": {},
   "outputs": [
    {
     "name": "stdout",
     "output_type": "stream",
     "text": [
      "WARNING:tensorflow:Mapping types may not work well with tf.nest. Prefer using MutableMapping for <class 'flax.core.frozen_dict.FrozenDict'>\n"
     ]
    },
    {
     "name": "stderr",
     "output_type": "stream",
     "text": [
      "WARNING:tensorflow:Mapping types may not work well with tf.nest. Prefer using MutableMapping for <class 'flax.core.frozen_dict.FrozenDict'>\n"
     ]
    },
    {
     "name": "stdout",
     "output_type": "stream",
     "text": [
      "INFO:tensorflow:Assets written to: gs://dsparing-sandbox-bucket/models/jax_model/assets\n"
     ]
    },
    {
     "name": "stderr",
     "output_type": "stream",
     "text": [
      "INFO:tensorflow:Assets written to: gs://dsparing-sandbox-bucket/models/jax_model/assets\n"
     ]
    }
   ],
   "source": [
    "convert_and_save_model(\n",
    "    jax_fn=predict_fn,\n",
    "    params=params,\n",
    "    model_dir=MODEL_DIR,\n",
    "    input_signatures=[input_signature],\n",
    ")"
   ]
  },
  {
   "cell_type": "markdown",
   "id": "5c033784",
   "metadata": {},
   "source": [
    "### Make sure we can actually predict with both predict_fn and savedmodel"
   ]
  },
  {
   "cell_type": "code",
   "execution_count": 8,
   "id": "1f0e1e68",
   "metadata": {},
   "outputs": [],
   "source": [
    "image_to_predict, _ = next(iter(load_mnist(tfds.Split.TEST, 1)))"
   ]
  },
  {
   "cell_type": "code",
   "execution_count": 9,
   "id": "a231f90e",
   "metadata": {},
   "outputs": [
    {
     "data": {
      "text/plain": [
       "DeviceArray([[ -9.073951  ,  -2.959507  ,  -0.18073097,  -2.9901378 ,\n",
       "              -12.367456  ,  -5.4054875 ,  -6.7608185 ,  -9.742961  ,\n",
       "               -2.8584464 , -10.4303465 ]], dtype=float32)"
      ]
     },
     "execution_count": 9,
     "metadata": {},
     "output_type": "execute_result"
    }
   ],
   "source": [
    "predict_fn(params, image_to_predict)"
   ]
  },
  {
   "cell_type": "code",
   "execution_count": 10,
   "id": "8385ea85",
   "metadata": {},
   "outputs": [
    {
     "data": {
      "text/plain": [
       "{'output_0': <tf.Tensor: shape=(1, 10), dtype=float32, numpy=\n",
       " array([[ -9.073951  ,  -2.959507  ,  -0.18073097,  -2.9901378 ,\n",
       "         -12.367456  ,  -5.4054875 ,  -6.7608185 ,  -9.742961  ,\n",
       "          -2.8584464 , -10.4303465 ]], dtype=float32)>}"
      ]
     },
     "execution_count": 10,
     "metadata": {},
     "output_type": "execute_result"
    }
   ],
   "source": [
    "loaded_model = tf.saved_model.load(MODEL_DIR)\n",
    "loaded_model.signatures[\"serving_default\"](image_to_predict)"
   ]
  }
 ],
 "metadata": {
  "environment": {
   "name": "tf2-gpu.2-5.m71",
   "type": "gcloud",
   "uri": "gcr.io/deeplearning-platform-release/tf2-gpu.2-5:m71"
  },
  "kernelspec": {
   "display_name": "Python 3",
   "language": "python",
   "name": "python3"
  },
  "language_info": {
   "codemirror_mode": {
    "name": "ipython",
    "version": 3
   },
   "file_extension": ".py",
   "mimetype": "text/x-python",
   "name": "python",
   "nbconvert_exporter": "python",
   "pygments_lexer": "ipython3",
   "version": "3.7.10"
  }
 },
 "nbformat": 4,
 "nbformat_minor": 5
}
