{
 "cells": [
  {
   "cell_type": "code",
   "execution_count": 1,
   "id": "8932ef7c",
   "metadata": {},
   "outputs": [],
   "source": [
    "# Copyright 2021 Google LLC\n",
    "#\n",
    "# Licensed under the Apache License, Version 2.0 (the \"License\");\n",
    "# you may not use this file except in compliance with the License.\n",
    "# You may obtain a copy of the License at\n",
    "#\n",
    "#     https://www.apache.org/licenses/LICENSE-2.0\n",
    "#\n",
    "# Unless required by applicable law or agreed to in writing, software\n",
    "# distributed under the License is distributed on an \"AS IS\" BASIS,\n",
    "# WITHOUT WARRANTIES OR CONDITIONS OF ANY KIND, either express or implied.\n",
    "# See the License for the specific language governing permissions and\n",
    "# limitations under the License."
   ]
  },
  {
   "cell_type": "markdown",
   "id": "327c231b",
   "metadata": {},
   "source": [
    "# Train JAX/Flax model locally and use `jax2tf` to convert to SavedModel"
   ]
  },
  {
   "cell_type": "code",
   "execution_count": 2,
   "id": "095b7230",
   "metadata": {},
   "outputs": [],
   "source": [
    "import logging\n",
    "import os\n",
    "\n",
    "import tensorflow as tf\n",
    "import tensorflow_datasets as tfds\n",
    "from absl import flags\n",
    "from jax.experimental.jax2tf.examples import mnist_lib\n",
    "from jax.experimental.jax2tf.examples import saved_model_lib"
   ]
  },
  {
   "cell_type": "code",
   "execution_count": 3,
   "id": "9d0d76f9",
   "metadata": {
    "tags": [
     "flake8-noqa-line-7"
    ]
   },
   "outputs": [],
   "source": [
    "TRAIN_BATCH_SIZE = 128\n",
    "TEST_BATCH_SIZE = 16\n",
    "SERVING_BATCH_SIZE = 3\n",
    "\n",
    "NUM_EPOCHS = 2\n",
    "\n",
    "PROJECT_ID = !(gcloud config get-value project)\n",
    "PROJECT_ID = PROJECT_ID[0]\n",
    "\n",
    "REGION = \"us-central1\"\n",
    "\n",
    "BUCKET_NAME = PROJECT_ID\n",
    "# Use a regional bucket in the above region you have rights to.\n",
    "# Create if needed:\n",
    "# !gsutil mb -l $REGION gs://$BUCKET_NAME\n",
    "\n",
    "BASE_OUTPUT_DIR = f\"gs://{BUCKET_NAME}\"\n",
    "MODEL_NAME = \"jax_model_local\"\n",
    "MODEL_VERSION = 1\n",
    "\n",
    "# Block TF from the GPU to let JAX use it all\n",
    "tf.config.set_visible_devices([], 'GPU')\n",
    "\n",
    "logger = logging.getLogger()\n",
    "\n",
    "# need to initialize flags somehow to avoid errors in load_mnist\n",
    "flags.FLAGS([''])\n",
    "\n",
    "flax_mnist = mnist_lib.FlaxMNIST()"
   ]
  },
  {
   "cell_type": "code",
   "execution_count": 4,
   "id": "698db956",
   "metadata": {},
   "outputs": [],
   "source": [
    "train_ds = mnist_lib.load_mnist(tfds.Split.TRAIN, TRAIN_BATCH_SIZE)\n",
    "test_ds = mnist_lib.load_mnist(tfds.Split.TEST, TEST_BATCH_SIZE)"
   ]
  },
  {
   "cell_type": "code",
   "execution_count": 5,
   "id": "0dcd08fc",
   "metadata": {},
   "outputs": [
    {
     "name": "stderr",
     "output_type": "stream",
     "text": [
      "INFO:absl:Starting the local TPU driver.\n",
      "INFO:absl:Unable to initialize backend 'tpu_driver': Not found: Unable to find driver in registry given worker: local://\n",
      "INFO:absl:Unable to initialize backend 'tpu': Invalid argument: TpuPlatform is not available.\n",
      "INFO:root:mnist_flax: Epoch 0 in 5.24 sec\n",
      "INFO:root:mnist_flax: Training set accuracy 88.50%\n",
      "INFO:root:mnist_flax: Test set accuracy 88.98%\n",
      "INFO:root:mnist_flax: Epoch 1 in 1.09 sec\n",
      "INFO:root:mnist_flax: Training set accuracy 90.81%\n",
      "INFO:root:mnist_flax: Test set accuracy 91.22%\n"
     ]
    }
   ],
   "source": [
    "logger_level = logger.level\n",
    "logger.setLevel(logging.INFO)\n",
    "predict_fn, params = flax_mnist.train(\n",
    "    train_ds=train_ds,\n",
    "    test_ds=test_ds,\n",
    "    num_epochs=NUM_EPOCHS,\n",
    ")\n",
    "logger.setLevel(logger_level)"
   ]
  },
  {
   "cell_type": "code",
   "execution_count": 6,
   "id": "1dc119f8",
   "metadata": {},
   "outputs": [],
   "source": [
    "# Batch-polymorphic SavedModel\n",
    "input_signatures = [\n",
    "    tf.TensorSpec((None,) + mnist_lib.input_shape, tf.float32),\n",
    "]\n",
    "polymorphic_shapes = \"(batch, ...)\""
   ]
  },
  {
   "cell_type": "code",
   "execution_count": 7,
   "id": "c1b0c104",
   "metadata": {},
   "outputs": [
    {
     "name": "stdout",
     "output_type": "stream",
     "text": [
      "WARNING:tensorflow:Mapping types may not work well with tf.nest. Prefer using MutableMapping for <class 'flax.core.frozen_dict.FrozenDict'>\n"
     ]
    },
    {
     "name": "stderr",
     "output_type": "stream",
     "text": [
      "WARNING:tensorflow:Mapping types may not work well with tf.nest. Prefer using MutableMapping for <class 'flax.core.frozen_dict.FrozenDict'>\n"
     ]
    },
    {
     "name": "stdout",
     "output_type": "stream",
     "text": [
      "INFO:tensorflow:Assets written to: gs://dsparing-sandbox/model/jax_model_local/1/assets\n"
     ]
    },
    {
     "name": "stderr",
     "output_type": "stream",
     "text": [
      "INFO:tensorflow:Assets written to: gs://dsparing-sandbox/model/jax_model_local/1/assets\n"
     ]
    }
   ],
   "source": [
    "saved_model_lib.convert_and_save_model(\n",
    "    jax_fn=predict_fn,\n",
    "    params=params,\n",
    "    model_dir=os.path.join(\n",
    "        BASE_OUTPUT_DIR, \"model\", MODEL_NAME, str(MODEL_VERSION)\n",
    "    ),\n",
    "    input_signatures=input_signatures,\n",
    "    polymorphic_shapes=polymorphic_shapes,\n",
    ")"
   ]
  },
  {
   "cell_type": "markdown",
   "id": "74de25ab",
   "metadata": {},
   "source": [
    "## Test Prediction with both predict_fn and savedmodel"
   ]
  },
  {
   "cell_type": "code",
   "execution_count": 8,
   "id": "6dbf47e8",
   "metadata": {},
   "outputs": [],
   "source": [
    "images_to_predict, _ = next(\n",
    "    iter(mnist_lib.load_mnist(tfds.Split.TEST, batch_size=SERVING_BATCH_SIZE))\n",
    ")"
   ]
  },
  {
   "cell_type": "code",
   "execution_count": 9,
   "id": "86cefea4",
   "metadata": {},
   "outputs": [
    {
     "data": {
      "text/plain": [
       "DeviceArray([[ -9.413428  ,  -9.9401655 , -11.998154  ,  -7.7857533 ,\n",
       "               -3.9688947 ,  -6.5135517 , -12.03955   ,  -0.42528656,\n",
       "               -6.579282  ,  -1.1267226 ],\n",
       "             [ -7.438002  , -14.05672   ,  -0.02170406, -12.321133  ,\n",
       "              -10.795774  , -12.085107  ,  -3.9711492 , -14.134722  ,\n",
       "               -6.2216706 , -11.326763  ],\n",
       "             [ -8.40206   , -15.618109  , -11.697708  ,  -8.362864  ,\n",
       "               -9.140024  ,  -8.687246  , -14.885334  ,  -0.12314819,\n",
       "               -7.983146  ,  -2.164707  ]], dtype=float32)"
      ]
     },
     "execution_count": 9,
     "metadata": {},
     "output_type": "execute_result"
    }
   ],
   "source": [
    "predict_fn(params, images_to_predict)"
   ]
  },
  {
   "cell_type": "code",
   "execution_count": 10,
   "id": "f59b1c85",
   "metadata": {
    "tags": [
     "flake8-noqa-cell"
    ]
   },
   "outputs": [
    {
     "name": "stdout",
     "output_type": "stream",
     "text": [
      "         0  2021-06-29T20:39:31Z  gs://dsparing-sandbox/model/jax_model_local/1/\n",
      "     59519  2021-07-01T14:30:08Z  gs://dsparing-sandbox/model/jax_model_local/1/saved_model.pb\n",
      "                                 gs://dsparing-sandbox/model/jax_model_local/1/assets/\n",
      "                                 gs://dsparing-sandbox/model/jax_model_local/1/variables/\n",
      "TOTAL: 2 objects, 59519 bytes (58.12 KiB)\n"
     ]
    }
   ],
   "source": [
    "!gsutil ls -l $BASE_OUTPUT_DIR/model/$MODEL_NAME/$MODEL_VERSION"
   ]
  },
  {
   "cell_type": "code",
   "execution_count": 11,
   "id": "2e67ab17",
   "metadata": {
    "tags": [
     "flake8-noqa-cell"
    ]
   },
   "outputs": [
    {
     "name": "stdout",
     "output_type": "stream",
     "text": [
      "\n",
      "MetaGraphDef with tag-set: 'serve' contains the following SignatureDefs:\n",
      "\n",
      "signature_def['__saved_model_init_op']:\n",
      "  The given SavedModel SignatureDef contains the following input(s):\n",
      "  The given SavedModel SignatureDef contains the following output(s):\n",
      "    outputs['__saved_model_init_op'] tensor_info:\n",
      "        dtype: DT_INVALID\n",
      "        shape: unknown_rank\n",
      "        name: NoOp\n",
      "  Method name is: \n",
      "\n",
      "signature_def['serving_default']:\n",
      "  The given SavedModel SignatureDef contains the following input(s):\n",
      "    inputs['inputs'] tensor_info:\n",
      "        dtype: DT_FLOAT\n",
      "        shape: (-1, 28, 28, 1)\n",
      "        name: serving_default_inputs:0\n",
      "  The given SavedModel SignatureDef contains the following output(s):\n",
      "    outputs['output_0'] tensor_info:\n",
      "        dtype: DT_FLOAT\n",
      "        shape: (-1, 10)\n",
      "        name: StatefulPartitionedCall:0\n",
      "  Method name is: tensorflow/serving/predict\n",
      "\n",
      "Defined Functions:\n",
      "  Function Name: '__call__'\n",
      "    Option #1\n",
      "      Callable with:\n",
      "        Argument #1\n",
      "          inputs: TensorSpec(shape=(None, 28, 28, 1), dtype=tf.float32, name='inputs')\n"
     ]
    }
   ],
   "source": [
    "!saved_model_cli show \\\n",
    "    --dir $BASE_OUTPUT_DIR/model/$MODEL_NAME/$MODEL_VERSION \\\n",
    "    --all"
   ]
  },
  {
   "cell_type": "code",
   "execution_count": 12,
   "id": "a37c3154",
   "metadata": {},
   "outputs": [
    {
     "data": {
      "text/plain": [
       "{'output_0': <tf.Tensor: shape=(3, 10), dtype=float32, numpy=\n",
       " array([[ -9.413428  ,  -9.940166  , -11.998155  ,  -7.785753  ,\n",
       "          -3.9688945 ,  -6.5135503 , -12.039551  ,  -0.4252868 ,\n",
       "          -6.579281  ,  -1.1267219 ],\n",
       "        [ -7.438001  , -14.05672   ,  -0.02170417, -12.321133  ,\n",
       "         -10.795776  , -12.085108  ,  -3.97115   , -14.134721  ,\n",
       "          -6.2216706 , -11.326763  ],\n",
       "        [ -8.40206   , -15.618111  , -11.697708  ,  -8.362864  ,\n",
       "          -9.140025  ,  -8.687246  , -14.885333  ,  -0.12314788,\n",
       "          -7.9831457 ,  -2.1647086 ]], dtype=float32)>}"
      ]
     },
     "execution_count": 12,
     "metadata": {},
     "output_type": "execute_result"
    }
   ],
   "source": [
    "loaded_model = tf.saved_model.load(\n",
    "    os.path.join(BASE_OUTPUT_DIR, \"model\", MODEL_NAME, str(MODEL_VERSION))\n",
    ")\n",
    "loaded_model.signatures[\"serving_default\"](images_to_predict)"
   ]
  },
  {
   "cell_type": "code",
   "execution_count": null,
   "id": "18cc333d",
   "metadata": {},
   "outputs": [],
   "source": []
  }
 ],
 "metadata": {
  "environment": {
   "name": "tf2-gpu.2-5.m74",
   "type": "gcloud",
   "uri": "gcr.io/deeplearning-platform-release/tf2-gpu.2-5:m74"
  },
  "kernelspec": {
   "display_name": "Python 3",
   "language": "python",
   "name": "python3"
  },
  "language_info": {
   "codemirror_mode": {
    "name": "ipython",
    "version": 3
   },
   "file_extension": ".py",
   "mimetype": "text/x-python",
   "name": "python",
   "nbconvert_exporter": "python",
   "pygments_lexer": "ipython3",
   "version": "3.7.10"
  }
 },
 "nbformat": 4,
 "nbformat_minor": 5
}
