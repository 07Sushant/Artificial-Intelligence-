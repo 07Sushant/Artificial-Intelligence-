{
 "cells": [
  {
   "cell_type": "code",
   "execution_count": 1,
   "id": "69b500da",
   "metadata": {},
   "outputs": [],
   "source": [
    "# Copyright 2021 Google LLC\n",
    "#\n",
    "# Licensed under the Apache License, Version 2.0 (the \"License\");\n",
    "# you may not use this file except in compliance with the License.\n",
    "# You may obtain a copy of the License at\n",
    "#\n",
    "#     https://www.apache.org/licenses/LICENSE-2.0\n",
    "#\n",
    "# Unless required by applicable law or agreed to in writing, software\n",
    "# distributed under the License is distributed on an \"AS IS\" BASIS,\n",
    "# WITHOUT WARRANTIES OR CONDITIONS OF ANY KIND, either express or implied.\n",
    "# See the License for the specific language governing permissions and\n",
    "# limitations under the License."
   ]
  },
  {
   "cell_type": "markdown",
   "id": "2f6f9a9a",
   "metadata": {},
   "source": [
    "# Train JAX/Flax model locally and use `jax2tf` to convert to SavedModel"
   ]
  },
  {
   "cell_type": "code",
   "execution_count": 2,
   "id": "9e623ce4",
   "metadata": {},
   "outputs": [],
   "source": [
    "import logging\n",
    "import os\n",
    "\n",
    "import tensorflow as tf\n",
    "import tensorflow_datasets as tfds\n",
    "from absl import flags\n",
    "from jax.experimental.jax2tf.examples import mnist_lib\n",
    "from jax.experimental.jax2tf.examples import saved_model_lib"
   ]
  },
  {
   "cell_type": "code",
   "execution_count": 3,
   "id": "e739d9a1",
   "metadata": {},
   "outputs": [],
   "source": [
    "TRAIN_BATCH_SIZE = 128\n",
    "TEST_BATCH_SIZE = 16\n",
    "NUM_EPOCHS = 2\n",
    "\n",
    "PROJECT_ID = !(gcloud config get-value core/project)\n",
    "PROJECT_ID = PROJECT_ID[0]\n",
    "\n",
    "REGION = \"us-central1\"\n",
    "os.environ['REGION'] = REGION\n",
    "\n",
    "BUCKET_NAME = PROJECT_ID\n",
    "os.environ['BUCKET_NAME'] = BUCKET_NAME\n",
    "# Use a regional bucket in the above region you have rights to.\n",
    "# Create if needed:\n",
    "# !gsutil mb -l ${REGION} gs://${BUCKET_NAME}\n",
    "\n",
    "MODEL_BASE_PATH = f\"gs://{BUCKET_NAME}/savedmodels\"\n",
    "MODEL_NAME = \"jax_model_local\"\n",
    "MODEL_VERSION = 1\n",
    "\n",
    "# Block TF from the GPU to let JAX use it all\n",
    "tf.config.set_visible_devices([], 'GPU')\n",
    "\n",
    "logger = logging.getLogger()\n",
    "\n",
    "# need to initialize flags somehow to avoid errors in load_mnist\n",
    "flags.FLAGS([''])\n",
    "\n",
    "flax_mnist = mnist_lib.FlaxMNIST()"
   ]
  },
  {
   "cell_type": "code",
   "execution_count": 4,
   "id": "d773d6f4",
   "metadata": {},
   "outputs": [],
   "source": [
    "train_ds = mnist_lib.load_mnist(tfds.Split.TRAIN, TRAIN_BATCH_SIZE)\n",
    "test_ds = mnist_lib.load_mnist(tfds.Split.TEST, TEST_BATCH_SIZE)"
   ]
  },
  {
   "cell_type": "code",
   "execution_count": 5,
   "id": "1fdd03c8",
   "metadata": {},
   "outputs": [],
   "source": [
    "image, _ = next(iter(train_ds))\n",
    "input_signature = tf.TensorSpec.from_tensor(\n",
    "    tf.expand_dims(image[0], axis=0)\n",
    ")"
   ]
  },
  {
   "cell_type": "code",
   "execution_count": 6,
   "id": "4197a5b5",
   "metadata": {},
   "outputs": [
    {
     "name": "stderr",
     "output_type": "stream",
     "text": [
      "INFO:absl:Starting the local TPU driver.\n",
      "INFO:absl:Unable to initialize backend 'tpu_driver': Not found: Unable to find driver in registry given worker: local://\n",
      "INFO:absl:Unable to initialize backend 'tpu': Invalid argument: TpuPlatform is not available.\n",
      "INFO:root:mnist_flax: Epoch 0 in 5.47 sec\n",
      "INFO:root:mnist_flax: Training set accuracy 88.41%\n",
      "INFO:root:mnist_flax: Test set accuracy 88.96%\n",
      "INFO:root:mnist_flax: Epoch 1 in 1.13 sec\n",
      "INFO:root:mnist_flax: Training set accuracy 90.85%\n",
      "INFO:root:mnist_flax: Test set accuracy 91.26%\n"
     ]
    }
   ],
   "source": [
    "logger_level = logger.level\n",
    "logger.setLevel(logging.INFO)\n",
    "predict_fn, params = flax_mnist.train(\n",
    "    train_ds=train_ds,\n",
    "    test_ds=test_ds,\n",
    "    num_epochs=NUM_EPOCHS,\n",
    ")\n",
    "logger.setLevel(logger_level)"
   ]
  },
  {
   "cell_type": "code",
   "execution_count": 7,
   "id": "e50c9e8d",
   "metadata": {},
   "outputs": [
    {
     "name": "stdout",
     "output_type": "stream",
     "text": [
      "WARNING:tensorflow:Mapping types may not work well with tf.nest. Prefer using MutableMapping for <class 'flax.core.frozen_dict.FrozenDict'>\n"
     ]
    },
    {
     "name": "stderr",
     "output_type": "stream",
     "text": [
      "WARNING:tensorflow:Mapping types may not work well with tf.nest. Prefer using MutableMapping for <class 'flax.core.frozen_dict.FrozenDict'>\n"
     ]
    },
    {
     "name": "stdout",
     "output_type": "stream",
     "text": [
      "INFO:tensorflow:Assets written to: gs://dsparing-sandbox/savedmodels/jax_model_local/model/1/assets\n"
     ]
    },
    {
     "name": "stderr",
     "output_type": "stream",
     "text": [
      "INFO:tensorflow:Assets written to: gs://dsparing-sandbox/savedmodels/jax_model_local/model/1/assets\n"
     ]
    }
   ],
   "source": [
    "saved_model_lib.convert_and_save_model(\n",
    "    jax_fn=predict_fn,\n",
    "    params=params,\n",
    "    model_dir=os.path.join(MODEL_BASE_PATH, MODEL_NAME, \"model\", str(MODEL_VERSION)),\n",
    "    input_signatures=[input_signature],\n",
    ")"
   ]
  },
  {
   "cell_type": "markdown",
   "id": "408558ca",
   "metadata": {},
   "source": [
    "## Test Prediction with both predict_fn and savedmodel"
   ]
  },
  {
   "cell_type": "code",
   "execution_count": 8,
   "id": "978c4b90",
   "metadata": {},
   "outputs": [],
   "source": [
    "image_to_predict, _ = next(iter(mnist_lib.load_mnist(tfds.Split.TEST, batch_size=1)))"
   ]
  },
  {
   "cell_type": "code",
   "execution_count": 9,
   "id": "4837decb",
   "metadata": {},
   "outputs": [
    {
     "data": {
      "text/plain": [
       "DeviceArray([[ -9.100128  , -17.533741  ,  -7.954192  ,  -9.037198  ,\n",
       "               -2.8668425 ,  -8.061162  ,  -9.226994  ,  -4.7232003 ,\n",
       "               -6.6714783 ,  -0.07045154]], dtype=float32)"
      ]
     },
     "execution_count": 9,
     "metadata": {},
     "output_type": "execute_result"
    }
   ],
   "source": [
    "predict_fn(params, image_to_predict)"
   ]
  },
  {
   "cell_type": "code",
   "execution_count": 13,
   "id": "df2a087b",
   "metadata": {},
   "outputs": [
    {
     "name": "stdout",
     "output_type": "stream",
     "text": [
      "         0  2021-06-28T08:57:54Z  gs://dsparing-sandbox/savedmodels/jax_model_local/model/1/\n",
      "     53991  2021-06-28T08:57:59Z  gs://dsparing-sandbox/savedmodels/jax_model_local/model/1/saved_model.pb\n",
      "                                 gs://dsparing-sandbox/savedmodels/jax_model_local/model/1/assets/\n",
      "                                 gs://dsparing-sandbox/savedmodels/jax_model_local/model/1/variables/\n",
      "TOTAL: 2 objects, 53991 bytes (52.73 KiB)\n"
     ]
    }
   ],
   "source": [
    "!gsutil ls -l $MODEL_BASE_PATH/$MODEL_NAME/model/$MODEL_VERSION"
   ]
  },
  {
   "cell_type": "code",
   "execution_count": 14,
   "id": "01c9dfab",
   "metadata": {},
   "outputs": [
    {
     "name": "stdout",
     "output_type": "stream",
     "text": [
      "\n",
      "MetaGraphDef with tag-set: 'serve' contains the following SignatureDefs:\n",
      "\n",
      "signature_def['__saved_model_init_op']:\n",
      "  The given SavedModel SignatureDef contains the following input(s):\n",
      "  The given SavedModel SignatureDef contains the following output(s):\n",
      "    outputs['__saved_model_init_op'] tensor_info:\n",
      "        dtype: DT_INVALID\n",
      "        shape: unknown_rank\n",
      "        name: NoOp\n",
      "  Method name is: \n",
      "\n",
      "signature_def['serving_default']:\n",
      "  The given SavedModel SignatureDef contains the following input(s):\n",
      "    inputs['inputs'] tensor_info:\n",
      "        dtype: DT_FLOAT\n",
      "        shape: (1, 28, 28, 1)\n",
      "        name: serving_default_inputs:0\n",
      "  The given SavedModel SignatureDef contains the following output(s):\n",
      "    outputs['output_0'] tensor_info:\n",
      "        dtype: DT_FLOAT\n",
      "        shape: (1, 10)\n",
      "        name: StatefulPartitionedCall:0\n",
      "  Method name is: tensorflow/serving/predict\n",
      "\n",
      "Defined Functions:\n",
      "  Function Name: '__call__'\n",
      "    Option #1\n",
      "      Callable with:\n",
      "        Argument #1\n",
      "          inputs: TensorSpec(shape=(1, 28, 28, 1), dtype=tf.float32, name='inputs')\n"
     ]
    }
   ],
   "source": [
    "!saved_model_cli show --dir $MODEL_BASE_PATH/$MODEL_NAME/model/$MODEL_VERSION --all"
   ]
  },
  {
   "cell_type": "code",
   "execution_count": 15,
   "id": "5d01f00b",
   "metadata": {},
   "outputs": [
    {
     "data": {
      "text/plain": [
       "{'output_0': <tf.Tensor: shape=(1, 10), dtype=float32, numpy=\n",
       " array([[ -9.100126  , -17.533737  ,  -7.954193  ,  -9.0372    ,\n",
       "          -2.866843  ,  -8.061165  ,  -9.226992  ,  -4.7232056 ,\n",
       "          -6.6714773 ,  -0.07045154]], dtype=float32)>}"
      ]
     },
     "execution_count": 15,
     "metadata": {},
     "output_type": "execute_result"
    }
   ],
   "source": [
    "loaded_model = tf.saved_model.load(os.path.join(MODEL_BASE_PATH, MODEL_NAME, \"model\", str(MODEL_VERSION)))\n",
    "loaded_model.signatures[\"serving_default\"](image_to_predict)"
   ]
  },
  {
   "cell_type": "code",
   "execution_count": null,
   "id": "16192dac",
   "metadata": {},
   "outputs": [],
   "source": []
  }
 ],
 "metadata": {
  "environment": {
   "name": "tf2-gpu.2-5.m74",
   "type": "gcloud",
   "uri": "gcr.io/deeplearning-platform-release/tf2-gpu.2-5:m74"
  },
  "kernelspec": {
   "display_name": "Python 3",
   "language": "python",
   "name": "python3"
  },
  "language_info": {
   "codemirror_mode": {
    "name": "ipython",
    "version": 3
   },
   "file_extension": ".py",
   "mimetype": "text/x-python",
   "name": "python",
   "nbconvert_exporter": "python",
   "pygments_lexer": "ipython3",
   "version": "3.7.10"
  }
 },
 "nbformat": 4,
 "nbformat_minor": 5
}
