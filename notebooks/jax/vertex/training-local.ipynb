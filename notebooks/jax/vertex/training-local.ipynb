{
 "cells": [
  {
   "cell_type": "markdown",
   "id": "2cef4bc0",
   "metadata": {},
   "source": [
    "# Train JAX/Flax model locally and use `jax2tf` to convert to SavedModel"
   ]
  },
  {
   "cell_type": "code",
   "execution_count": 1,
   "id": "ea569841",
   "metadata": {},
   "outputs": [],
   "source": [
    "import logging\n",
    "import tensorflow as tf\n",
    "import tensorflow_datasets as tfds\n",
    "\n",
    "from absl import flags\n",
    "from jax.experimental.jax2tf.examples.mnist_lib import load_mnist, FlaxMNIST\n",
    "from jax.experimental.jax2tf.examples.saved_model_lib import (\n",
    "    convert_and_save_model\n",
    ")"
   ]
  },
  {
   "cell_type": "code",
   "execution_count": 2,
   "id": "9a816f4a",
   "metadata": {},
   "outputs": [],
   "source": [
    "logger = logging.getLogger()\n",
    "\n",
    "# need to initialize flags somehow to avoid errors in load_mnist\n",
    "flags.FLAGS(['e'])\n",
    "\n",
    "train_batch_size = 128\n",
    "test_batch_size = 16\n",
    "\n",
    "BUCKET_NAME = \"dsparing-sandbox-bucket\"\n",
    "# Use a regional bucket you have rights to.\n",
    "# Create if needed:\n",
    "# REGION=us-central1\n",
    "# !gsutil mb -l ${REGION} gs://${BUCKET}\n",
    "\n",
    "MODEL_NAME = \"jax_model_local\"\n",
    "SAVEDMODEL_DIR = f\"gs://{BUCKET_NAME}/models/{MODEL_NAME}/output\"\n",
    "\n",
    "flax_mnist = FlaxMNIST()"
   ]
  },
  {
   "cell_type": "code",
   "execution_count": 3,
   "id": "73a00e65",
   "metadata": {},
   "outputs": [],
   "source": [
    "train_ds = load_mnist(tfds.Split.TRAIN, train_batch_size)\n",
    "test_ds = load_mnist(tfds.Split.TEST, test_batch_size)"
   ]
  },
  {
   "cell_type": "code",
   "execution_count": 4,
   "id": "517b1bdb",
   "metadata": {},
   "outputs": [
    {
     "name": "stderr",
     "output_type": "stream",
     "text": [
      "INFO:absl:Starting the local TPU driver.\n",
      "INFO:absl:Unable to initialize backend 'tpu_driver': Not found: Unable to find driver in registry given worker: local://\n",
      "INFO:absl:Unable to initialize backend 'tpu': Invalid argument: TpuPlatform is not available.\n",
      "INFO:root:mnist_flax: Epoch 0 in 5.34 sec\n",
      "INFO:root:mnist_flax: Training set accuracy 88.38%\n",
      "INFO:root:mnist_flax: Test set accuracy 88.95%\n",
      "INFO:root:mnist_flax: Epoch 1 in 1.09 sec\n",
      "INFO:root:mnist_flax: Training set accuracy 90.72%\n",
      "INFO:root:mnist_flax: Test set accuracy 91.27%\n",
      "INFO:root:mnist_flax: Epoch 2 in 1.05 sec\n",
      "INFO:root:mnist_flax: Training set accuracy 92.14%\n",
      "INFO:root:mnist_flax: Test set accuracy 92.68%\n",
      "INFO:root:mnist_flax: Epoch 3 in 1.05 sec\n",
      "INFO:root:mnist_flax: Training set accuracy 93.37%\n",
      "INFO:root:mnist_flax: Test set accuracy 93.66%\n",
      "INFO:root:mnist_flax: Epoch 4 in 1.07 sec\n",
      "INFO:root:mnist_flax: Training set accuracy 94.10%\n",
      "INFO:root:mnist_flax: Test set accuracy 94.28%\n",
      "INFO:root:mnist_flax: Epoch 5 in 1.05 sec\n",
      "INFO:root:mnist_flax: Training set accuracy 94.62%\n",
      "INFO:root:mnist_flax: Test set accuracy 94.88%\n",
      "INFO:root:mnist_flax: Epoch 6 in 1.06 sec\n",
      "INFO:root:mnist_flax: Training set accuracy 95.11%\n",
      "INFO:root:mnist_flax: Test set accuracy 95.34%\n",
      "INFO:root:mnist_flax: Epoch 7 in 1.28 sec\n",
      "INFO:root:mnist_flax: Training set accuracy 95.62%\n",
      "INFO:root:mnist_flax: Test set accuracy 95.86%\n",
      "INFO:root:mnist_flax: Epoch 8 in 1.05 sec\n",
      "INFO:root:mnist_flax: Training set accuracy 95.86%\n",
      "INFO:root:mnist_flax: Test set accuracy 96.14%\n",
      "INFO:root:mnist_flax: Epoch 9 in 1.28 sec\n",
      "INFO:root:mnist_flax: Training set accuracy 96.26%\n",
      "INFO:root:mnist_flax: Test set accuracy 96.47%\n"
     ]
    }
   ],
   "source": [
    "logger.setLevel(logging.INFO)\n",
    "\n",
    "predict_fn, params = flax_mnist.train(\n",
    "    train_ds=train_ds,\n",
    "    test_ds=test_ds,\n",
    "    num_epochs=10,\n",
    ")\n",
    "\n",
    "logger.setLevel(logging.NOTSET)"
   ]
  },
  {
   "cell_type": "code",
   "execution_count": 5,
   "id": "ecf20558",
   "metadata": {},
   "outputs": [],
   "source": [
    "image, _ = next(iter(train_ds))\n",
    "input_signature = tf.TensorSpec.from_tensor(tf.expand_dims(image[0], axis=0))"
   ]
  },
  {
   "cell_type": "code",
   "execution_count": 6,
   "id": "23bcb1d5",
   "metadata": {},
   "outputs": [
    {
     "name": "stdout",
     "output_type": "stream",
     "text": [
      "WARNING:tensorflow:Mapping types may not work well with tf.nest. Prefer using MutableMapping for <class 'flax.core.frozen_dict.FrozenDict'>\n"
     ]
    },
    {
     "name": "stderr",
     "output_type": "stream",
     "text": [
      "WARNING:tensorflow:Mapping types may not work well with tf.nest. Prefer using MutableMapping for <class 'flax.core.frozen_dict.FrozenDict'>\n"
     ]
    },
    {
     "name": "stdout",
     "output_type": "stream",
     "text": [
      "INFO:tensorflow:Assets written to: gs://dsparing-sandbox-bucket/models/jax_model_local/output/assets\n"
     ]
    },
    {
     "name": "stderr",
     "output_type": "stream",
     "text": [
      "INFO:tensorflow:Assets written to: gs://dsparing-sandbox-bucket/models/jax_model_local/output/assets\n"
     ]
    }
   ],
   "source": [
    "convert_and_save_model(\n",
    "    jax_fn=predict_fn,\n",
    "    params=params,\n",
    "    model_dir=SAVEDMODEL_DIR,\n",
    "    input_signatures=[input_signature],\n",
    ")"
   ]
  },
  {
   "cell_type": "markdown",
   "id": "b89c1c26",
   "metadata": {},
   "source": [
    "### Make sure we can actually predict with both predict_fn and savedmodel"
   ]
  },
  {
   "cell_type": "code",
   "execution_count": 7,
   "id": "352c7336",
   "metadata": {},
   "outputs": [],
   "source": [
    "image_to_predict, _ = next(iter(load_mnist(tfds.Split.TEST, 1)))"
   ]
  },
  {
   "cell_type": "code",
   "execution_count": 8,
   "id": "a0ca133d",
   "metadata": {},
   "outputs": [
    {
     "data": {
      "text/plain": [
       "DeviceArray([[-9.8502626e+00, -2.1723980e+01, -1.0447656e+01,\n",
       "              -1.3074039e+01, -1.1490358e-02, -5.5715027e+00,\n",
       "              -1.0479521e+01, -7.7336907e+00, -8.7529469e+00,\n",
       "              -4.9744759e+00]], dtype=float32)"
      ]
     },
     "execution_count": 8,
     "metadata": {},
     "output_type": "execute_result"
    }
   ],
   "source": [
    "predict_fn(params, image_to_predict)"
   ]
  },
  {
   "cell_type": "code",
   "execution_count": 9,
   "id": "ff66b9b9",
   "metadata": {},
   "outputs": [
    {
     "data": {
      "text/plain": [
       "{'output_0': <tf.Tensor: shape=(1, 10), dtype=float32, numpy=\n",
       " array([[-9.8502626e+00, -2.1723980e+01, -1.0447656e+01, -1.3074039e+01,\n",
       "         -1.1490475e-02, -5.5715027e+00, -1.0479521e+01, -7.7336907e+00,\n",
       "         -8.7529469e+00, -4.9744759e+00]], dtype=float32)>}"
      ]
     },
     "execution_count": 9,
     "metadata": {},
     "output_type": "execute_result"
    }
   ],
   "source": [
    "loaded_model = tf.saved_model.load(SAVEDMODEL_DIR)\n",
    "loaded_model.signatures[\"serving_default\"](image_to_predict)"
   ]
  }
 ],
 "metadata": {
  "environment": {
   "name": "tf2-gpu.2-5.m74",
   "type": "gcloud",
   "uri": "gcr.io/deeplearning-platform-release/tf2-gpu.2-5:m74"
  },
  "kernelspec": {
   "display_name": "Python 3",
   "language": "python",
   "name": "python3"
  },
  "language_info": {
   "codemirror_mode": {
    "name": "ipython",
    "version": 3
   },
   "file_extension": ".py",
   "mimetype": "text/x-python",
   "name": "python",
   "nbconvert_exporter": "python",
   "pygments_lexer": "ipython3",
   "version": "3.7.10"
  }
 },
 "nbformat": 4,
 "nbformat_minor": 5
}
