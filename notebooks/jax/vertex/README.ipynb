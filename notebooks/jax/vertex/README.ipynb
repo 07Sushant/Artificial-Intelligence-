{
 "cells": [
  {
   "cell_type": "markdown",
   "id": "d89e51ee",
   "metadata": {},
   "source": [
    "# JAX/Flax training and prediction on Vertex AI\n",
    "\n",
    "[Flax](https://flax.readthedocs.io/en/latest/) is a deep learning library on top of [JAX](https://github.com/google/jax).\n",
    "\n",
    "[Vertex AI](https://cloud.google.com/vertex-ai) is a suite of managed ML/AI services on Google Cloud. (Its core components at some points in time were also called _Cloud ML Engine_ and _AI Platform_.)\n",
    "\n",
    "These examples use [Vertex AI Notebooks](https://cloud.google.com/vertex-ai/docs/general/notebooks), a managed JupyterHub environment that runs [Google Cloud Deep Learning VM Images](https://cloud.google.com/deep-learning-vm) and is tightly integrated with other Google Cloud products (for example, you can are pre-authenticated to directly run [`gcloud`](https://cloud.google.com/sdk/gcloud/reference) and [`gsutil`](https://cloud.google.com/storage/docs/gsutil) commands from Notebooks).\n",
    "\n",
    "You can interact with Vertex AI in a number of ways, including the [Cloud Console GUI](https://console.cloud.google.com/), the [`gcloud ai` CLI](https://cloud.google.com/sdk/gcloud/reference/ai), [REST](https://cloud.google.com/vertex-ai/docs/reference/rest)/[RPC](https://cloud.google.com/vertex-ai/docs/reference/rpc) API calls, as well as a [client libraries in several languages](https://cloud.google.com/vertex-ai/docs/start/client-libraries). In the below examples we use the client library [Vertex SDK for Python](https://github.com/googleapis/python-aiplatform).\n",
    "\n",
    "## Vertex AI Training\n",
    "\n",
    "[Vertex AI Custom Training](https://cloud.google.com/vertex-ai/docs/training/custom-training) supports containerized ML training jobs, either using [pre-built containers](https://cloud.google.com/vertex-ai/docs/training/pre-built-containers) (that can only be lightly customized with e.g. additional Python packages) or with a [custom container](https://cloud.google.com/vertex-ai/docs/training/containers-overview).\n",
    "\n",
    "The below examples all train the [FlaxMNIST](https://github.com/google/jax/blob/main/jax/experimental/jax2tf/examples/mnist_lib.py) model, optionally using a [GPU](https://cloud.google.com/gpu), and [`jax2tf`](https://github.com/google/jax/tree/main/jax/experimental/jax2tf) is used to convert to a [SavedModel](https://www.tensorflow.org/guide/saved_model), which is uploaded to [Cloud Storage](https://cloud.google.com/storage). Use a [TensorFlow 2.5 image](https://cloud.google.com/notebooks/docs/images#images) on [Vertex AI Notebooks](https://cloud.google.com/vertex-ai/docs/general/notebooks) to run.\n",
    "\n",
    "- [training-prebuilt.ipynb](training-prebuilt.ipynb) uses a [pre-built container for TensorFlow](https://cloud.google.com/vertex-ai/docs/training/pre-built-containers#tensorflow) to train on Vertex AI. \n",
    "\n",
    "- [training-customcontainer.ipynb](training-customcontainer.ipynb) uses a [Google Cloud Deep Learning VM Image for TensorFlow](https://cloud.google.com/deep-learning-vm/docs/images#images) to train on Vertex AI.\n",
    "\n",
    "- [training-local.ipynb](training-local.ipynb) trains the model inside the notebook environment (useful if you only want to explore Vertex AI prediction and need a SavedModel).\n",
    "\n",
    "## Vertex AI Prediction\n",
    "\n",
    "[Vertex AI Predition](https://cloud.google.com/vertex-ai/docs/predictions/getting-predictions) allows for many different types of ML models, including TensorFlow SavedModel artifacts, to be deployed to scalable endpoints that listen to online prediction requests. The uploaded models can also be used for batch prediction jobs.\n",
    "\n",
    "- [prediction-customcontainer.ipynb](prediction-customcontainer.ipynb) uses a SavedModel stored in Cloud Storage, and bakes it in a [TensorFlow Serving container](https://www.tensorflow.org/tfx/serving/docker#creating_your_own_serving_image) which can be used as a [custom container for Vertex AI Prediction](https://cloud.google.com/vertex-ai/docs/predictions/use-custom-container).\n",
    "\n",
    "## Next Steps\n",
    "\n",
    "Many more things could be made possible with Vertex AI:\n",
    "\n",
    "- Make GPU online prediction work\n",
    "- Demonstrate [Batch Prediction](https://cloud.google.com/vertex-ai/docs/predictions/batch-prediction)\n",
    "- [Distributed training](https://cloud.google.com/vertex-ai/docs/training/distributed-training)\n",
    "- [Hyperparameter Tuning](https://cloud.google.com/vertex-ai/docs/training/hyperparameter-tuning-overview)\n",
    "- [Experiments with managed TensorBoard](https://cloud.google.com/vertex-ai/docs/experiments)\n",
    "- Orchestration with [Vertex Pipelines](https://cloud.google.com/vertex-ai/docs/pipelines), using Kubeflow Pipelines or TFX\n",
    "- Further [MLOps](https://cloud.google.com/resources/mlops-whitepaper) components such as [Model Monitoring](https://cloud.google.com/vertex-ai/docs/model-monitoring)"
   ]
  },
  {
   "cell_type": "code",
   "execution_count": null,
   "id": "29f93be9",
   "metadata": {},
   "outputs": [],
   "source": []
  }
 ],
 "metadata": {
  "environment": {
   "name": "tf2-gpu.2-5.m71",
   "type": "gcloud",
   "uri": "gcr.io/deeplearning-platform-release/tf2-gpu.2-5:m71"
  },
  "kernelspec": {
   "display_name": "Python 3",
   "language": "python",
   "name": "python3"
  },
  "language_info": {
   "codemirror_mode": {
    "name": "ipython",
    "version": 3
   },
   "file_extension": ".py",
   "mimetype": "text/x-python",
   "name": "python",
   "nbconvert_exporter": "python",
   "pygments_lexer": "ipython3",
   "version": "3.7.10"
  }
 },
 "nbformat": 4,
 "nbformat_minor": 5
}
