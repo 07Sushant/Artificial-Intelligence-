{
 "cells": [
  {
   "cell_type": "markdown",
   "metadata": {
    "id": "JSJANANlu8hp"
   },
   "source": [
    "# Graph Classification with TF-GNN"
   ]
  },
  {
   "cell_type": "markdown",
   "metadata": {
    "id": "IiVSmMbrtCl0"
   },
   "source": [
    "In this lab, we will do graph classification of molecules.\n",
    "\n",
    "Each molecule is represented as a graph. Nodes correspond to atoms, and edges represent the bonds between them. This is one of the application areas where GNNs are now the method of choice.\n",
    "\n",
    "We will use the MUTAG dataset, a common dataset from the [TUDatasets](https://chrsmrrs.github.io/datasets/) collection.\n",
    "\n",
    "There are 188 graphs in this dataset, labeled with one of two classes, representing \"their mutagenic effect on a specific gram negative bacterium\". Node features represent the 1-hot encoding of the atom type (0=C, 1=N, 2=O, 3=F, 4=I, 5=Cl, 6=Br). Edge features  represent the bond type.\n",
    "\n",
    "Please note that this is an introductory example on homogeneous graphs (one node type, and one edge type). TF-GNN is designed to support heterogeneous graphs as well (multiple node types, and/or multiple edge types)."
   ]
  },
  {
   "cell_type": "markdown",
   "metadata": {
    "id": "u55FfUXBs_0u"
   },
   "source": [
    "## Imports"
   ]
  },
  {
   "cell_type": "markdown",
   "metadata": {
    "id": "sS8ot98DEgzJ"
   },
   "source": [
    "Before Python can `import tensorflow_gnn`, the PIP package [`tensorflow-gnn`](https://pypi.org/project/tensorflow-gnn/) needs to be downloaded and installed."
   ]
  },
  {
   "cell_type": "code",
   "execution_count": null,
   "metadata": {
    "id": "jShUzy75-L9y"
   },
   "outputs": [],
   "source": [
    "%%bash\n",
    "pip install -q tensorflow-gnn\n",
    "pip install -U numpy --force-reinstall "
   ]
  },
  {
   "cell_type": "markdown",
   "metadata": {},
   "source": [
    "**Restart Kernel**\n",
    "\n",
    "#### Setup"
   ]
  },
  {
   "cell_type": "code",
   "execution_count": 1,
   "metadata": {
    "id": "WlEpI7zrSHhb"
   },
   "outputs": [
    {
     "name": "stdout",
     "output_type": "stream",
     "text": [
      "Running TF-GNN 0.2.0 with TensorFlow 2.9.1.\n"
     ]
    }
   ],
   "source": [
    "import os\n",
    "\n",
    "import matplotlib.pyplot as plt\n",
    "import numpy as np\n",
    "import tensorflow as tf\n",
    "import tensorflow_gnn as tfgnn\n",
    "\n",
    "print(f\"Running TF-GNN {tfgnn.__version__} with TensorFlow {tf.__version__}.\")"
   ]
  },
  {
   "cell_type": "markdown",
   "metadata": {},
   "source": [
    "#### Define the `GraphTensorSpec`\n",
    "The `GraphTensor` class is the cornerstone of the TF-GNN library. It is a composite tensor (like `RaggedTensor` or `SparseTensor`), so it can be used directly in a `tf.data.Dataset`, as an in put or output of a Keras layer, or a `tf.function`. \n",
    "\n",
    "The `GraphTensor` class represents heterogeneous directed graphs with attached features as a collection of `tf.Tensor` and/or `tf.RaggedTensor` objects. Since our data is stored in `.tfrecord` format, we can define a graph tensor spec and use that to decode the data. For this dataset our `GraphTensorSpec` will define a:\n",
    "* `ContextSpec`: This is our binary classification label for each molecule.\n",
    "* `NodeSetSpec`: A node set of our atoms. Each node is a single atom.\n",
    "* `features_spec` represents the integer encoding of the atom type.\n",
    "* `EdgeSetSpec`: A edge set representing the bonds of each molecule.\n",
    "\n",
    "More detail about Graph Tensors:\n",
    "* Node sets are simply containers of features, plus size information. Within each node set the nodes are indexed 0,1,...,n-1. All nodes in a node set have the same features, identified by a string key, and each feature is stored as one tensor for the whole node set with shape [n, ...]. The first dimension is the item dimension, its size is the number n of nodes. The remaining zero or more dimensions make up the feature shape, that is, the shape of the feature value for each node. If the feature is stored as a tf.Tensor, all feature values have the same shape. GraphTensor also supports storing the feature as a tf.RaggedTensor, which allows for variable-size feature values. This support for an arbitrary number of features, ragged or dense, makes GraphTensor a good fit for both input features (often more than one, possibly variable-length) and hidden states in a GNN (stored as a single feature under the name tfgnn.HIDDEN_STATE = \"hidden_state\").\n",
    "\n",
    "\n",
    "* Each edge set contains edges that connect a particular pair of source and target node sets. (There can be more than one edge set between the same pair of node sets.) The edges in an edge set are indexed 0,1, ..., m–1. Like a node set, an edge set stores size information and a map of features, indexed by edge instead of node. Most importantly, though, each edge set has an EdgeSet.adjacency subobject to represent how this edge set connects nodes from its incident node sets. The basic tfgnn.Adjacency class stores two tensors .source and .target, each of shape [m], such that edge i connects nodes adjacency.source[i] and adjacency.target[i] of the node sets adjacency.source_name and adjacency.target_name. Code that treats the choice of incident node as a parameter can also spell these properties as adjacency[incident_node_tag] and adjacency.node_set_name[incident_node_tag] using the symbolic constants tfgnn.SOURCE or tfgnn.TARGET as tags to distinguish the two incident nodes of every edge."
   ]
  },
  {
   "cell_type": "code",
   "execution_count": 2,
   "metadata": {},
   "outputs": [],
   "source": [
    "# Define graph tensor spec\n",
    "graph_tensor_spec = tfgnn.GraphTensorSpec.from_piece_specs(\n",
    "    context_spec=tfgnn.ContextSpec.from_field_specs(\n",
    "        features_spec={\"label\": tf.TensorSpec(shape=(1,), dtype=tf.int32)}\n",
    "    ),\n",
    "    node_sets_spec={\n",
    "        \"atoms\": tfgnn.NodeSetSpec.from_field_specs(\n",
    "            features_spec={\n",
    "                \"hidden_state\": tf.TensorSpec((None, 7), tf.float32)\n",
    "            },\n",
    "            sizes_spec=tf.TensorSpec((1,), tf.int32),\n",
    "        )\n",
    "    },\n",
    "    edge_sets_spec={\n",
    "        \"bonds\": tfgnn.EdgeSetSpec.from_field_specs(\n",
    "            features_spec={\n",
    "                \"hidden_state\": tf.TensorSpec((None, 4), tf.float32)\n",
    "            },\n",
    "            sizes_spec=tf.TensorSpec((1,), tf.int32),\n",
    "            adjacency_spec=tfgnn.AdjacencySpec.from_incident_node_sets(\n",
    "                \"atoms\", \"atoms\"\n",
    "            ),\n",
    "        )\n",
    "    },\n",
    ")"
   ]
  },
  {
   "cell_type": "markdown",
   "metadata": {},
   "source": [
    "Function to decode the `.tfrecord` data"
   ]
  },
  {
   "cell_type": "code",
   "execution_count": 3,
   "metadata": {
    "id": "qwjaaCAXRYtj"
   },
   "outputs": [],
   "source": [
    "def decode_fn(example):\n",
    "    features_dict = {\"graph\": tf.io.FixedLenFeature([], dtype=tf.string)}\n",
    "\n",
    "    parsed_example = tf.io.parse_single_example(\n",
    "        serialized=example, features=features_dict\n",
    "    )\n",
    "\n",
    "    graph = tfgnn.parse_single_example(\n",
    "        graph_tensor_spec, example, validate=True\n",
    "    )\n",
    "\n",
    "    # extract label from context and remove from input graph\n",
    "    context_features = graph.context.get_features_dict()\n",
    "    label = context_features.pop(\"label\")\n",
    "    new_graph = graph.replace_features(context=context_features)\n",
    "    return new_graph, label"
   ]
  },
  {
   "cell_type": "code",
   "execution_count": 4,
   "metadata": {
    "id": "9VMiHec0V4BP"
   },
   "outputs": [
    {
     "name": "stderr",
     "output_type": "stream",
     "text": [
      "2022-07-06 22:23:11.501834: W tensorflow/stream_executor/platform/default/dso_loader.cc:64] Could not load dynamic library 'libcuda.so.1'; dlerror: libcuda.so.1: cannot open shared object file: No such file or directory; LD_LIBRARY_PATH: /usr/local/cuda/lib64:/usr/local/nccl2/lib:/usr/local/cuda/extras/CUPTI/lib64\n",
      "2022-07-06 22:23:11.501885: W tensorflow/stream_executor/cuda/cuda_driver.cc:269] failed call to cuInit: UNKNOWN ERROR (303)\n",
      "2022-07-06 22:23:11.501919: I tensorflow/stream_executor/cuda/cuda_diagnostics.cc:156] kernel driver does not appear to be running on this host (tf26-fresh-bois): /proc/driver/nvidia/version does not exist\n",
      "2022-07-06 22:23:11.502379: I tensorflow/core/platform/cpu_feature_guard.cc:193] This TensorFlow binary is optimized with oneAPI Deep Neural Network Library (oneDNN) to use the following CPU instructions in performance-critical operations:  AVX2 FMA\n",
      "To enable them in other operations, rebuild TensorFlow with the appropriate compiler flags.\n"
     ]
    }
   ],
   "source": [
    "TRAIN_PATH = \"../data/mutag/train.tfrecords\"\n",
    "VAL_PATH = \"../data/mutag/val.tfrecords\"\n",
    "\n",
    "train_ds = tf.data.TFRecordDataset([TRAIN_PATH]).map(decode_fn)\n",
    "val_ds = tf.data.TFRecordDataset([VAL_PATH]).map(decode_fn)"
   ]
  },
  {
   "cell_type": "markdown",
   "metadata": {
    "id": "-n3NZ-Tk-Woh"
   },
   "source": [
    "#### Look at one example from the dataset"
   ]
  },
  {
   "cell_type": "code",
   "execution_count": 5,
   "metadata": {
    "id": "J0BjC-y6-asJ"
   },
   "outputs": [],
   "source": [
    "graph, label = train_ds.take(1).get_single_element()"
   ]
  },
  {
   "cell_type": "markdown",
   "metadata": {
    "id": "Ls-prW6QC27_"
   },
   "source": [
    "#### Node features\n",
    "\n",
    "Node features represent the 1-hot encoding of the atom type (0=C, 1=N, 2=O, 3=F,\n",
    "4=I, 5=Cl, 6=Br)."
   ]
  },
  {
   "cell_type": "code",
   "execution_count": 6,
   "metadata": {
    "id": "s8JabcxqC0ja"
   },
   "outputs": [
    {
     "data": {
      "text/plain": [
       "{'hidden_state': <tf.Tensor: shape=(14, 7), dtype=float32, numpy=\n",
       "array([[1., 0., 0., 0., 0., 0., 0.],\n",
       "       [1., 0., 0., 0., 0., 0., 0.],\n",
       "       [1., 0., 0., 0., 0., 0., 0.],\n",
       "       [1., 0., 0., 0., 0., 0., 0.],\n",
       "       [1., 0., 0., 0., 0., 0., 0.],\n",
       "       [1., 0., 0., 0., 0., 0., 0.],\n",
       "       [0., 1., 0., 0., 0., 0., 0.],\n",
       "       [0., 0., 1., 0., 0., 0., 0.],\n",
       "       [0., 0., 1., 0., 0., 0., 0.],\n",
       "       [0., 1., 0., 0., 0., 0., 0.],\n",
       "       [0., 0., 0., 0., 0., 0., 1.],\n",
       "       [0., 1., 0., 0., 0., 0., 0.],\n",
       "       [0., 0., 1., 0., 0., 0., 0.],\n",
       "       [0., 0., 1., 0., 0., 0., 0.]], dtype=float32)>}"
      ]
     },
     "execution_count": 6,
     "metadata": {},
     "output_type": "execute_result"
    }
   ],
   "source": [
    "graph.node_sets[\"atoms\"].features"
   ]
  },
  {
   "cell_type": "markdown",
   "metadata": {
    "id": "2QCQkE8RDYOX"
   },
   "source": [
    "#### Bond Edges\n",
    "\n",
    "In this example, we consider the bonds between atoms undirected edges. To encode\n",
    "them in the GraphsTuple, we store the undirected edges as pairs of directed\n",
    "edges in both directions.\n",
    "\n",
    "`adjacency.source` contains the source node indices, and `adjacency.target` contains the corresponding target node indices."
   ]
  },
  {
   "cell_type": "code",
   "execution_count": 7,
   "metadata": {
    "id": "TxUPaUAz-U7x"
   },
   "outputs": [
    {
     "data": {
      "text/plain": [
       "<tf.Tensor: shape=(28,), dtype=int32, numpy=\n",
       "array([ 0,  0,  1,  1,  1,  2,  2,  3,  3,  3,  4,  4,  4,  5,  5,  5,  6,\n",
       "        6,  6,  7,  8,  9, 10, 11, 11, 11, 12, 13], dtype=int32)>"
      ]
     },
     "execution_count": 7,
     "metadata": {},
     "output_type": "execute_result"
    }
   ],
   "source": [
    "graph.edge_sets[\"bonds\"].adjacency.source"
   ]
  },
  {
   "cell_type": "code",
   "execution_count": 8,
   "metadata": {
    "id": "hwJM9FoKDXEr"
   },
   "outputs": [
    {
     "data": {
      "text/plain": [
       "<tf.Tensor: shape=(28,), dtype=int32, numpy=\n",
       "array([ 1,  5,  0,  2, 11,  1,  3,  2,  4, 10,  3,  5,  9,  0,  4,  6,  5,\n",
       "        7,  8,  6,  6,  4,  3,  1, 12, 13, 11, 11], dtype=int32)>"
      ]
     },
     "execution_count": 8,
     "metadata": {},
     "output_type": "execute_result"
    }
   ],
   "source": [
    "graph.edge_sets[\"bonds\"].adjacency.target"
   ]
  },
  {
   "cell_type": "markdown",
   "metadata": {
    "id": "UI1X18IVC-5g"
   },
   "source": [
    "#### Edge features\n",
    "\n",
    "Edge features represent the bond type as one-hot encoding."
   ]
  },
  {
   "cell_type": "code",
   "execution_count": 9,
   "metadata": {
    "id": "a_p-RgX6DS3F"
   },
   "outputs": [
    {
     "data": {
      "text/plain": [
       "{'hidden_state': <tf.Tensor: shape=(28, 4), dtype=float32, numpy=\n",
       "array([[1., 0., 0., 0.],\n",
       "       [1., 0., 0., 0.],\n",
       "       [1., 0., 0., 0.],\n",
       "       [1., 0., 0., 0.],\n",
       "       [0., 1., 0., 0.],\n",
       "       [1., 0., 0., 0.],\n",
       "       [1., 0., 0., 0.],\n",
       "       [1., 0., 0., 0.],\n",
       "       [1., 0., 0., 0.],\n",
       "       [0., 1., 0., 0.],\n",
       "       [1., 0., 0., 0.],\n",
       "       [1., 0., 0., 0.],\n",
       "       [0., 1., 0., 0.],\n",
       "       [1., 0., 0., 0.],\n",
       "       [1., 0., 0., 0.],\n",
       "       [0., 1., 0., 0.],\n",
       "       [0., 1., 0., 0.],\n",
       "       [0., 0., 1., 0.],\n",
       "       [0., 1., 0., 0.],\n",
       "       [0., 0., 1., 0.],\n",
       "       [0., 1., 0., 0.],\n",
       "       [0., 1., 0., 0.],\n",
       "       [0., 1., 0., 0.],\n",
       "       [0., 1., 0., 0.],\n",
       "       [0., 0., 1., 0.],\n",
       "       [0., 1., 0., 0.],\n",
       "       [0., 0., 1., 0.],\n",
       "       [0., 1., 0., 0.]], dtype=float32)>}"
      ]
     },
     "execution_count": 9,
     "metadata": {},
     "output_type": "execute_result"
    }
   ],
   "source": [
    "graph.edge_sets[\"bonds\"].features"
   ]
  },
  {
   "cell_type": "markdown",
   "metadata": {
    "id": "gbeF1etYigfe"
   },
   "source": [
    "### Label\n",
    "The label is binary, indicating the mutagenicity of the molecule. It's either 0 or 1."
   ]
  },
  {
   "cell_type": "code",
   "execution_count": 10,
   "metadata": {
    "id": "LgQGtPlwideV"
   },
   "outputs": [
    {
     "data": {
      "text/plain": [
       "<tf.Tensor: shape=(1,), dtype=int32, numpy=array([0], dtype=int32)>"
      ]
     },
     "execution_count": 10,
     "metadata": {},
     "output_type": "execute_result"
    }
   ],
   "source": [
    "label"
   ]
  },
  {
   "cell_type": "markdown",
   "metadata": {
    "id": "3lhmmug-DvyX"
   },
   "source": [
    "#### Batch the datasets"
   ]
  },
  {
   "cell_type": "code",
   "execution_count": 11,
   "metadata": {
    "id": "jOUCfdpp_w4v"
   },
   "outputs": [],
   "source": [
    "batch_size = 32\n",
    "train_ds_batched = train_ds.batch(batch_size=batch_size).repeat()\n",
    "val_ds_batched = val_ds.batch(batch_size=batch_size)"
   ]
  },
  {
   "cell_type": "markdown",
   "metadata": {
    "id": "63Tqz_SPqyjY"
   },
   "source": [
    "### Build the GNN model\n",
    "\n",
    "TF-GNN provides Keras layers for building graph neural networks. The following code uses Keras' [Functional API](https://www.tensorflow.org/guide/keras/functional) to build a model as a series of GraphTensor transformations, followed by reading out a plain Tensor with the final prediction."
   ]
  },
  {
   "cell_type": "code",
   "execution_count": 12,
   "metadata": {
    "id": "b7fhATRUexKh"
   },
   "outputs": [],
   "source": [
    "def build_model(\n",
    "    graph_tensor_spec,\n",
    "    # Dimensions of initial states.\n",
    "    node_dim=32,\n",
    "    edge_dim=32,\n",
    "    # Dimensions for message passing.\n",
    "    message_dim=64,\n",
    "    next_state_dim=64,\n",
    "    # Dimension for the logits.\n",
    "    num_classes=2,\n",
    "    # Number of message passing steps.\n",
    "    num_message_passing=5,\n",
    "    # Other hyperparameters.\n",
    "    l2_regularization=5e-3,\n",
    "    dropout_rate=0.5,\n",
    "):\n",
    "    # Input\n",
    "    input_graph = tf.keras.layers.Input(type_spec=graph_tensor_spec)\n",
    "\n",
    "    # IMPORTANT: All TF-GNN modeling code assumes a GraphTensor of shape []\n",
    "    # in which the graphs of the input batch have been merged to components of\n",
    "    # one contiguously indexed graph. (There are no edges between components,\n",
    "    # so no information flows between them.)\n",
    "    graph = input_graph.merge_batch_to_components()\n",
    "\n",
    "    # Nodes and edges have one-hot encoded input features. Sending them through\n",
    "    # a Dense layer effectively does a lookup in a trainable embedding table.\n",
    "    def set_initial_node_state(node_set, *, node_set_name):\n",
    "        # Since we only have one node set, we can ignore node_set_name.\n",
    "        return tf.keras.layers.Dense(node_dim)(node_set[tfgnn.HIDDEN_STATE])\n",
    "\n",
    "    def set_initial_edge_state(edge_set, *, edge_set_name):\n",
    "        return tf.keras.layers.Dense(edge_dim)(edge_set[tfgnn.HIDDEN_STATE])\n",
    "\n",
    "    graph = tfgnn.keras.layers.MapFeatures(\n",
    "        node_sets_fn=set_initial_node_state, edge_sets_fn=set_initial_edge_state\n",
    "    )(graph)\n",
    "\n",
    "    # This helper function is just a short-hand for the code below.\n",
    "    def dense(units, activation=\"relu\"):\n",
    "        \"\"\"A Dense layer with regularization (L2 and Dropout).\"\"\"\n",
    "        regularizer = tf.keras.regularizers.l2(l2_regularization)\n",
    "        return tf.keras.Sequential(\n",
    "            [\n",
    "                tf.keras.layers.Dense(\n",
    "                    units,\n",
    "                    activation=activation,\n",
    "                    kernel_regularizer=regularizer,\n",
    "                    bias_regularizer=regularizer,\n",
    "                ),\n",
    "                tf.keras.layers.Dropout(dropout_rate),\n",
    "            ]\n",
    "        )\n",
    "\n",
    "    # The GNN core of the model does `num_message_passing` many updates of node\n",
    "    # states conditioned on their neighbors and the edges connecting to them.\n",
    "    # More precisely:\n",
    "    #  - Each edge computes a message by applying a dense layer `message_fn`\n",
    "    #    to the concatenation of node states of both endpoints (by default)\n",
    "    #    and the edge's own unchanging feature embedding.\n",
    "    #  - Messages are summed up at the common TARGET nodes of edges.\n",
    "    #  - At each node, a dense layer is applied to the concatenation of the old\n",
    "    #    node state with the summed edge inputs to compute the new node state.\n",
    "    # Each iteration of the for-loop creates new Keras Layer objects, so each\n",
    "    # round of updates gets its own trainable variables.\n",
    "\n",
    "    for i in range(num_message_passing):\n",
    "        graph = tfgnn.keras.layers.GraphUpdate(\n",
    "            node_sets={\n",
    "                \"atoms\": tfgnn.keras.layers.NodeSetUpdate(\n",
    "                    {\n",
    "                        \"bonds\": tfgnn.keras.layers.SimpleConv(\n",
    "                            sender_edge_feature=tfgnn.HIDDEN_STATE,\n",
    "                            message_fn=dense(message_dim),\n",
    "                            reduce_type=\"sum\",\n",
    "                            receiver_tag=tfgnn.TARGET,\n",
    "                        )\n",
    "                    },\n",
    "                    tfgnn.keras.layers.NextStateFromConcat(\n",
    "                        dense(next_state_dim)\n",
    "                    ),\n",
    "                )\n",
    "            }\n",
    "        )(graph)\n",
    "\n",
    "    # After the GNN has computed a context-aware representation of the \"atoms\",\n",
    "    # the model reads out a representation for the graph as a whole by averaging\n",
    "    # (pooling) node states into the graph context. The context is global to each\n",
    "    # input graph of the batch, so the first dimension of the result corresponds\n",
    "    # to the batch dimension of the inputs (same as the labels).\n",
    "    readout_features = tfgnn.keras.layers.Pool(\n",
    "        tfgnn.CONTEXT, \"mean\", node_set_name=\"atoms\"\n",
    "    )(graph)\n",
    "\n",
    "    # Put a linear classifier on top (not followed by dropout).\n",
    "    logits = tf.keras.layers.Dense(1)(readout_features)\n",
    "\n",
    "    # Build a Keras Model for the transformation from input_graph to logits.\n",
    "    return tf.keras.Model(inputs=[input_graph], outputs=[logits])"
   ]
  },
  {
   "cell_type": "markdown",
   "metadata": {
    "id": "PjM39AM2E0TD"
   },
   "source": [
    "#### Define Loss and Metrics"
   ]
  },
  {
   "cell_type": "code",
   "execution_count": 13,
   "metadata": {
    "id": "6IAO1FToa5xk"
   },
   "outputs": [
    {
     "name": "stdout",
     "output_type": "stream",
     "text": [
      "WARNING:tensorflow:Mapping types may not work well with tf.nest. Prefer using MutableMapping for <class 'tensorflow_gnn.graph.graph_tensor._ImmutableMapping'>\n",
      "WARNING:tensorflow:Mapping types may not work well with tf.nest. Prefer using MutableMapping for <class 'tensorflow_gnn.graph.graph_tensor._ImmutableMapping'>\n",
      "WARNING:tensorflow:Mapping types may not work well with tf.nest. Prefer using MutableMapping for <class 'tensorflow_gnn.graph.graph_tensor._ImmutableMapping'>\n"
     ]
    }
   ],
   "source": [
    "model_input_graph_spec, label_spec = train_ds.element_spec\n",
    "del label_spec  # Unused.\n",
    "model = build_model(model_input_graph_spec)"
   ]
  },
  {
   "cell_type": "code",
   "execution_count": 14,
   "metadata": {
    "id": "VcrTzMEfexIm"
   },
   "outputs": [],
   "source": [
    "loss = tf.keras.losses.BinaryCrossentropy(from_logits=True)\n",
    "metrics = [\n",
    "    tf.keras.metrics.BinaryAccuracy(threshold=0.0),\n",
    "    tf.keras.metrics.BinaryCrossentropy(from_logits=True),\n",
    "]"
   ]
  },
  {
   "cell_type": "markdown",
   "metadata": {
    "id": "cREyDPxrFBH-"
   },
   "source": [
    "#### Compile the keras model"
   ]
  },
  {
   "cell_type": "code",
   "execution_count": 15,
   "metadata": {
    "id": "aaSTzfbAexEj"
   },
   "outputs": [],
   "source": [
    "model.compile(tf.keras.optimizers.Adam(), loss=loss, metrics=metrics)"
   ]
  },
  {
   "cell_type": "code",
   "execution_count": 16,
   "metadata": {
    "id": "cC4zLE2J8Hk_"
   },
   "outputs": [
    {
     "name": "stdout",
     "output_type": "stream",
     "text": [
      "Model: \"model\"\n",
      "_________________________________________________________________\n",
      " Layer (type)                Output Shape              Param #   \n",
      "=================================================================\n",
      " input_1 (InputLayer)        [()]                      0         \n",
      "                                                                 \n",
      " input.merge_batch_to_compon  ()                       0         \n",
      " ents (InstanceMethod)                                           \n",
      "                                                                 \n",
      " map_features (MapFeatures)  ()                        416       \n",
      "                                                                 \n",
      " graph_update (GraphUpdate)  ()                        12416     \n",
      "                                                                 \n",
      " graph_update_1 (GraphUpdate  ()                       18560     \n",
      " )                                                               \n",
      "                                                                 \n",
      " graph_update_2 (GraphUpdate  ()                       18560     \n",
      " )                                                               \n",
      "                                                                 \n",
      " graph_update_3 (GraphUpdate  ()                       18560     \n",
      " )                                                               \n",
      "                                                                 \n",
      " graph_update_4 (GraphUpdate  ()                       18560     \n",
      " )                                                               \n",
      "                                                                 \n",
      " pool (Pool)                 (1, 64)                   0         \n",
      "                                                                 \n",
      " dense_10 (Dense)            (1, 1)                    65        \n",
      "                                                                 \n",
      "=================================================================\n",
      "Total params: 87,137\n",
      "Trainable params: 87,137\n",
      "Non-trainable params: 0\n",
      "_________________________________________________________________\n"
     ]
    }
   ],
   "source": [
    "model.summary()"
   ]
  },
  {
   "cell_type": "markdown",
   "metadata": {
    "id": "wB5JoJ9pFDGx"
   },
   "source": [
    "#### Train the model"
   ]
  },
  {
   "cell_type": "code",
   "execution_count": 17,
   "metadata": {
    "id": "uMotwUlM8U6s"
   },
   "outputs": [
    {
     "name": "stdout",
     "output_type": "stream",
     "text": [
      "Epoch 1/200\n"
     ]
    },
    {
     "name": "stderr",
     "output_type": "stream",
     "text": [
      "/opt/conda/lib/python3.7/site-packages/tensorflow/python/framework/indexed_slices.py:446: UserWarning: Converting sparse IndexedSlices(IndexedSlices(indices=Tensor(\"gradient_tape/model/graph_update_4/node_set_update_4/simple_conv_4/Reshape_2:0\", shape=(None,), dtype=int32), values=Tensor(\"gradient_tape/model/graph_update_4/node_set_update_4/simple_conv_4/Reshape_1:0\", shape=(None, 64), dtype=float32), dense_shape=Tensor(\"gradient_tape/model/graph_update_4/node_set_update_4/simple_conv_4/Cast:0\", shape=(2,), dtype=int32))) to a dense Tensor of unknown shape. This may consume a large amount of memory.\n",
      "  \"shape. This may consume a large amount of memory.\" % value)\n",
      "/opt/conda/lib/python3.7/site-packages/tensorflow/python/framework/indexed_slices.py:446: UserWarning: Converting sparse IndexedSlices(IndexedSlices(indices=Tensor(\"gradient_tape/model/graph_update_4/node_set_update_4/simple_conv_4/Reshape_4:0\", shape=(None,), dtype=int32), values=Tensor(\"gradient_tape/model/graph_update_4/node_set_update_4/simple_conv_4/Reshape_3:0\", shape=(None, 64), dtype=float32), dense_shape=Tensor(\"gradient_tape/model/graph_update_4/node_set_update_4/simple_conv_4/Cast_1:0\", shape=(2,), dtype=int32))) to a dense Tensor of unknown shape. This may consume a large amount of memory.\n",
      "  \"shape. This may consume a large amount of memory.\" % value)\n",
      "/opt/conda/lib/python3.7/site-packages/tensorflow/python/framework/indexed_slices.py:446: UserWarning: Converting sparse IndexedSlices(IndexedSlices(indices=Tensor(\"gradient_tape/model/graph_update_3/node_set_update_3/simple_conv_3/Reshape_2:0\", shape=(None,), dtype=int32), values=Tensor(\"gradient_tape/model/graph_update_3/node_set_update_3/simple_conv_3/Reshape_1:0\", shape=(None, 64), dtype=float32), dense_shape=Tensor(\"gradient_tape/model/graph_update_3/node_set_update_3/simple_conv_3/Cast:0\", shape=(2,), dtype=int32))) to a dense Tensor of unknown shape. This may consume a large amount of memory.\n",
      "  \"shape. This may consume a large amount of memory.\" % value)\n",
      "/opt/conda/lib/python3.7/site-packages/tensorflow/python/framework/indexed_slices.py:446: UserWarning: Converting sparse IndexedSlices(IndexedSlices(indices=Tensor(\"gradient_tape/model/graph_update_3/node_set_update_3/simple_conv_3/Reshape_4:0\", shape=(None,), dtype=int32), values=Tensor(\"gradient_tape/model/graph_update_3/node_set_update_3/simple_conv_3/Reshape_3:0\", shape=(None, 64), dtype=float32), dense_shape=Tensor(\"gradient_tape/model/graph_update_3/node_set_update_3/simple_conv_3/Cast_1:0\", shape=(2,), dtype=int32))) to a dense Tensor of unknown shape. This may consume a large amount of memory.\n",
      "  \"shape. This may consume a large amount of memory.\" % value)\n",
      "/opt/conda/lib/python3.7/site-packages/tensorflow/python/framework/indexed_slices.py:446: UserWarning: Converting sparse IndexedSlices(IndexedSlices(indices=Tensor(\"gradient_tape/model/graph_update_2/node_set_update_2/simple_conv_2/Reshape_2:0\", shape=(None,), dtype=int32), values=Tensor(\"gradient_tape/model/graph_update_2/node_set_update_2/simple_conv_2/Reshape_1:0\", shape=(None, 64), dtype=float32), dense_shape=Tensor(\"gradient_tape/model/graph_update_2/node_set_update_2/simple_conv_2/Cast:0\", shape=(2,), dtype=int32))) to a dense Tensor of unknown shape. This may consume a large amount of memory.\n",
      "  \"shape. This may consume a large amount of memory.\" % value)\n",
      "/opt/conda/lib/python3.7/site-packages/tensorflow/python/framework/indexed_slices.py:446: UserWarning: Converting sparse IndexedSlices(IndexedSlices(indices=Tensor(\"gradient_tape/model/graph_update_2/node_set_update_2/simple_conv_2/Reshape_4:0\", shape=(None,), dtype=int32), values=Tensor(\"gradient_tape/model/graph_update_2/node_set_update_2/simple_conv_2/Reshape_3:0\", shape=(None, 64), dtype=float32), dense_shape=Tensor(\"gradient_tape/model/graph_update_2/node_set_update_2/simple_conv_2/Cast_1:0\", shape=(2,), dtype=int32))) to a dense Tensor of unknown shape. This may consume a large amount of memory.\n",
      "  \"shape. This may consume a large amount of memory.\" % value)\n",
      "/opt/conda/lib/python3.7/site-packages/tensorflow/python/framework/indexed_slices.py:446: UserWarning: Converting sparse IndexedSlices(IndexedSlices(indices=Tensor(\"gradient_tape/model/graph_update_1/node_set_update_1/simple_conv_1/Reshape_2:0\", shape=(None,), dtype=int32), values=Tensor(\"gradient_tape/model/graph_update_1/node_set_update_1/simple_conv_1/Reshape_1:0\", shape=(None, 64), dtype=float32), dense_shape=Tensor(\"gradient_tape/model/graph_update_1/node_set_update_1/simple_conv_1/Cast:0\", shape=(2,), dtype=int32))) to a dense Tensor of unknown shape. This may consume a large amount of memory.\n",
      "  \"shape. This may consume a large amount of memory.\" % value)\n",
      "/opt/conda/lib/python3.7/site-packages/tensorflow/python/framework/indexed_slices.py:446: UserWarning: Converting sparse IndexedSlices(IndexedSlices(indices=Tensor(\"gradient_tape/model/graph_update_1/node_set_update_1/simple_conv_1/Reshape_4:0\", shape=(None,), dtype=int32), values=Tensor(\"gradient_tape/model/graph_update_1/node_set_update_1/simple_conv_1/Reshape_3:0\", shape=(None, 64), dtype=float32), dense_shape=Tensor(\"gradient_tape/model/graph_update_1/node_set_update_1/simple_conv_1/Cast_1:0\", shape=(2,), dtype=int32))) to a dense Tensor of unknown shape. This may consume a large amount of memory.\n",
      "  \"shape. This may consume a large amount of memory.\" % value)\n",
      "/opt/conda/lib/python3.7/site-packages/tensorflow/python/framework/indexed_slices.py:446: UserWarning: Converting sparse IndexedSlices(IndexedSlices(indices=Tensor(\"gradient_tape/model/graph_update/node_set_update/simple_conv/Reshape_2:0\", shape=(None,), dtype=int32), values=Tensor(\"gradient_tape/model/graph_update/node_set_update/simple_conv/Reshape_1:0\", shape=(None, 32), dtype=float32), dense_shape=Tensor(\"gradient_tape/model/graph_update/node_set_update/simple_conv/Cast:0\", shape=(2,), dtype=int32))) to a dense Tensor of unknown shape. This may consume a large amount of memory.\n",
      "  \"shape. This may consume a large amount of memory.\" % value)\n",
      "/opt/conda/lib/python3.7/site-packages/tensorflow/python/framework/indexed_slices.py:446: UserWarning: Converting sparse IndexedSlices(IndexedSlices(indices=Tensor(\"gradient_tape/model/graph_update/node_set_update/simple_conv/Reshape_4:0\", shape=(None,), dtype=int32), values=Tensor(\"gradient_tape/model/graph_update/node_set_update/simple_conv/Reshape_3:0\", shape=(None, 32), dtype=float32), dense_shape=Tensor(\"gradient_tape/model/graph_update/node_set_update/simple_conv/Cast_1:0\", shape=(2,), dtype=int32))) to a dense Tensor of unknown shape. This may consume a large amount of memory.\n",
      "  \"shape. This may consume a large amount of memory.\" % value)\n"
     ]
    },
    {
     "name": "stdout",
     "output_type": "stream",
     "text": [
      "15/15 [==============================] - 4s 97ms/step - loss: 4.9609 - binary_accuracy: 0.6267 - binary_crossentropy: 0.7470 - val_loss: 4.6922 - val_binary_accuracy: 0.7632 - val_binary_crossentropy: 0.6163\n",
      "Epoch 2/200\n",
      "15/15 [==============================] - 1s 37ms/step - loss: 4.5804 - binary_accuracy: 0.6467 - binary_crossentropy: 0.6316 - val_loss: 4.4119 - val_binary_accuracy: 0.7368 - val_binary_crossentropy: 0.6157\n",
      "Epoch 3/200\n",
      "15/15 [==============================] - 1s 37ms/step - loss: 4.2906 - binary_accuracy: 0.6556 - binary_crossentropy: 0.6239 - val_loss: 4.1213 - val_binary_accuracy: 0.7368 - val_binary_crossentropy: 0.6070\n",
      "Epoch 4/200\n",
      "15/15 [==============================] - 1s 37ms/step - loss: 3.9901 - binary_accuracy: 0.6667 - binary_crossentropy: 0.6012 - val_loss: 3.8207 - val_binary_accuracy: 0.7368 - val_binary_crossentropy: 0.5780\n",
      "Epoch 5/200\n",
      "15/15 [==============================] - 1s 38ms/step - loss: 3.7267 - binary_accuracy: 0.6822 - binary_crossentropy: 0.6030 - val_loss: 3.5606 - val_binary_accuracy: 0.7368 - val_binary_crossentropy: 0.5745\n",
      "Epoch 6/200\n",
      "15/15 [==============================] - 1s 38ms/step - loss: 3.4557 - binary_accuracy: 0.6844 - binary_crossentropy: 0.5804 - val_loss: 3.2858 - val_binary_accuracy: 0.7368 - val_binary_crossentropy: 0.5382\n",
      "Epoch 7/200\n",
      "15/15 [==============================] - 1s 38ms/step - loss: 3.2271 - binary_accuracy: 0.6822 - binary_crossentropy: 0.5820 - val_loss: 3.0744 - val_binary_accuracy: 0.7632 - val_binary_crossentropy: 0.5473\n",
      "Epoch 8/200\n",
      "15/15 [==============================] - 1s 38ms/step - loss: 3.0068 - binary_accuracy: 0.7067 - binary_crossentropy: 0.5738 - val_loss: 2.8672 - val_binary_accuracy: 0.7895 - val_binary_crossentropy: 0.5425\n",
      "Epoch 9/200\n",
      "15/15 [==============================] - 1s 38ms/step - loss: 2.7882 - binary_accuracy: 0.6844 - binary_crossentropy: 0.5494 - val_loss: 2.6783 - val_binary_accuracy: 0.7632 - val_binary_crossentropy: 0.5386\n",
      "Epoch 10/200\n",
      "15/15 [==============================] - 1s 40ms/step - loss: 2.6130 - binary_accuracy: 0.7022 - binary_crossentropy: 0.5521 - val_loss: 2.4936 - val_binary_accuracy: 0.7632 - val_binary_crossentropy: 0.5231\n",
      "Epoch 11/200\n",
      "15/15 [==============================] - 1s 39ms/step - loss: 2.4484 - binary_accuracy: 0.7067 - binary_crossentropy: 0.5502 - val_loss: 2.3278 - val_binary_accuracy: 0.8158 - val_binary_crossentropy: 0.5121\n",
      "Epoch 12/200\n",
      "15/15 [==============================] - 1s 38ms/step - loss: 2.2823 - binary_accuracy: 0.7267 - binary_crossentropy: 0.5323 - val_loss: 2.1832 - val_binary_accuracy: 0.8158 - val_binary_crossentropy: 0.5081\n",
      "Epoch 13/200\n",
      "15/15 [==============================] - 1s 38ms/step - loss: 2.1366 - binary_accuracy: 0.7289 - binary_crossentropy: 0.5212 - val_loss: 2.0665 - val_binary_accuracy: 0.7895 - val_binary_crossentropy: 0.5191\n",
      "Epoch 14/200\n",
      "15/15 [==============================] - 1s 38ms/step - loss: 2.0271 - binary_accuracy: 0.7044 - binary_crossentropy: 0.5338 - val_loss: 1.9268 - val_binary_accuracy: 0.8158 - val_binary_crossentropy: 0.4957\n",
      "Epoch 15/200\n",
      "15/15 [==============================] - 1s 38ms/step - loss: 1.9059 - binary_accuracy: 0.7222 - binary_crossentropy: 0.5240 - val_loss: 1.8038 - val_binary_accuracy: 0.8158 - val_binary_crossentropy: 0.4783\n",
      "Epoch 16/200\n",
      "15/15 [==============================] - 1s 38ms/step - loss: 1.8074 - binary_accuracy: 0.7133 - binary_crossentropy: 0.5272 - val_loss: 1.7780 - val_binary_accuracy: 0.6579 - val_binary_crossentropy: 0.5494\n",
      "Epoch 17/200\n",
      "15/15 [==============================] - 1s 38ms/step - loss: 1.6866 - binary_accuracy: 0.7422 - binary_crossentropy: 0.4985 - val_loss: 1.6123 - val_binary_accuracy: 0.8158 - val_binary_crossentropy: 0.4706\n",
      "Epoch 18/200\n",
      "15/15 [==============================] - 1s 37ms/step - loss: 1.6231 - binary_accuracy: 0.7133 - binary_crossentropy: 0.5183 - val_loss: 1.5570 - val_binary_accuracy: 0.7632 - val_binary_crossentropy: 0.4945\n",
      "Epoch 19/200\n",
      "15/15 [==============================] - 1s 37ms/step - loss: 1.5101 - binary_accuracy: 0.7511 - binary_crossentropy: 0.4810 - val_loss: 1.4026 - val_binary_accuracy: 0.8158 - val_binary_crossentropy: 0.4116\n",
      "Epoch 20/200\n",
      "15/15 [==============================] - 1s 38ms/step - loss: 1.4425 - binary_accuracy: 0.7444 - binary_crossentropy: 0.4819 - val_loss: 1.3107 - val_binary_accuracy: 0.7895 - val_binary_crossentropy: 0.3852\n",
      "Epoch 21/200\n",
      "15/15 [==============================] - 1s 37ms/step - loss: 1.3577 - binary_accuracy: 0.7622 - binary_crossentropy: 0.4601 - val_loss: 1.2277 - val_binary_accuracy: 0.7895 - val_binary_crossentropy: 0.3620\n",
      "Epoch 22/200\n",
      "15/15 [==============================] - 1s 38ms/step - loss: 1.3454 - binary_accuracy: 0.7333 - binary_crossentropy: 0.5056 - val_loss: 1.2741 - val_binary_accuracy: 0.8421 - val_binary_crossentropy: 0.4637\n",
      "Epoch 23/200\n",
      "15/15 [==============================] - 1s 38ms/step - loss: 1.2667 - binary_accuracy: 0.7689 - binary_crossentropy: 0.4798 - val_loss: 1.1264 - val_binary_accuracy: 0.8158 - val_binary_crossentropy: 0.3662\n",
      "Epoch 24/200\n",
      "15/15 [==============================] - 1s 38ms/step - loss: 1.2215 - binary_accuracy: 0.7778 - binary_crossentropy: 0.4829 - val_loss: 1.1693 - val_binary_accuracy: 0.8421 - val_binary_crossentropy: 0.4555\n",
      "Epoch 25/200\n",
      "15/15 [==============================] - 1s 38ms/step - loss: 1.1645 - binary_accuracy: 0.7578 - binary_crossentropy: 0.4700 - val_loss: 1.0280 - val_binary_accuracy: 0.8158 - val_binary_crossentropy: 0.3554\n",
      "Epoch 26/200\n",
      "15/15 [==============================] - 1s 41ms/step - loss: 1.1351 - binary_accuracy: 0.7711 - binary_crossentropy: 0.4809 - val_loss: 1.0477 - val_binary_accuracy: 0.8158 - val_binary_crossentropy: 0.4144\n",
      "Epoch 27/200\n",
      "15/15 [==============================] - 1s 38ms/step - loss: 1.0935 - binary_accuracy: 0.7533 - binary_crossentropy: 0.4771 - val_loss: 0.9761 - val_binary_accuracy: 0.8158 - val_binary_crossentropy: 0.3789\n",
      "Epoch 28/200\n",
      "15/15 [==============================] - 1s 37ms/step - loss: 1.0570 - binary_accuracy: 0.7733 - binary_crossentropy: 0.4755 - val_loss: 0.9509 - val_binary_accuracy: 0.8158 - val_binary_crossentropy: 0.3876\n",
      "Epoch 29/200\n",
      "15/15 [==============================] - 1s 37ms/step - loss: 0.9973 - binary_accuracy: 0.7844 - binary_crossentropy: 0.4486 - val_loss: 0.8838 - val_binary_accuracy: 0.8158 - val_binary_crossentropy: 0.3515\n",
      "Epoch 30/200\n",
      "15/15 [==============================] - 1s 38ms/step - loss: 1.0001 - binary_accuracy: 0.7667 - binary_crossentropy: 0.4811 - val_loss: 0.8648 - val_binary_accuracy: 0.8158 - val_binary_crossentropy: 0.3606\n",
      "Epoch 31/200\n",
      "15/15 [==============================] - 1s 37ms/step - loss: 0.9430 - binary_accuracy: 0.7711 - binary_crossentropy: 0.4508 - val_loss: 0.8383 - val_binary_accuracy: 0.8158 - val_binary_crossentropy: 0.3599\n",
      "Epoch 32/200\n",
      "15/15 [==============================] - 1s 38ms/step - loss: 0.9328 - binary_accuracy: 0.7600 - binary_crossentropy: 0.4654 - val_loss: 0.7778 - val_binary_accuracy: 0.8158 - val_binary_crossentropy: 0.3232\n",
      "Epoch 33/200\n",
      "15/15 [==============================] - 1s 38ms/step - loss: 0.9203 - binary_accuracy: 0.7711 - binary_crossentropy: 0.4766 - val_loss: 0.7859 - val_binary_accuracy: 0.8158 - val_binary_crossentropy: 0.3543\n",
      "Epoch 34/200\n",
      "15/15 [==============================] - 1s 37ms/step - loss: 0.8648 - binary_accuracy: 0.7867 - binary_crossentropy: 0.4426 - val_loss: 0.7575 - val_binary_accuracy: 0.8158 - val_binary_crossentropy: 0.3461\n",
      "Epoch 35/200\n",
      "15/15 [==============================] - 1s 38ms/step - loss: 0.8615 - binary_accuracy: 0.7622 - binary_crossentropy: 0.4587 - val_loss: 0.7322 - val_binary_accuracy: 0.8158 - val_binary_crossentropy: 0.3391\n",
      "Epoch 36/200\n",
      "15/15 [==============================] - 1s 38ms/step - loss: 0.8445 - binary_accuracy: 0.7622 - binary_crossentropy: 0.4600 - val_loss: 0.7407 - val_binary_accuracy: 0.8421 - val_binary_crossentropy: 0.3661\n",
      "Epoch 37/200\n",
      "15/15 [==============================] - 1s 38ms/step - loss: 0.8015 - binary_accuracy: 0.7689 - binary_crossentropy: 0.4349 - val_loss: 0.6894 - val_binary_accuracy: 0.8158 - val_binary_crossentropy: 0.3318\n",
      "Epoch 38/200\n",
      "15/15 [==============================] - 1s 38ms/step - loss: 0.8299 - binary_accuracy: 0.7667 - binary_crossentropy: 0.4807 - val_loss: 0.7057 - val_binary_accuracy: 0.8158 - val_binary_crossentropy: 0.3655\n",
      "Epoch 39/200\n",
      "15/15 [==============================] - 1s 38ms/step - loss: 0.7978 - binary_accuracy: 0.7756 - binary_crossentropy: 0.4642 - val_loss: 0.6760 - val_binary_accuracy: 0.8158 - val_binary_crossentropy: 0.3499\n",
      "Epoch 40/200\n",
      "15/15 [==============================] - 1s 38ms/step - loss: 0.7658 - binary_accuracy: 0.7778 - binary_crossentropy: 0.4459 - val_loss: 0.6665 - val_binary_accuracy: 0.8158 - val_binary_crossentropy: 0.3537\n",
      "Epoch 41/200\n",
      "15/15 [==============================] - 1s 38ms/step - loss: 0.7696 - binary_accuracy: 0.7756 - binary_crossentropy: 0.4624 - val_loss: 0.6359 - val_binary_accuracy: 0.8158 - val_binary_crossentropy: 0.3352\n",
      "Epoch 42/200\n",
      "15/15 [==============================] - 1s 38ms/step - loss: 0.7524 - binary_accuracy: 0.7622 - binary_crossentropy: 0.4573 - val_loss: 0.6327 - val_binary_accuracy: 0.8158 - val_binary_crossentropy: 0.3435\n",
      "Epoch 43/200\n",
      "15/15 [==============================] - 1s 38ms/step - loss: 0.7432 - binary_accuracy: 0.7889 - binary_crossentropy: 0.4594 - val_loss: 0.6079 - val_binary_accuracy: 0.8158 - val_binary_crossentropy: 0.3300\n",
      "Epoch 44/200\n",
      "15/15 [==============================] - 1s 38ms/step - loss: 0.7308 - binary_accuracy: 0.7578 - binary_crossentropy: 0.4582 - val_loss: 0.6043 - val_binary_accuracy: 0.8158 - val_binary_crossentropy: 0.3369\n",
      "Epoch 45/200\n",
      "15/15 [==============================] - 1s 38ms/step - loss: 0.7110 - binary_accuracy: 0.7844 - binary_crossentropy: 0.4480 - val_loss: 0.5823 - val_binary_accuracy: 0.8158 - val_binary_crossentropy: 0.3240\n",
      "Epoch 46/200\n",
      "15/15 [==============================] - 1s 37ms/step - loss: 0.6943 - binary_accuracy: 0.7867 - binary_crossentropy: 0.4401 - val_loss: 0.5653 - val_binary_accuracy: 0.8158 - val_binary_crossentropy: 0.3157\n",
      "Epoch 47/200\n",
      "15/15 [==============================] - 1s 38ms/step - loss: 0.7073 - binary_accuracy: 0.7667 - binary_crossentropy: 0.4620 - val_loss: 0.5616 - val_binary_accuracy: 0.8158 - val_binary_crossentropy: 0.3208\n",
      "Epoch 48/200\n",
      "15/15 [==============================] - 1s 38ms/step - loss: 0.6803 - binary_accuracy: 0.7711 - binary_crossentropy: 0.4432 - val_loss: 0.5572 - val_binary_accuracy: 0.8158 - val_binary_crossentropy: 0.3241\n",
      "Epoch 49/200\n",
      "15/15 [==============================] - 1s 38ms/step - loss: 0.6733 - binary_accuracy: 0.7867 - binary_crossentropy: 0.4442 - val_loss: 0.5583 - val_binary_accuracy: 0.8158 - val_binary_crossentropy: 0.3332\n",
      "Epoch 50/200\n",
      "15/15 [==============================] - 1s 39ms/step - loss: 0.6756 - binary_accuracy: 0.7822 - binary_crossentropy: 0.4540 - val_loss: 0.5480 - val_binary_accuracy: 0.8158 - val_binary_crossentropy: 0.3302\n",
      "Epoch 51/200\n",
      "15/15 [==============================] - 1s 39ms/step - loss: 0.6486 - binary_accuracy: 0.7778 - binary_crossentropy: 0.4338 - val_loss: 0.5546 - val_binary_accuracy: 0.8158 - val_binary_crossentropy: 0.3428\n",
      "Epoch 52/200\n",
      "15/15 [==============================] - 1s 38ms/step - loss: 0.6474 - binary_accuracy: 0.7822 - binary_crossentropy: 0.4390 - val_loss: 0.5199 - val_binary_accuracy: 0.8158 - val_binary_crossentropy: 0.3149\n",
      "Epoch 53/200\n",
      "15/15 [==============================] - 1s 38ms/step - loss: 0.6300 - binary_accuracy: 0.7867 - binary_crossentropy: 0.4282 - val_loss: 0.5300 - val_binary_accuracy: 0.8158 - val_binary_crossentropy: 0.3314\n",
      "Epoch 54/200\n",
      "15/15 [==============================] - 1s 37ms/step - loss: 0.6530 - binary_accuracy: 0.7711 - binary_crossentropy: 0.4573 - val_loss: 0.5320 - val_binary_accuracy: 0.8158 - val_binary_crossentropy: 0.3396\n",
      "Epoch 55/200\n",
      "15/15 [==============================] - 1s 38ms/step - loss: 0.6194 - binary_accuracy: 0.7867 - binary_crossentropy: 0.4296 - val_loss: 0.5147 - val_binary_accuracy: 0.8158 - val_binary_crossentropy: 0.3275\n",
      "Epoch 56/200\n",
      "15/15 [==============================] - 1s 38ms/step - loss: 0.6338 - binary_accuracy: 0.7844 - binary_crossentropy: 0.4492 - val_loss: 0.4947 - val_binary_accuracy: 0.8158 - val_binary_crossentropy: 0.3128\n",
      "Epoch 57/200\n",
      "15/15 [==============================] - 1s 38ms/step - loss: 0.6124 - binary_accuracy: 0.7800 - binary_crossentropy: 0.4326 - val_loss: 0.4822 - val_binary_accuracy: 0.8158 - val_binary_crossentropy: 0.3046\n",
      "Epoch 58/200\n",
      "15/15 [==============================] - 1s 38ms/step - loss: 0.6218 - binary_accuracy: 0.7667 - binary_crossentropy: 0.4464 - val_loss: 0.4894 - val_binary_accuracy: 0.8158 - val_binary_crossentropy: 0.3165\n",
      "Epoch 59/200\n",
      "15/15 [==============================] - 1s 37ms/step - loss: 0.6018 - binary_accuracy: 0.7933 - binary_crossentropy: 0.4307 - val_loss: 0.5186 - val_binary_accuracy: 0.8158 - val_binary_crossentropy: 0.3491\n",
      "Epoch 60/200\n",
      "15/15 [==============================] - 1s 38ms/step - loss: 0.6272 - binary_accuracy: 0.7622 - binary_crossentropy: 0.4598 - val_loss: 0.4875 - val_binary_accuracy: 0.8684 - val_binary_crossentropy: 0.3224\n",
      "Epoch 61/200\n",
      "15/15 [==============================] - 1s 38ms/step - loss: 0.5949 - binary_accuracy: 0.7822 - binary_crossentropy: 0.4314 - val_loss: 0.5577 - val_binary_accuracy: 0.8158 - val_binary_crossentropy: 0.3954\n",
      "Epoch 62/200\n",
      "15/15 [==============================] - 1s 37ms/step - loss: 0.5951 - binary_accuracy: 0.7689 - binary_crossentropy: 0.4350 - val_loss: 0.4741 - val_binary_accuracy: 0.8684 - val_binary_crossentropy: 0.3161\n",
      "Epoch 63/200\n",
      "15/15 [==============================] - 1s 37ms/step - loss: 0.6145 - binary_accuracy: 0.7822 - binary_crossentropy: 0.4582 - val_loss: 0.4724 - val_binary_accuracy: 0.8158 - val_binary_crossentropy: 0.3179\n",
      "Epoch 64/200\n",
      "15/15 [==============================] - 1s 39ms/step - loss: 0.5994 - binary_accuracy: 0.7844 - binary_crossentropy: 0.4466 - val_loss: 0.4970 - val_binary_accuracy: 0.8158 - val_binary_crossentropy: 0.3458\n",
      "Epoch 65/200\n",
      "15/15 [==============================] - 1s 38ms/step - loss: 0.6078 - binary_accuracy: 0.7889 - binary_crossentropy: 0.4588 - val_loss: 0.4653 - val_binary_accuracy: 0.8158 - val_binary_crossentropy: 0.3184\n",
      "Epoch 66/200\n",
      "15/15 [==============================] - 1s 38ms/step - loss: 0.5800 - binary_accuracy: 0.7689 - binary_crossentropy: 0.4342 - val_loss: 0.4627 - val_binary_accuracy: 0.8158 - val_binary_crossentropy: 0.3180\n",
      "Epoch 67/200\n",
      "15/15 [==============================] - 1s 37ms/step - loss: 0.5571 - binary_accuracy: 0.7978 - binary_crossentropy: 0.4133 - val_loss: 0.4590 - val_binary_accuracy: 0.8158 - val_binary_crossentropy: 0.3161\n",
      "Epoch 68/200\n",
      "15/15 [==============================] - 1s 38ms/step - loss: 0.5568 - binary_accuracy: 0.7600 - binary_crossentropy: 0.4152 - val_loss: 0.4483 - val_binary_accuracy: 0.8158 - val_binary_crossentropy: 0.3081\n",
      "Epoch 69/200\n",
      "15/15 [==============================] - 1s 38ms/step - loss: 0.5678 - binary_accuracy: 0.7844 - binary_crossentropy: 0.4292 - val_loss: 0.4360 - val_binary_accuracy: 0.8158 - val_binary_crossentropy: 0.2991\n",
      "Epoch 70/200\n",
      "15/15 [==============================] - 1s 38ms/step - loss: 0.5777 - binary_accuracy: 0.7711 - binary_crossentropy: 0.4420 - val_loss: 0.4656 - val_binary_accuracy: 0.8158 - val_binary_crossentropy: 0.3311\n",
      "Epoch 71/200\n",
      "15/15 [==============================] - 1s 38ms/step - loss: 0.5860 - binary_accuracy: 0.7933 - binary_crossentropy: 0.4530 - val_loss: 0.4475 - val_binary_accuracy: 0.8684 - val_binary_crossentropy: 0.3161\n",
      "Epoch 72/200\n",
      "15/15 [==============================] - 1s 38ms/step - loss: 0.5591 - binary_accuracy: 0.7911 - binary_crossentropy: 0.4285 - val_loss: 0.4466 - val_binary_accuracy: 0.8158 - val_binary_crossentropy: 0.3168\n",
      "Epoch 73/200\n",
      "15/15 [==============================] - 1s 38ms/step - loss: 0.5857 - binary_accuracy: 0.7600 - binary_crossentropy: 0.4576 - val_loss: 0.4274 - val_binary_accuracy: 0.8158 - val_binary_crossentropy: 0.3009\n",
      "Epoch 74/200\n",
      "15/15 [==============================] - 1s 38ms/step - loss: 0.5716 - binary_accuracy: 0.7667 - binary_crossentropy: 0.4461 - val_loss: 0.4415 - val_binary_accuracy: 0.8158 - val_binary_crossentropy: 0.3170\n",
      "Epoch 75/200\n",
      "15/15 [==============================] - 1s 38ms/step - loss: 0.5559 - binary_accuracy: 0.7778 - binary_crossentropy: 0.4322 - val_loss: 0.4586 - val_binary_accuracy: 0.8158 - val_binary_crossentropy: 0.3354\n",
      "Epoch 76/200\n",
      "15/15 [==============================] - 1s 38ms/step - loss: 0.5845 - binary_accuracy: 0.7622 - binary_crossentropy: 0.4625 - val_loss: 0.4752 - val_binary_accuracy: 0.8684 - val_binary_crossentropy: 0.3544\n",
      "Epoch 77/200\n",
      "15/15 [==============================] - 1s 38ms/step - loss: 0.5699 - binary_accuracy: 0.7800 - binary_crossentropy: 0.4498 - val_loss: 0.4501 - val_binary_accuracy: 0.8158 - val_binary_crossentropy: 0.3309\n",
      "Epoch 78/200\n",
      "15/15 [==============================] - 1s 38ms/step - loss: 0.5360 - binary_accuracy: 0.7911 - binary_crossentropy: 0.4176 - val_loss: 0.4283 - val_binary_accuracy: 0.8158 - val_binary_crossentropy: 0.3103\n",
      "Epoch 79/200\n",
      "15/15 [==============================] - 1s 41ms/step - loss: 0.5584 - binary_accuracy: 0.7822 - binary_crossentropy: 0.4412 - val_loss: 0.4534 - val_binary_accuracy: 0.8421 - val_binary_crossentropy: 0.3375\n",
      "Epoch 80/200\n",
      "15/15 [==============================] - 1s 38ms/step - loss: 0.5557 - binary_accuracy: 0.7622 - binary_crossentropy: 0.4405 - val_loss: 0.4164 - val_binary_accuracy: 0.8158 - val_binary_crossentropy: 0.3020\n",
      "Epoch 81/200\n",
      "15/15 [==============================] - 1s 38ms/step - loss: 0.5390 - binary_accuracy: 0.7844 - binary_crossentropy: 0.4251 - val_loss: 0.4368 - val_binary_accuracy: 0.8158 - val_binary_crossentropy: 0.3231\n",
      "Epoch 82/200\n",
      "15/15 [==============================] - 1s 37ms/step - loss: 0.5285 - binary_accuracy: 0.7778 - binary_crossentropy: 0.4153 - val_loss: 0.4150 - val_binary_accuracy: 0.8158 - val_binary_crossentropy: 0.3024\n",
      "Epoch 83/200\n",
      "15/15 [==============================] - 1s 38ms/step - loss: 0.5525 - binary_accuracy: 0.7733 - binary_crossentropy: 0.4406 - val_loss: 0.3943 - val_binary_accuracy: 0.8158 - val_binary_crossentropy: 0.2833\n",
      "Epoch 84/200\n",
      "15/15 [==============================] - 1s 38ms/step - loss: 0.5523 - binary_accuracy: 0.7822 - binary_crossentropy: 0.4422 - val_loss: 0.4353 - val_binary_accuracy: 0.8158 - val_binary_crossentropy: 0.3260\n",
      "Epoch 85/200\n",
      "15/15 [==============================] - 1s 39ms/step - loss: 0.5118 - binary_accuracy: 0.7911 - binary_crossentropy: 0.4034 - val_loss: 0.4096 - val_binary_accuracy: 0.8158 - val_binary_crossentropy: 0.3020\n",
      "Epoch 86/200\n",
      "15/15 [==============================] - 1s 38ms/step - loss: 0.5201 - binary_accuracy: 0.7911 - binary_crossentropy: 0.4128 - val_loss: 0.4091 - val_binary_accuracy: 0.8158 - val_binary_crossentropy: 0.3022\n",
      "Epoch 87/200\n",
      "15/15 [==============================] - 1s 38ms/step - loss: 0.5259 - binary_accuracy: 0.7978 - binary_crossentropy: 0.4196 - val_loss: 0.4386 - val_binary_accuracy: 0.8158 - val_binary_crossentropy: 0.3330\n",
      "Epoch 88/200\n",
      "15/15 [==============================] - 1s 38ms/step - loss: 0.5488 - binary_accuracy: 0.7844 - binary_crossentropy: 0.4441 - val_loss: 0.4130 - val_binary_accuracy: 0.8421 - val_binary_crossentropy: 0.3091\n",
      "Epoch 89/200\n",
      "15/15 [==============================] - 1s 38ms/step - loss: 0.5428 - binary_accuracy: 0.7911 - binary_crossentropy: 0.4390 - val_loss: 0.4570 - val_binary_accuracy: 0.8158 - val_binary_crossentropy: 0.3532\n",
      "Epoch 90/200\n",
      "15/15 [==============================] - 1s 38ms/step - loss: 0.5257 - binary_accuracy: 0.7778 - binary_crossentropy: 0.4229 - val_loss: 0.4288 - val_binary_accuracy: 0.8684 - val_binary_crossentropy: 0.3270\n",
      "Epoch 91/200\n",
      "15/15 [==============================] - 1s 38ms/step - loss: 0.5326 - binary_accuracy: 0.7844 - binary_crossentropy: 0.4308 - val_loss: 0.4297 - val_binary_accuracy: 0.8158 - val_binary_crossentropy: 0.3278\n",
      "Epoch 92/200\n",
      "15/15 [==============================] - 1s 40ms/step - loss: 0.5288 - binary_accuracy: 0.7978 - binary_crossentropy: 0.4279 - val_loss: 0.4158 - val_binary_accuracy: 0.8158 - val_binary_crossentropy: 0.3156\n",
      "Epoch 93/200\n",
      "15/15 [==============================] - 1s 38ms/step - loss: 0.5363 - binary_accuracy: 0.7844 - binary_crossentropy: 0.4370 - val_loss: 0.4120 - val_binary_accuracy: 0.8421 - val_binary_crossentropy: 0.3133\n",
      "Epoch 94/200\n",
      "15/15 [==============================] - 1s 38ms/step - loss: 0.5201 - binary_accuracy: 0.7867 - binary_crossentropy: 0.4212 - val_loss: 0.3965 - val_binary_accuracy: 0.8158 - val_binary_crossentropy: 0.2977\n",
      "Epoch 95/200\n",
      "15/15 [==============================] - 1s 38ms/step - loss: 0.5024 - binary_accuracy: 0.8000 - binary_crossentropy: 0.4038 - val_loss: 0.3884 - val_binary_accuracy: 0.8421 - val_binary_crossentropy: 0.2902\n",
      "Epoch 96/200\n",
      "15/15 [==============================] - 1s 38ms/step - loss: 0.5219 - binary_accuracy: 0.7889 - binary_crossentropy: 0.4241 - val_loss: 0.4070 - val_binary_accuracy: 0.8158 - val_binary_crossentropy: 0.3093\n",
      "Epoch 97/200\n",
      "15/15 [==============================] - 1s 40ms/step - loss: 0.5195 - binary_accuracy: 0.8000 - binary_crossentropy: 0.4223 - val_loss: 0.4050 - val_binary_accuracy: 0.8158 - val_binary_crossentropy: 0.3079\n",
      "Epoch 98/200\n",
      "15/15 [==============================] - 1s 39ms/step - loss: 0.5260 - binary_accuracy: 0.7822 - binary_crossentropy: 0.4295 - val_loss: 0.3913 - val_binary_accuracy: 0.8158 - val_binary_crossentropy: 0.2951\n",
      "Epoch 99/200\n",
      "15/15 [==============================] - 1s 38ms/step - loss: 0.5210 - binary_accuracy: 0.7778 - binary_crossentropy: 0.4252 - val_loss: 0.3924 - val_binary_accuracy: 0.8158 - val_binary_crossentropy: 0.2969\n",
      "Epoch 100/200\n",
      "15/15 [==============================] - 1s 38ms/step - loss: 0.5251 - binary_accuracy: 0.7889 - binary_crossentropy: 0.4300 - val_loss: 0.3815 - val_binary_accuracy: 0.8158 - val_binary_crossentropy: 0.2867\n",
      "Epoch 101/200\n",
      "15/15 [==============================] - 1s 39ms/step - loss: 0.5320 - binary_accuracy: 0.7867 - binary_crossentropy: 0.4376 - val_loss: 0.3849 - val_binary_accuracy: 0.8421 - val_binary_crossentropy: 0.2910\n",
      "Epoch 102/200\n",
      "15/15 [==============================] - 1s 40ms/step - loss: 0.4976 - binary_accuracy: 0.7933 - binary_crossentropy: 0.4041 - val_loss: 0.3970 - val_binary_accuracy: 0.8158 - val_binary_crossentropy: 0.3038\n",
      "Epoch 103/200\n",
      "15/15 [==============================] - 1s 38ms/step - loss: 0.5241 - binary_accuracy: 0.7889 - binary_crossentropy: 0.4317 - val_loss: 0.3969 - val_binary_accuracy: 0.8158 - val_binary_crossentropy: 0.3047\n",
      "Epoch 104/200\n",
      "15/15 [==============================] - 1s 39ms/step - loss: 0.5292 - binary_accuracy: 0.7711 - binary_crossentropy: 0.4375 - val_loss: 0.3887 - val_binary_accuracy: 0.8158 - val_binary_crossentropy: 0.2976\n",
      "Epoch 105/200\n",
      "15/15 [==============================] - 1s 38ms/step - loss: 0.4925 - binary_accuracy: 0.7933 - binary_crossentropy: 0.4016 - val_loss: 0.3881 - val_binary_accuracy: 0.8158 - val_binary_crossentropy: 0.2973\n",
      "Epoch 106/200\n",
      "15/15 [==============================] - 1s 38ms/step - loss: 0.5120 - binary_accuracy: 0.7778 - binary_crossentropy: 0.4215 - val_loss: 0.3901 - val_binary_accuracy: 0.8158 - val_binary_crossentropy: 0.2997\n",
      "Epoch 107/200\n",
      "15/15 [==============================] - 1s 38ms/step - loss: 0.5064 - binary_accuracy: 0.8044 - binary_crossentropy: 0.4166 - val_loss: 0.3860 - val_binary_accuracy: 0.8421 - val_binary_crossentropy: 0.2966\n",
      "Epoch 108/200\n",
      "15/15 [==============================] - 1s 38ms/step - loss: 0.5252 - binary_accuracy: 0.7756 - binary_crossentropy: 0.4359 - val_loss: 0.4737 - val_binary_accuracy: 0.8158 - val_binary_crossentropy: 0.3836\n",
      "Epoch 109/200\n",
      "15/15 [==============================] - 1s 39ms/step - loss: 0.5247 - binary_accuracy: 0.7933 - binary_crossentropy: 0.4354 - val_loss: 0.4074 - val_binary_accuracy: 0.8421 - val_binary_crossentropy: 0.3189\n",
      "Epoch 110/200\n",
      "15/15 [==============================] - 1s 38ms/step - loss: 0.5060 - binary_accuracy: 0.8022 - binary_crossentropy: 0.4175 - val_loss: 0.4640 - val_binary_accuracy: 0.8158 - val_binary_crossentropy: 0.3753\n",
      "Epoch 111/200\n",
      "15/15 [==============================] - 1s 38ms/step - loss: 0.5023 - binary_accuracy: 0.7978 - binary_crossentropy: 0.4146 - val_loss: 0.3810 - val_binary_accuracy: 0.8421 - val_binary_crossentropy: 0.2939\n",
      "Epoch 112/200\n",
      "15/15 [==============================] - 1s 38ms/step - loss: 0.5175 - binary_accuracy: 0.7711 - binary_crossentropy: 0.4305 - val_loss: 0.4028 - val_binary_accuracy: 0.8158 - val_binary_crossentropy: 0.3161\n",
      "Epoch 113/200\n",
      "15/15 [==============================] - 1s 38ms/step - loss: 0.5042 - binary_accuracy: 0.7889 - binary_crossentropy: 0.4180 - val_loss: 0.3859 - val_binary_accuracy: 0.8158 - val_binary_crossentropy: 0.3001\n",
      "Epoch 114/200\n",
      "15/15 [==============================] - 1s 38ms/step - loss: 0.4896 - binary_accuracy: 0.7844 - binary_crossentropy: 0.4040 - val_loss: 0.3780 - val_binary_accuracy: 0.8158 - val_binary_crossentropy: 0.2926\n",
      "Epoch 115/200\n",
      "15/15 [==============================] - 1s 40ms/step - loss: 0.5074 - binary_accuracy: 0.7733 - binary_crossentropy: 0.4225 - val_loss: 0.3811 - val_binary_accuracy: 0.8158 - val_binary_crossentropy: 0.2961\n",
      "Epoch 116/200\n",
      "15/15 [==============================] - 1s 38ms/step - loss: 0.5000 - binary_accuracy: 0.7889 - binary_crossentropy: 0.4155 - val_loss: 0.3926 - val_binary_accuracy: 0.8158 - val_binary_crossentropy: 0.3085\n",
      "Epoch 117/200\n",
      "15/15 [==============================] - 1s 39ms/step - loss: 0.4998 - binary_accuracy: 0.7822 - binary_crossentropy: 0.4162 - val_loss: 0.3757 - val_binary_accuracy: 0.8158 - val_binary_crossentropy: 0.2924\n",
      "Epoch 118/200\n",
      "15/15 [==============================] - 1s 37ms/step - loss: 0.5052 - binary_accuracy: 0.7844 - binary_crossentropy: 0.4221 - val_loss: 0.3775 - val_binary_accuracy: 0.8158 - val_binary_crossentropy: 0.2941\n",
      "Epoch 119/200\n",
      "15/15 [==============================] - 1s 38ms/step - loss: 0.5009 - binary_accuracy: 0.7867 - binary_crossentropy: 0.4177 - val_loss: 0.3811 - val_binary_accuracy: 0.8158 - val_binary_crossentropy: 0.2983\n",
      "Epoch 120/200\n",
      "15/15 [==============================] - 1s 38ms/step - loss: 0.4816 - binary_accuracy: 0.7933 - binary_crossentropy: 0.3991 - val_loss: 0.3805 - val_binary_accuracy: 0.8158 - val_binary_crossentropy: 0.2982\n",
      "Epoch 121/200\n",
      "15/15 [==============================] - 1s 37ms/step - loss: 0.5060 - binary_accuracy: 0.7911 - binary_crossentropy: 0.4241 - val_loss: 0.3603 - val_binary_accuracy: 0.8158 - val_binary_crossentropy: 0.2784\n",
      "Epoch 122/200\n",
      "15/15 [==============================] - 1s 38ms/step - loss: 0.4992 - binary_accuracy: 0.7778 - binary_crossentropy: 0.4175 - val_loss: 0.3730 - val_binary_accuracy: 0.8158 - val_binary_crossentropy: 0.2911\n",
      "Epoch 123/200\n",
      "15/15 [==============================] - 1s 38ms/step - loss: 0.5128 - binary_accuracy: 0.7844 - binary_crossentropy: 0.4310 - val_loss: 0.3529 - val_binary_accuracy: 0.8421 - val_binary_crossentropy: 0.2714\n",
      "Epoch 124/200\n",
      "15/15 [==============================] - 1s 37ms/step - loss: 0.4953 - binary_accuracy: 0.7933 - binary_crossentropy: 0.4139 - val_loss: 0.3888 - val_binary_accuracy: 0.8158 - val_binary_crossentropy: 0.3074\n",
      "Epoch 125/200\n",
      "15/15 [==============================] - 1s 38ms/step - loss: 0.4888 - binary_accuracy: 0.7844 - binary_crossentropy: 0.4078 - val_loss: 0.3688 - val_binary_accuracy: 0.8158 - val_binary_crossentropy: 0.2877\n",
      "Epoch 126/200\n",
      "15/15 [==============================] - 1s 37ms/step - loss: 0.4976 - binary_accuracy: 0.7778 - binary_crossentropy: 0.4166 - val_loss: 0.3703 - val_binary_accuracy: 0.8158 - val_binary_crossentropy: 0.2894\n",
      "Epoch 127/200\n",
      "15/15 [==============================] - 1s 39ms/step - loss: 0.4816 - binary_accuracy: 0.7933 - binary_crossentropy: 0.4009 - val_loss: 0.4002 - val_binary_accuracy: 0.8158 - val_binary_crossentropy: 0.3194\n",
      "Epoch 128/200\n",
      "15/15 [==============================] - 1s 38ms/step - loss: 0.5088 - binary_accuracy: 0.8067 - binary_crossentropy: 0.4284 - val_loss: 0.3778 - val_binary_accuracy: 0.8421 - val_binary_crossentropy: 0.2978\n",
      "Epoch 129/200\n",
      "15/15 [==============================] - 1s 39ms/step - loss: 0.4709 - binary_accuracy: 0.8244 - binary_crossentropy: 0.3909 - val_loss: 0.3580 - val_binary_accuracy: 0.8158 - val_binary_crossentropy: 0.2780\n",
      "Epoch 130/200\n",
      "15/15 [==============================] - 1s 37ms/step - loss: 0.5147 - binary_accuracy: 0.7689 - binary_crossentropy: 0.4351 - val_loss: 0.3649 - val_binary_accuracy: 0.8684 - val_binary_crossentropy: 0.2852\n",
      "Epoch 131/200\n",
      "15/15 [==============================] - 1s 39ms/step - loss: 0.4806 - binary_accuracy: 0.7711 - binary_crossentropy: 0.4010 - val_loss: 0.3783 - val_binary_accuracy: 0.8158 - val_binary_crossentropy: 0.2988\n",
      "Epoch 132/200\n",
      "15/15 [==============================] - 1s 38ms/step - loss: 0.4853 - binary_accuracy: 0.7933 - binary_crossentropy: 0.4061 - val_loss: 0.3671 - val_binary_accuracy: 0.8158 - val_binary_crossentropy: 0.2880\n",
      "Epoch 133/200\n",
      "15/15 [==============================] - 1s 38ms/step - loss: 0.4827 - binary_accuracy: 0.7844 - binary_crossentropy: 0.4036 - val_loss: 0.3828 - val_binary_accuracy: 0.8158 - val_binary_crossentropy: 0.3035\n",
      "Epoch 134/200\n",
      "15/15 [==============================] - 1s 39ms/step - loss: 0.4851 - binary_accuracy: 0.7822 - binary_crossentropy: 0.4062 - val_loss: 0.3863 - val_binary_accuracy: 0.8158 - val_binary_crossentropy: 0.3076\n",
      "Epoch 135/200\n",
      "15/15 [==============================] - 1s 38ms/step - loss: 0.4742 - binary_accuracy: 0.8044 - binary_crossentropy: 0.3958 - val_loss: 0.3599 - val_binary_accuracy: 0.8158 - val_binary_crossentropy: 0.2815\n",
      "Epoch 136/200\n",
      "15/15 [==============================] - 1s 38ms/step - loss: 0.4629 - binary_accuracy: 0.8111 - binary_crossentropy: 0.3846 - val_loss: 0.3773 - val_binary_accuracy: 0.8158 - val_binary_crossentropy: 0.2988\n",
      "Epoch 137/200\n",
      "15/15 [==============================] - 1s 38ms/step - loss: 0.4748 - binary_accuracy: 0.8022 - binary_crossentropy: 0.3963 - val_loss: 0.3581 - val_binary_accuracy: 0.8684 - val_binary_crossentropy: 0.2798\n",
      "Epoch 138/200\n",
      "15/15 [==============================] - 1s 39ms/step - loss: 0.4951 - binary_accuracy: 0.7800 - binary_crossentropy: 0.4170 - val_loss: 0.3668 - val_binary_accuracy: 0.7895 - val_binary_crossentropy: 0.2888\n",
      "Epoch 139/200\n",
      "15/15 [==============================] - 1s 38ms/step - loss: 0.4826 - binary_accuracy: 0.7911 - binary_crossentropy: 0.4046 - val_loss: 0.3800 - val_binary_accuracy: 0.8158 - val_binary_crossentropy: 0.3019\n",
      "Epoch 140/200\n",
      "15/15 [==============================] - 1s 38ms/step - loss: 0.4880 - binary_accuracy: 0.7933 - binary_crossentropy: 0.4104 - val_loss: 0.3805 - val_binary_accuracy: 0.8684 - val_binary_crossentropy: 0.3034\n",
      "Epoch 141/200\n",
      "15/15 [==============================] - 1s 38ms/step - loss: 0.4723 - binary_accuracy: 0.8156 - binary_crossentropy: 0.3950 - val_loss: 0.3877 - val_binary_accuracy: 0.8158 - val_binary_crossentropy: 0.3098\n",
      "Epoch 142/200\n",
      "15/15 [==============================] - 1s 37ms/step - loss: 0.4945 - binary_accuracy: 0.8022 - binary_crossentropy: 0.4169 - val_loss: 0.3496 - val_binary_accuracy: 0.8158 - val_binary_crossentropy: 0.2717\n",
      "Epoch 143/200\n",
      "15/15 [==============================] - 1s 38ms/step - loss: 0.4786 - binary_accuracy: 0.7956 - binary_crossentropy: 0.4009 - val_loss: 0.3594 - val_binary_accuracy: 0.8158 - val_binary_crossentropy: 0.2818\n",
      "Epoch 144/200\n",
      "15/15 [==============================] - 1s 38ms/step - loss: 0.4930 - binary_accuracy: 0.7956 - binary_crossentropy: 0.4158 - val_loss: 0.3558 - val_binary_accuracy: 0.8421 - val_binary_crossentropy: 0.2791\n",
      "Epoch 145/200\n",
      "15/15 [==============================] - 1s 40ms/step - loss: 0.4686 - binary_accuracy: 0.8133 - binary_crossentropy: 0.3921 - val_loss: 0.3438 - val_binary_accuracy: 0.8421 - val_binary_crossentropy: 0.2675\n",
      "Epoch 146/200\n",
      "15/15 [==============================] - 1s 37ms/step - loss: 0.4669 - binary_accuracy: 0.8089 - binary_crossentropy: 0.3908 - val_loss: 0.4121 - val_binary_accuracy: 0.8158 - val_binary_crossentropy: 0.3355\n",
      "Epoch 147/200\n",
      "15/15 [==============================] - 1s 38ms/step - loss: 0.5020 - binary_accuracy: 0.8044 - binary_crossentropy: 0.4261 - val_loss: 0.3841 - val_binary_accuracy: 0.7895 - val_binary_crossentropy: 0.3085\n",
      "Epoch 148/200\n",
      "15/15 [==============================] - 1s 39ms/step - loss: 0.4682 - binary_accuracy: 0.7889 - binary_crossentropy: 0.3927 - val_loss: 0.3512 - val_binary_accuracy: 0.8158 - val_binary_crossentropy: 0.2758\n",
      "Epoch 149/200\n",
      "15/15 [==============================] - 1s 38ms/step - loss: 0.4633 - binary_accuracy: 0.8156 - binary_crossentropy: 0.3881 - val_loss: 0.3788 - val_binary_accuracy: 0.8158 - val_binary_crossentropy: 0.3031\n",
      "Epoch 150/200\n",
      "15/15 [==============================] - 1s 38ms/step - loss: 0.4784 - binary_accuracy: 0.7978 - binary_crossentropy: 0.4028 - val_loss: 0.3593 - val_binary_accuracy: 0.8158 - val_binary_crossentropy: 0.2837\n",
      "Epoch 151/200\n",
      "15/15 [==============================] - 1s 38ms/step - loss: 0.4588 - binary_accuracy: 0.8111 - binary_crossentropy: 0.3830 - val_loss: 0.3456 - val_binary_accuracy: 0.8158 - val_binary_crossentropy: 0.2699\n",
      "Epoch 152/200\n",
      "15/15 [==============================] - 1s 39ms/step - loss: 0.4823 - binary_accuracy: 0.8022 - binary_crossentropy: 0.4064 - val_loss: 0.3785 - val_binary_accuracy: 0.8158 - val_binary_crossentropy: 0.3025\n",
      "Epoch 153/200\n",
      "15/15 [==============================] - 1s 39ms/step - loss: 0.4711 - binary_accuracy: 0.8022 - binary_crossentropy: 0.3954 - val_loss: 0.3391 - val_binary_accuracy: 0.8421 - val_binary_crossentropy: 0.2637\n",
      "Epoch 154/200\n",
      "15/15 [==============================] - 1s 39ms/step - loss: 0.4865 - binary_accuracy: 0.8044 - binary_crossentropy: 0.4109 - val_loss: 0.4282 - val_binary_accuracy: 0.8158 - val_binary_crossentropy: 0.3520\n",
      "Epoch 155/200\n",
      "15/15 [==============================] - 1s 38ms/step - loss: 0.4822 - binary_accuracy: 0.8156 - binary_crossentropy: 0.4064 - val_loss: 0.3713 - val_binary_accuracy: 0.8684 - val_binary_crossentropy: 0.2959\n",
      "Epoch 156/200\n",
      "15/15 [==============================] - 1s 38ms/step - loss: 0.4684 - binary_accuracy: 0.7889 - binary_crossentropy: 0.3930 - val_loss: 0.3800 - val_binary_accuracy: 0.8158 - val_binary_crossentropy: 0.3046\n",
      "Epoch 157/200\n",
      "15/15 [==============================] - 1s 38ms/step - loss: 0.4751 - binary_accuracy: 0.8000 - binary_crossentropy: 0.4000 - val_loss: 0.3654 - val_binary_accuracy: 0.8158 - val_binary_crossentropy: 0.2898\n",
      "Epoch 158/200\n",
      "15/15 [==============================] - 1s 38ms/step - loss: 0.4872 - binary_accuracy: 0.8022 - binary_crossentropy: 0.4118 - val_loss: 0.3671 - val_binary_accuracy: 0.8421 - val_binary_crossentropy: 0.2921\n",
      "Epoch 159/200\n",
      "15/15 [==============================] - 1s 38ms/step - loss: 0.4750 - binary_accuracy: 0.8000 - binary_crossentropy: 0.4001 - val_loss: 0.3681 - val_binary_accuracy: 0.8158 - val_binary_crossentropy: 0.2931\n",
      "Epoch 160/200\n",
      "15/15 [==============================] - 1s 38ms/step - loss: 0.4876 - binary_accuracy: 0.8044 - binary_crossentropy: 0.4128 - val_loss: 0.3479 - val_binary_accuracy: 0.8158 - val_binary_crossentropy: 0.2731\n",
      "Epoch 161/200\n",
      "15/15 [==============================] - 1s 38ms/step - loss: 0.4709 - binary_accuracy: 0.7978 - binary_crossentropy: 0.3963 - val_loss: 0.3482 - val_binary_accuracy: 0.7895 - val_binary_crossentropy: 0.2735\n",
      "Epoch 162/200\n",
      "15/15 [==============================] - 1s 40ms/step - loss: 0.4683 - binary_accuracy: 0.8067 - binary_crossentropy: 0.3937 - val_loss: 0.3548 - val_binary_accuracy: 0.8684 - val_binary_crossentropy: 0.2805\n",
      "Epoch 163/200\n",
      "15/15 [==============================] - 1s 38ms/step - loss: 0.4482 - binary_accuracy: 0.8178 - binary_crossentropy: 0.3736 - val_loss: 0.3575 - val_binary_accuracy: 0.8158 - val_binary_crossentropy: 0.2824\n",
      "Epoch 164/200\n",
      "15/15 [==============================] - 1s 38ms/step - loss: 0.4832 - binary_accuracy: 0.7756 - binary_crossentropy: 0.4082 - val_loss: 0.3202 - val_binary_accuracy: 0.8684 - val_binary_crossentropy: 0.2453\n",
      "Epoch 165/200\n",
      "15/15 [==============================] - 1s 38ms/step - loss: 0.4830 - binary_accuracy: 0.7800 - binary_crossentropy: 0.4086 - val_loss: 0.3717 - val_binary_accuracy: 0.7895 - val_binary_crossentropy: 0.2975\n",
      "Epoch 166/200\n",
      "15/15 [==============================] - 1s 38ms/step - loss: 0.4748 - binary_accuracy: 0.7867 - binary_crossentropy: 0.4009 - val_loss: 0.3364 - val_binary_accuracy: 0.7895 - val_binary_crossentropy: 0.2628\n",
      "Epoch 167/200\n",
      "15/15 [==============================] - 1s 38ms/step - loss: 0.4572 - binary_accuracy: 0.8178 - binary_crossentropy: 0.3833 - val_loss: 0.3680 - val_binary_accuracy: 0.8158 - val_binary_crossentropy: 0.2935\n",
      "Epoch 168/200\n",
      "15/15 [==============================] - 1s 37ms/step - loss: 0.4882 - binary_accuracy: 0.8089 - binary_crossentropy: 0.4138 - val_loss: 0.3424 - val_binary_accuracy: 0.8158 - val_binary_crossentropy: 0.2680\n",
      "Epoch 169/200\n",
      "15/15 [==============================] - 1s 39ms/step - loss: 0.4636 - binary_accuracy: 0.8133 - binary_crossentropy: 0.3898 - val_loss: 0.3634 - val_binary_accuracy: 0.8158 - val_binary_crossentropy: 0.2900\n",
      "Epoch 170/200\n",
      "15/15 [==============================] - 1s 38ms/step - loss: 0.4811 - binary_accuracy: 0.7867 - binary_crossentropy: 0.4081 - val_loss: 0.3525 - val_binary_accuracy: 0.8684 - val_binary_crossentropy: 0.2798\n",
      "Epoch 171/200\n",
      "15/15 [==============================] - 1s 38ms/step - loss: 0.4455 - binary_accuracy: 0.8289 - binary_crossentropy: 0.3728 - val_loss: 0.3894 - val_binary_accuracy: 0.8158 - val_binary_crossentropy: 0.3166\n",
      "Epoch 172/200\n",
      "15/15 [==============================] - 1s 38ms/step - loss: 0.4997 - binary_accuracy: 0.7889 - binary_crossentropy: 0.4272 - val_loss: 0.3429 - val_binary_accuracy: 0.7895 - val_binary_crossentropy: 0.2700\n",
      "Epoch 173/200\n",
      "15/15 [==============================] - 1s 38ms/step - loss: 0.4624 - binary_accuracy: 0.8089 - binary_crossentropy: 0.3892 - val_loss: 0.3647 - val_binary_accuracy: 0.8158 - val_binary_crossentropy: 0.2911\n",
      "Epoch 174/200\n",
      "15/15 [==============================] - 1s 38ms/step - loss: 0.4657 - binary_accuracy: 0.8044 - binary_crossentropy: 0.3923 - val_loss: 0.3563 - val_binary_accuracy: 0.8684 - val_binary_crossentropy: 0.2830\n",
      "Epoch 175/200\n",
      "15/15 [==============================] - 1s 37ms/step - loss: 0.4717 - binary_accuracy: 0.8089 - binary_crossentropy: 0.3982 - val_loss: 0.3484 - val_binary_accuracy: 0.8158 - val_binary_crossentropy: 0.2748\n",
      "Epoch 176/200\n",
      "15/15 [==============================] - 1s 38ms/step - loss: 0.4602 - binary_accuracy: 0.8067 - binary_crossentropy: 0.3870 - val_loss: 0.3651 - val_binary_accuracy: 0.8158 - val_binary_crossentropy: 0.2918\n",
      "Epoch 177/200\n",
      "15/15 [==============================] - 1s 37ms/step - loss: 0.4755 - binary_accuracy: 0.7778 - binary_crossentropy: 0.4024 - val_loss: 0.3231 - val_binary_accuracy: 0.8421 - val_binary_crossentropy: 0.2494\n",
      "Epoch 178/200\n",
      "15/15 [==============================] - 1s 38ms/step - loss: 0.4732 - binary_accuracy: 0.7911 - binary_crossentropy: 0.3999 - val_loss: 0.3338 - val_binary_accuracy: 0.8158 - val_binary_crossentropy: 0.2605\n",
      "Epoch 179/200\n",
      "15/15 [==============================] - 1s 38ms/step - loss: 0.4375 - binary_accuracy: 0.8178 - binary_crossentropy: 0.3646 - val_loss: 0.3782 - val_binary_accuracy: 0.8158 - val_binary_crossentropy: 0.3052\n",
      "Epoch 180/200\n",
      "15/15 [==============================] - 1s 40ms/step - loss: 0.4361 - binary_accuracy: 0.8356 - binary_crossentropy: 0.3632 - val_loss: 0.3224 - val_binary_accuracy: 0.8684 - val_binary_crossentropy: 0.2492\n",
      "Epoch 181/200\n",
      "15/15 [==============================] - 1s 38ms/step - loss: 0.4685 - binary_accuracy: 0.8244 - binary_crossentropy: 0.3949 - val_loss: 0.3595 - val_binary_accuracy: 0.8158 - val_binary_crossentropy: 0.2853\n",
      "Epoch 182/200\n",
      "15/15 [==============================] - 1s 38ms/step - loss: 0.4830 - binary_accuracy: 0.7867 - binary_crossentropy: 0.4094 - val_loss: 0.3504 - val_binary_accuracy: 0.8158 - val_binary_crossentropy: 0.2772\n",
      "Epoch 183/200\n",
      "15/15 [==============================] - 1s 39ms/step - loss: 0.4630 - binary_accuracy: 0.8133 - binary_crossentropy: 0.3900 - val_loss: 0.3326 - val_binary_accuracy: 0.7895 - val_binary_crossentropy: 0.2600\n",
      "Epoch 184/200\n",
      "15/15 [==============================] - 1s 42ms/step - loss: 0.4620 - binary_accuracy: 0.8178 - binary_crossentropy: 0.3898 - val_loss: 0.3359 - val_binary_accuracy: 0.8158 - val_binary_crossentropy: 0.2643\n",
      "Epoch 185/200\n",
      "15/15 [==============================] - 1s 39ms/step - loss: 0.4612 - binary_accuracy: 0.8044 - binary_crossentropy: 0.3898 - val_loss: 0.3418 - val_binary_accuracy: 0.8684 - val_binary_crossentropy: 0.2707\n",
      "Epoch 186/200\n",
      "15/15 [==============================] - 1s 38ms/step - loss: 0.4381 - binary_accuracy: 0.8178 - binary_crossentropy: 0.3666 - val_loss: 0.3822 - val_binary_accuracy: 0.8158 - val_binary_crossentropy: 0.3100\n",
      "Epoch 187/200\n",
      "15/15 [==============================] - 1s 38ms/step - loss: 0.4504 - binary_accuracy: 0.7978 - binary_crossentropy: 0.3785 - val_loss: 0.3464 - val_binary_accuracy: 0.8158 - val_binary_crossentropy: 0.2748\n",
      "Epoch 188/200\n",
      "15/15 [==============================] - 1s 38ms/step - loss: 0.4646 - binary_accuracy: 0.7800 - binary_crossentropy: 0.3931 - val_loss: 0.3448 - val_binary_accuracy: 0.7895 - val_binary_crossentropy: 0.2732\n",
      "Epoch 189/200\n",
      "15/15 [==============================] - 1s 38ms/step - loss: 0.4930 - binary_accuracy: 0.7911 - binary_crossentropy: 0.4216 - val_loss: 0.3539 - val_binary_accuracy: 0.8684 - val_binary_crossentropy: 0.2824\n",
      "Epoch 190/200\n",
      "15/15 [==============================] - 1s 38ms/step - loss: 0.4529 - binary_accuracy: 0.8200 - binary_crossentropy: 0.3809 - val_loss: 0.3899 - val_binary_accuracy: 0.8158 - val_binary_crossentropy: 0.3174\n",
      "Epoch 191/200\n",
      "15/15 [==============================] - 1s 38ms/step - loss: 0.4657 - binary_accuracy: 0.8000 - binary_crossentropy: 0.3937 - val_loss: 0.3446 - val_binary_accuracy: 0.8421 - val_binary_crossentropy: 0.2729\n",
      "Epoch 192/200\n",
      "15/15 [==============================] - 1s 38ms/step - loss: 0.4510 - binary_accuracy: 0.7978 - binary_crossentropy: 0.3794 - val_loss: 0.3673 - val_binary_accuracy: 0.8158 - val_binary_crossentropy: 0.2957\n",
      "Epoch 193/200\n",
      "15/15 [==============================] - 1s 37ms/step - loss: 0.4769 - binary_accuracy: 0.7911 - binary_crossentropy: 0.4056 - val_loss: 0.3422 - val_binary_accuracy: 0.8684 - val_binary_crossentropy: 0.2710\n",
      "Epoch 194/200\n",
      "15/15 [==============================] - 1s 37ms/step - loss: 0.4518 - binary_accuracy: 0.8044 - binary_crossentropy: 0.3807 - val_loss: 0.3578 - val_binary_accuracy: 0.7895 - val_binary_crossentropy: 0.2863\n",
      "Epoch 195/200\n",
      "15/15 [==============================] - 1s 38ms/step - loss: 0.4638 - binary_accuracy: 0.8044 - binary_crossentropy: 0.3922 - val_loss: 0.3415 - val_binary_accuracy: 0.8684 - val_binary_crossentropy: 0.2699\n",
      "Epoch 196/200\n",
      "15/15 [==============================] - 1s 39ms/step - loss: 0.4607 - binary_accuracy: 0.7889 - binary_crossentropy: 0.3893 - val_loss: 0.3603 - val_binary_accuracy: 0.8158 - val_binary_crossentropy: 0.2888\n",
      "Epoch 197/200\n",
      "15/15 [==============================] - 1s 38ms/step - loss: 0.4475 - binary_accuracy: 0.8222 - binary_crossentropy: 0.3763 - val_loss: 0.3415 - val_binary_accuracy: 0.7895 - val_binary_crossentropy: 0.2701\n",
      "Epoch 198/200\n",
      "15/15 [==============================] - 1s 38ms/step - loss: 0.4506 - binary_accuracy: 0.8156 - binary_crossentropy: 0.3790 - val_loss: 0.3413 - val_binary_accuracy: 0.8684 - val_binary_crossentropy: 0.2692\n",
      "Epoch 199/200\n",
      "15/15 [==============================] - 1s 38ms/step - loss: 0.4634 - binary_accuracy: 0.8200 - binary_crossentropy: 0.3911 - val_loss: 0.3886 - val_binary_accuracy: 0.8158 - val_binary_crossentropy: 0.3160\n",
      "Epoch 200/200\n",
      "15/15 [==============================] - 1s 38ms/step - loss: 0.4568 - binary_accuracy: 0.8022 - binary_crossentropy: 0.3848 - val_loss: 0.3286 - val_binary_accuracy: 0.7895 - val_binary_crossentropy: 0.2567\n"
     ]
    }
   ],
   "source": [
    "history = model.fit(\n",
    "    train_ds_batched,\n",
    "    steps_per_epoch=15,\n",
    "    epochs=200,\n",
    "    validation_data=val_ds_batched,\n",
    ")"
   ]
  },
  {
   "cell_type": "markdown",
   "metadata": {
    "id": "coXPPpmUFKAh"
   },
   "source": [
    "### Plot the loss and metric curves for train and val"
   ]
  },
  {
   "cell_type": "code",
   "execution_count": 18,
   "metadata": {
    "id": "0Qd2iuVZpsRH"
   },
   "outputs": [
    {
     "data": {
      "image/png": "[encoded data removed]",
      "text/plain": [
       "<Figure size 432x288 with 1 Axes>"
      ]
     },
     "metadata": {
      "needs_background": "light"
     },
     "output_type": "display_data"
    },
    {
     "data": {
      "image/png": "[encoded data removed]",
      "text/plain": [
       "<Figure size 432x288 with 1 Axes>"
      ]
     },
     "metadata": {
      "needs_background": "light"
     },
     "output_type": "display_data"
    },
    {
     "data": {
      "image/png": "[encoded data removed]",
      "text/plain": [
       "<Figure size 432x288 with 1 Axes>"
      ]
     },
     "metadata": {
      "needs_background": "light"
     },
     "output_type": "display_data"
    },
    {
     "data": {
      "image/png": "[encoded data removed]",
      "text/plain": [
       "<Figure size 432x288 with 1 Axes>"
      ]
     },
     "metadata": {
      "needs_background": "light"
     },
     "output_type": "display_data"
    },
    {
     "data": {
      "image/png": "[encoded data removed]",
      "text/plain": [
       "<Figure size 432x288 with 1 Axes>"
      ]
     },
     "metadata": {
      "needs_background": "light"
     },
     "output_type": "display_data"
    },
    {
     "data": {
      "image/png": "[encoded data removed]",
      "text/plain": [
       "<Figure size 432x288 with 1 Axes>"
      ]
     },
     "metadata": {
      "needs_background": "light"
     },
     "output_type": "display_data"
    }
   ],
   "source": [
    "for k, hist in history.history.items():\n",
    "    plt.plot(hist)\n",
    "    plt.title(k)\n",
    "    plt.show()"
   ]
  },
  {
   "cell_type": "code",
   "execution_count": null,
   "metadata": {},
   "outputs": [],
   "source": []
  }
 ],
 "metadata": {
  "colab": {
   "collapsed_sections": [
    "ScitaPqhKtuW"
   ],
   "name": "tfgnn-intro-mutag-example.ipynb",
   "private_outputs": true,
   "provenance": [
    {
     "file_id": "199Qj2Kc73yreV9szw3ZvghJb9aG8R8Us",
     "timestamp": 1639468859837
    },
    {
     "file_id": "1Qm-6zA_twOkAsgCoA5Zl2X9RaFa04Zii",
     "timestamp": 1637635073567
    }
   ]
  },
  "environment": {
   "kernel": "python3",
   "name": "tf2-gpu.2-6.m94",
   "type": "gcloud",
   "uri": "gcr.io/deeplearning-platform-release/tf2-gpu.2-6:m94"
  },
  "kernelspec": {
   "display_name": "Python 3",
   "language": "python",
   "name": "python3"
  },
  "language_info": {
   "codemirror_mode": {
    "name": "ipython",
    "version": 3
   },
   "file_extension": ".py",
   "mimetype": "text/x-python",
   "name": "python",
   "nbconvert_exporter": "python",
   "pygments_lexer": "ipython3",
   "version": "3.7.12"
  }
 },
 "nbformat": 4,
 "nbformat_minor": 4
}
