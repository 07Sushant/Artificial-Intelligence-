{
 "cells": [
  {
   "cell_type": "markdown",
   "metadata": {
    "colab_type": "text",
    "id": "4f3CKqFUqL2-",
    "slideshow": {
     "slide_type": "slide"
    }
   },
   "source": [
    "# Trying out features"
   ]
  },
  {
   "cell_type": "markdown",
   "metadata": {},
   "source": [
    "**Learning Objectives:**\n",
    "  * Improve the accuracy of a model by adding new features with the appropriate representation"
   ]
  },
  {
   "cell_type": "markdown",
   "metadata": {},
   "source": [
    "The data is based on 1990 census data from California. This data is at the city block level, so these features reflect the total number of rooms in that block, or the total number of people who live on that block, respectively."
   ]
  },
  {
   "cell_type": "markdown",
   "metadata": {
    "colab_type": "text",
    "id": "6TjLjL9IU80G"
   },
   "source": [
    "## Set Up\n",
    "In this first cell, we'll load the necessary libraries."
   ]
  },
  {
   "cell_type": "code",
   "execution_count": 1,
   "metadata": {
    "collapsed": false
   },
   "outputs": [
    {
     "data": {
      "text/html": [
       "\n",
       "          <script src=\"/static/components/requirejs/require.js\"></script>\n",
       "          <script>\n",
       "            requirejs.config({\n",
       "              paths: {\n",
       "                base: '/static/base',\n",
       "              },\n",
       "            });\n",
       "          </script>\n",
       "          "
      ],
      "text/plain": [
       "<IPython.core.display.HTML object>"
      ]
     },
     "metadata": {},
     "output_type": "display_data"
    }
   ],
   "source": [
    "import math\n",
    "import shutil\n",
    "import numpy as np\n",
    "import pandas as pd\n",
    "import tensorflow as tf\n",
    "\n",
    "tf.logging.set_verbosity(tf.logging.INFO)\n",
    "pd.options.display.max_rows = 10\n",
    "pd.options.display.float_format = '{:.1f}'.format"
   ]
  },
  {
   "cell_type": "markdown",
   "metadata": {
    "colab_type": "text",
    "id": "ipRyUHjhU80Q"
   },
   "source": [
    "Next, we'll load our data set."
   ]
  },
  {
   "cell_type": "code",
   "execution_count": 2,
   "metadata": {
    "collapsed": false
   },
   "outputs": [
    {
     "data": {
      "text/html": [
       "\n",
       "          <script src=\"/static/components/requirejs/require.js\"></script>\n",
       "          <script>\n",
       "            requirejs.config({\n",
       "              paths: {\n",
       "                base: '/static/base',\n",
       "              },\n",
       "            });\n",
       "          </script>\n",
       "          "
      ],
      "text/plain": [
       "<IPython.core.display.HTML object>"
      ]
     },
     "metadata": {},
     "output_type": "display_data"
    }
   ],
   "source": [
    "df = pd.read_csv(\"https://storage.googleapis.com/ml_universities/california_housing_train.csv\", sep=\",\")"
   ]
  },
  {
   "cell_type": "markdown",
   "metadata": {
    "colab_type": "text",
    "id": "HzzlSs3PtTmt",
    "slideshow": {
     "slide_type": "-"
    }
   },
   "source": [
    "## Examine and split the data\n",
    "\n",
    "It's a good idea to get to know your data a little bit before you work with it.\n",
    "\n",
    "We'll print out a quick summary of a few useful statistics on each column.\n",
    "\n",
    "This will include things like mean, standard deviation, max, min, and various quantiles."
   ]
  },
  {
   "cell_type": "code",
   "execution_count": 3,
   "metadata": {
    "collapsed": false
   },
   "outputs": [
    {
     "data": {
      "text/html": [
       "\n",
       "          <script src=\"/static/components/requirejs/require.js\"></script>\n",
       "          <script>\n",
       "            requirejs.config({\n",
       "              paths: {\n",
       "                base: '/static/base',\n",
       "              },\n",
       "            });\n",
       "          </script>\n",
       "          "
      ],
      "text/plain": [
       "<IPython.core.display.HTML object>"
      ]
     },
     "metadata": {},
     "output_type": "display_data"
    },
    {
     "data": {
      "text/html": [
       "<div>\n",
       "<table border=\"1\" class=\"dataframe\">\n",
       "  <thead>\n",
       "    <tr style=\"text-align: right;\">\n",
       "      <th></th>\n",
       "      <th>longitude</th>\n",
       "      <th>latitude</th>\n",
       "      <th>housing_median_age</th>\n",
       "      <th>total_rooms</th>\n",
       "      <th>total_bedrooms</th>\n",
       "      <th>population</th>\n",
       "      <th>households</th>\n",
       "      <th>median_income</th>\n",
       "      <th>median_house_value</th>\n",
       "    </tr>\n",
       "  </thead>\n",
       "  <tbody>\n",
       "    <tr>\n",
       "      <th>0</th>\n",
       "      <td>-114.3</td>\n",
       "      <td>34.2</td>\n",
       "      <td>15.0</td>\n",
       "      <td>5612.0</td>\n",
       "      <td>1283.0</td>\n",
       "      <td>1015.0</td>\n",
       "      <td>472.0</td>\n",
       "      <td>1.5</td>\n",
       "      <td>66900.0</td>\n",
       "    </tr>\n",
       "    <tr>\n",
       "      <th>1</th>\n",
       "      <td>-114.5</td>\n",
       "      <td>34.4</td>\n",
       "      <td>19.0</td>\n",
       "      <td>7650.0</td>\n",
       "      <td>1901.0</td>\n",
       "      <td>1129.0</td>\n",
       "      <td>463.0</td>\n",
       "      <td>1.8</td>\n",
       "      <td>80100.0</td>\n",
       "    </tr>\n",
       "    <tr>\n",
       "      <th>2</th>\n",
       "      <td>-114.6</td>\n",
       "      <td>33.7</td>\n",
       "      <td>17.0</td>\n",
       "      <td>720.0</td>\n",
       "      <td>174.0</td>\n",
       "      <td>333.0</td>\n",
       "      <td>117.0</td>\n",
       "      <td>1.7</td>\n",
       "      <td>85700.0</td>\n",
       "    </tr>\n",
       "    <tr>\n",
       "      <th>3</th>\n",
       "      <td>-114.6</td>\n",
       "      <td>33.6</td>\n",
       "      <td>14.0</td>\n",
       "      <td>1501.0</td>\n",
       "      <td>337.0</td>\n",
       "      <td>515.0</td>\n",
       "      <td>226.0</td>\n",
       "      <td>3.2</td>\n",
       "      <td>73400.0</td>\n",
       "    </tr>\n",
       "    <tr>\n",
       "      <th>4</th>\n",
       "      <td>-114.6</td>\n",
       "      <td>33.6</td>\n",
       "      <td>20.0</td>\n",
       "      <td>1454.0</td>\n",
       "      <td>326.0</td>\n",
       "      <td>624.0</td>\n",
       "      <td>262.0</td>\n",
       "      <td>1.9</td>\n",
       "      <td>65500.0</td>\n",
       "    </tr>\n",
       "  </tbody>\n",
       "</table>\n",
       "</div>"
      ],
      "text/plain": [
       "   longitude  latitude  housing_median_age  total_rooms  total_bedrooms  \\\n",
       "0     -114.3      34.2                15.0       5612.0          1283.0   \n",
       "1     -114.5      34.4                19.0       7650.0          1901.0   \n",
       "2     -114.6      33.7                17.0        720.0           174.0   \n",
       "3     -114.6      33.6                14.0       1501.0           337.0   \n",
       "4     -114.6      33.6                20.0       1454.0           326.0   \n",
       "\n",
       "   population  households  median_income  median_house_value  \n",
       "0      1015.0       472.0            1.5             66900.0  \n",
       "1      1129.0       463.0            1.8             80100.0  \n",
       "2       333.0       117.0            1.7             85700.0  \n",
       "3       515.0       226.0            3.2             73400.0  \n",
       "4       624.0       262.0            1.9             65500.0  "
      ]
     },
     "execution_count": 3,
     "metadata": {},
     "output_type": "execute_result"
    }
   ],
   "source": [
    "df.head()"
   ]
  },
  {
   "cell_type": "code",
   "execution_count": 4,
   "metadata": {
    "collapsed": false
   },
   "outputs": [
    {
     "data": {
      "text/html": [
       "\n",
       "          <script src=\"/static/components/requirejs/require.js\"></script>\n",
       "          <script>\n",
       "            requirejs.config({\n",
       "              paths: {\n",
       "                base: '/static/base',\n",
       "              },\n",
       "            });\n",
       "          </script>\n",
       "          "
      ],
      "text/plain": [
       "<IPython.core.display.HTML object>"
      ]
     },
     "metadata": {},
     "output_type": "display_data"
    },
    {
     "data": {
      "text/html": [
       "<div>\n",
       "<table border=\"1\" class=\"dataframe\">\n",
       "  <thead>\n",
       "    <tr style=\"text-align: right;\">\n",
       "      <th></th>\n",
       "      <th>longitude</th>\n",
       "      <th>latitude</th>\n",
       "      <th>housing_median_age</th>\n",
       "      <th>total_rooms</th>\n",
       "      <th>total_bedrooms</th>\n",
       "      <th>population</th>\n",
       "      <th>households</th>\n",
       "      <th>median_income</th>\n",
       "      <th>median_house_value</th>\n",
       "    </tr>\n",
       "  </thead>\n",
       "  <tbody>\n",
       "    <tr>\n",
       "      <th>count</th>\n",
       "      <td>17000.0</td>\n",
       "      <td>17000.0</td>\n",
       "      <td>17000.0</td>\n",
       "      <td>17000.0</td>\n",
       "      <td>17000.0</td>\n",
       "      <td>17000.0</td>\n",
       "      <td>17000.0</td>\n",
       "      <td>17000.0</td>\n",
       "      <td>17000.0</td>\n",
       "    </tr>\n",
       "    <tr>\n",
       "      <th>mean</th>\n",
       "      <td>-119.6</td>\n",
       "      <td>35.6</td>\n",
       "      <td>28.6</td>\n",
       "      <td>2643.7</td>\n",
       "      <td>539.4</td>\n",
       "      <td>1429.6</td>\n",
       "      <td>501.2</td>\n",
       "      <td>3.9</td>\n",
       "      <td>207300.9</td>\n",
       "    </tr>\n",
       "    <tr>\n",
       "      <th>std</th>\n",
       "      <td>2.0</td>\n",
       "      <td>2.1</td>\n",
       "      <td>12.6</td>\n",
       "      <td>2179.9</td>\n",
       "      <td>421.5</td>\n",
       "      <td>1147.9</td>\n",
       "      <td>384.5</td>\n",
       "      <td>1.9</td>\n",
       "      <td>115983.8</td>\n",
       "    </tr>\n",
       "    <tr>\n",
       "      <th>min</th>\n",
       "      <td>-124.3</td>\n",
       "      <td>32.5</td>\n",
       "      <td>1.0</td>\n",
       "      <td>2.0</td>\n",
       "      <td>1.0</td>\n",
       "      <td>3.0</td>\n",
       "      <td>1.0</td>\n",
       "      <td>0.5</td>\n",
       "      <td>14999.0</td>\n",
       "    </tr>\n",
       "    <tr>\n",
       "      <th>25%</th>\n",
       "      <td>-121.8</td>\n",
       "      <td>33.9</td>\n",
       "      <td>18.0</td>\n",
       "      <td>1462.0</td>\n",
       "      <td>297.0</td>\n",
       "      <td>790.0</td>\n",
       "      <td>282.0</td>\n",
       "      <td>2.6</td>\n",
       "      <td>119400.0</td>\n",
       "    </tr>\n",
       "    <tr>\n",
       "      <th>50%</th>\n",
       "      <td>-118.5</td>\n",
       "      <td>34.2</td>\n",
       "      <td>29.0</td>\n",
       "      <td>2127.0</td>\n",
       "      <td>434.0</td>\n",
       "      <td>1167.0</td>\n",
       "      <td>409.0</td>\n",
       "      <td>3.5</td>\n",
       "      <td>180400.0</td>\n",
       "    </tr>\n",
       "    <tr>\n",
       "      <th>75%</th>\n",
       "      <td>-118.0</td>\n",
       "      <td>37.7</td>\n",
       "      <td>37.0</td>\n",
       "      <td>3151.2</td>\n",
       "      <td>648.2</td>\n",
       "      <td>1721.0</td>\n",
       "      <td>605.2</td>\n",
       "      <td>4.8</td>\n",
       "      <td>265000.0</td>\n",
       "    </tr>\n",
       "    <tr>\n",
       "      <th>max</th>\n",
       "      <td>-114.3</td>\n",
       "      <td>42.0</td>\n",
       "      <td>52.0</td>\n",
       "      <td>37937.0</td>\n",
       "      <td>6445.0</td>\n",
       "      <td>35682.0</td>\n",
       "      <td>6082.0</td>\n",
       "      <td>15.0</td>\n",
       "      <td>500001.0</td>\n",
       "    </tr>\n",
       "  </tbody>\n",
       "</table>\n",
       "</div>"
      ],
      "text/plain": [
       "       longitude  latitude  housing_median_age  total_rooms  total_bedrooms  \\\n",
       "count    17000.0   17000.0             17000.0      17000.0         17000.0   \n",
       "mean      -119.6      35.6                28.6       2643.7           539.4   \n",
       "std          2.0       2.1                12.6       2179.9           421.5   \n",
       "min       -124.3      32.5                 1.0          2.0             1.0   \n",
       "25%       -121.8      33.9                18.0       1462.0           297.0   \n",
       "50%       -118.5      34.2                29.0       2127.0           434.0   \n",
       "75%       -118.0      37.7                37.0       3151.2           648.2   \n",
       "max       -114.3      42.0                52.0      37937.0          6445.0   \n",
       "\n",
       "       population  households  median_income  median_house_value  \n",
       "count     17000.0     17000.0        17000.0             17000.0  \n",
       "mean       1429.6       501.2            3.9            207300.9  \n",
       "std        1147.9       384.5            1.9            115983.8  \n",
       "min           3.0         1.0            0.5             14999.0  \n",
       "25%         790.0       282.0            2.6            119400.0  \n",
       "50%        1167.0       409.0            3.5            180400.0  \n",
       "75%        1721.0       605.2            4.8            265000.0  \n",
       "max       35682.0      6082.0           15.0            500001.0  "
      ]
     },
     "execution_count": 4,
     "metadata": {},
     "output_type": "execute_result"
    }
   ],
   "source": [
    "df.describe()"
   ]
  },
  {
   "cell_type": "markdown",
   "metadata": {},
   "source": [
    "Now, split the data into two parts -- training and evaluation."
   ]
  },
  {
   "cell_type": "code",
   "execution_count": 5,
   "metadata": {
    "collapsed": false
   },
   "outputs": [
    {
     "data": {
      "text/html": [
       "\n",
       "          <script src=\"/static/components/requirejs/require.js\"></script>\n",
       "          <script>\n",
       "            requirejs.config({\n",
       "              paths: {\n",
       "                base: '/static/base',\n",
       "              },\n",
       "            });\n",
       "          </script>\n",
       "          "
      ],
      "text/plain": [
       "<IPython.core.display.HTML object>"
      ]
     },
     "metadata": {},
     "output_type": "display_data"
    }
   ],
   "source": [
    "msk = np.random.rand(len(df)) < 0.8\n",
    "traindf = df[msk]\n",
    "evaldf = df[~msk]"
   ]
  },
  {
   "cell_type": "markdown",
   "metadata": {},
   "source": [
    "## Training and Evaluation\n",
    "\n",
    "In this exercise, we'll be trying to predict median_house_value. It will be our label (sometimes also called a target).\n",
    "\n",
    "We'll modify the feature_cols and input function to represent the features you want to use."
   ]
  },
  {
   "cell_type": "code",
   "execution_count": 6,
   "metadata": {
    "collapsed": false
   },
   "outputs": [
    {
     "data": {
      "text/html": [
       "\n",
       "          <script src=\"/static/components/requirejs/require.js\"></script>\n",
       "          <script>\n",
       "            requirejs.config({\n",
       "              paths: {\n",
       "                base: '/static/base',\n",
       "              },\n",
       "            });\n",
       "          </script>\n",
       "          "
      ],
      "text/plain": [
       "<IPython.core.display.HTML object>"
      ]
     },
     "metadata": {},
     "output_type": "display_data"
    }
   ],
   "source": [
    "# Add more features to dataframe that you think will be representative of the data distribution\n",
    "def add_more_features(df):\n",
    "  df['num_rooms'] = df['total_rooms'] / df['households']\n",
    "  return df"
   ]
  },
  {
   "cell_type": "code",
   "execution_count": 7,
   "metadata": {
    "collapsed": false
   },
   "outputs": [
    {
     "data": {
      "text/html": [
       "\n",
       "          <script src=\"/static/components/requirejs/require.js\"></script>\n",
       "          <script>\n",
       "            requirejs.config({\n",
       "              paths: {\n",
       "                base: '/static/base',\n",
       "              },\n",
       "            });\n",
       "          </script>\n",
       "          "
      ],
      "text/plain": [
       "<IPython.core.display.HTML object>"
      ]
     },
     "metadata": {},
     "output_type": "display_data"
    }
   ],
   "source": [
    "# Create pandas input function\n",
    "def make_input_fn(df, num_epochs):\n",
    "  return tf.estimator.inputs.pandas_input_fn(\n",
    "    x = add_more_features(df),\n",
    "    y = df['median_house_value'] / 100000, # will talk about why later in the course\n",
    "    batch_size = 128,\n",
    "    num_epochs = num_epochs,\n",
    "    shuffle = True,\n",
    "    queue_capacity = 1000,\n",
    "    num_threads = 1\n",
    "  )"
   ]
  },
  {
   "cell_type": "code",
   "execution_count": 8,
   "metadata": {
    "collapsed": false
   },
   "outputs": [
    {
     "data": {
      "text/html": [
       "\n",
       "          <script src=\"/static/components/requirejs/require.js\"></script>\n",
       "          <script>\n",
       "            requirejs.config({\n",
       "              paths: {\n",
       "                base: '/static/base',\n",
       "              },\n",
       "            });\n",
       "          </script>\n",
       "          "
      ],
      "text/plain": [
       "<IPython.core.display.HTML object>"
      ]
     },
     "metadata": {},
     "output_type": "display_data"
    }
   ],
   "source": [
    "# Define your feature columns\n",
    "def create_feature_cols():\n",
    "  return [\n",
    "    tf.feature_column.numeric_column('housing_median_age'),\n",
    "    tf.feature_column.bucketized_column(tf.feature_column.numeric_column('latitude'), boundaries = np.arange(32.0, 42, 1).tolist()),\n",
    "    tf.feature_column.numeric_column('num_rooms'),\n",
    "    tf.feature_column.numeric_column('median_income')\n",
    "  ]"
   ]
  },
  {
   "cell_type": "code",
   "execution_count": 9,
   "metadata": {
    "collapsed": false
   },
   "outputs": [
    {
     "data": {
      "text/html": [
       "\n",
       "          <script src=\"/static/components/requirejs/require.js\"></script>\n",
       "          <script>\n",
       "            requirejs.config({\n",
       "              paths: {\n",
       "                base: '/static/base',\n",
       "              },\n",
       "            });\n",
       "          </script>\n",
       "          "
      ],
      "text/plain": [
       "<IPython.core.display.HTML object>"
      ]
     },
     "metadata": {},
     "output_type": "display_data"
    }
   ],
   "source": [
    "# Create estimator train and evaluate function\n",
    "def train_and_evaluate(output_dir, num_train_steps):\n",
    "  estimator = tf.estimator.LinearRegressor(model_dir = output_dir, feature_columns = create_feature_cols())\n",
    "  train_spec = tf.estimator.TrainSpec(input_fn = make_input_fn(traindf, 8), \n",
    "                                      max_steps = num_train_steps)\n",
    "  eval_spec = tf.estimator.EvalSpec(input_fn = make_input_fn(evaldf, 1), \n",
    "                                    steps = None, \n",
    "                                    start_delay_secs = 1, # start evaluating after N seconds, \n",
    "                                    throttle_secs = 10)  # evaluate every N seconds\n",
    "  tf.estimator.train_and_evaluate(estimator, train_spec, eval_spec)"
   ]
  },
  {
   "cell_type": "code",
   "execution_count": 10,
   "metadata": {
    "collapsed": false
   },
   "outputs": [
    {
     "data": {
      "text/html": [
       "\n",
       "          <script src=\"/static/components/requirejs/require.js\"></script>\n",
       "          <script>\n",
       "            requirejs.config({\n",
       "              paths: {\n",
       "                base: '/static/base',\n",
       "              },\n",
       "            });\n",
       "          </script>\n",
       "          "
      ],
      "text/plain": [
       "<IPython.core.display.HTML object>"
      ]
     },
     "metadata": {},
     "output_type": "display_data"
    },
    {
     "name": "stdout",
     "output_type": "stream",
     "text": [
      "INFO:tensorflow:Using default config.\n",
      "INFO:tensorflow:Using config: {'_save_checkpoints_secs': 600, '_session_config': None, '_keep_checkpoint_max': 5, '_task_type': 'worker', '_is_chief': True, '_cluster_spec': <tensorflow.python.training.server_lib.ClusterSpec object at 0x7fb965943990>, '_save_checkpoints_steps': None, '_keep_checkpoint_every_n_hours': 10000, '_service': None, '_num_ps_replicas': 0, '_tf_random_seed': None, '_master': '', '_num_worker_replicas': 1, '_task_id': 0, '_log_step_count_steps': 100, '_model_dir': './trained_model', '_save_summary_steps': 100}\n",
      "INFO:tensorflow:Running training and evaluation locally (non-distributed).\n",
      "INFO:tensorflow:Start train and evaluate loop. The evaluate will happen after 10 secs (eval_spec.throttle_secs) or training is finished.\n"
     ]
    },
    {
     "name": "stderr",
     "output_type": "stream",
     "text": [
      "/usr/local/lib/python2.7/dist-packages/ipykernel/__main__.py:3: SettingWithCopyWarning: \n",
      "A value is trying to be set on a copy of a slice from a DataFrame.\n",
      "Try using .loc[row_indexer,col_indexer] = value instead\n",
      "\n",
      "See the caveats in the documentation: http://pandas.pydata.org/pandas-docs/stable/indexing.html#indexing-view-versus-copy\n",
      "  app.launch_new_instance()\n"
     ]
    },
    {
     "name": "stdout",
     "output_type": "stream",
     "text": [
      "INFO:tensorflow:Create CheckpointSaverHook.\n",
      "INFO:tensorflow:Saving checkpoints for 1 into ./trained_model/model.ckpt.\n",
      "INFO:tensorflow:loss = 641.672, step = 1\n",
      "INFO:tensorflow:global_step/sec: 279.519\n",
      "INFO:tensorflow:loss = 26.917364, step = 101 (0.363 sec)\n",
      "INFO:tensorflow:global_step/sec: 310.728\n",
      "INFO:tensorflow:loss = 68.17904, step = 201 (0.321 sec)\n",
      "INFO:tensorflow:global_step/sec: 354.621\n",
      "INFO:tensorflow:loss = 71.803085, step = 301 (0.283 sec)\n",
      "INFO:tensorflow:global_step/sec: 335.974\n",
      "INFO:tensorflow:loss = 20.203316, step = 401 (0.297 sec)\n",
      "INFO:tensorflow:global_step/sec: 318.238\n",
      "INFO:tensorflow:loss = 74.8148, step = 501 (0.315 sec)\n",
      "INFO:tensorflow:global_step/sec: 325.46\n",
      "INFO:tensorflow:loss = 82.23247, step = 601 (0.307 sec)\n",
      "INFO:tensorflow:global_step/sec: 295.663\n",
      "INFO:tensorflow:loss = 70.0768, step = 701 (0.338 sec)\n",
      "INFO:tensorflow:global_step/sec: 307.322\n",
      "INFO:tensorflow:loss = 69.135155, step = 801 (0.325 sec)\n",
      "INFO:tensorflow:Saving checkpoints for 850 into ./trained_model/model.ckpt.\n",
      "INFO:tensorflow:Loss for final step: 17.315361.\n",
      "INFO:tensorflow:Starting evaluation at 2018-02-05-21:33:18\n",
      "INFO:tensorflow:Restoring parameters from ./trained_model/model.ckpt-850\n",
      "INFO:tensorflow:Finished evaluation at 2018-02-05-21:33:19\n",
      "INFO:tensorflow:Saving dict for global step 850: average_loss = 0.6371999, global_step = 850, loss = 80.47598\n",
      "INFO:tensorflow:Create CheckpointSaverHook.\n",
      "INFO:tensorflow:Restoring parameters from ./trained_model/model.ckpt-850\n",
      "INFO:tensorflow:Saving checkpoints for 851 into ./trained_model/model.ckpt.\n",
      "INFO:tensorflow:loss = 74.27285, step = 851\n",
      "INFO:tensorflow:global_step/sec: 288.218\n",
      "INFO:tensorflow:loss = 52.918327, step = 951 (0.351 sec)\n",
      "INFO:tensorflow:global_step/sec: 375.083\n",
      "INFO:tensorflow:loss = 52.237976, step = 1051 (0.267 sec)\n",
      "INFO:tensorflow:global_step/sec: 340.77\n",
      "INFO:tensorflow:loss = 56.56551, step = 1151 (0.297 sec)\n",
      "INFO:tensorflow:global_step/sec: 326.561\n",
      "INFO:tensorflow:loss = 88.28914, step = 1251 (0.303 sec)\n",
      "INFO:tensorflow:global_step/sec: 320.944\n",
      "INFO:tensorflow:loss = 125.616104, step = 1351 (0.310 sec)\n",
      "INFO:tensorflow:global_step/sec: 347.807\n",
      "INFO:tensorflow:loss = 127.36981, step = 1451 (0.288 sec)\n",
      "INFO:tensorflow:global_step/sec: 348.749\n",
      "INFO:tensorflow:loss = 37.402798, step = 1551 (0.289 sec)\n",
      "INFO:tensorflow:global_step/sec: 311.335\n",
      "INFO:tensorflow:loss = 44.542618, step = 1651 (0.319 sec)\n",
      "INFO:tensorflow:Saving checkpoints for 1700 into ./trained_model/model.ckpt.\n",
      "INFO:tensorflow:Loss for final step: 10.302254.\n",
      "INFO:tensorflow:Starting evaluation at 2018-02-05-21:33:23\n",
      "INFO:tensorflow:Restoring parameters from ./trained_model/model.ckpt-1700\n",
      "INFO:tensorflow:Finished evaluation at 2018-02-05-21:33:23\n",
      "INFO:tensorflow:Saving dict for global step 1700: average_loss = 0.6546675, global_step = 1700, loss = 82.68208\n",
      "INFO:tensorflow:Create CheckpointSaverHook.\n",
      "INFO:tensorflow:Restoring parameters from ./trained_model/model.ckpt-1700\n",
      "INFO:tensorflow:Saving checkpoints for 1701 into ./trained_model/model.ckpt.\n",
      "INFO:tensorflow:loss = 167.85452, step = 1701\n",
      "INFO:tensorflow:global_step/sec: 253.202\n",
      "INFO:tensorflow:loss = 47.490295, step = 1801 (0.400 sec)\n",
      "INFO:tensorflow:global_step/sec: 266.314\n",
      "INFO:tensorflow:loss = 45.037178, step = 1901 (0.372 sec)\n",
      "INFO:tensorflow:global_step/sec: 324.825\n",
      "INFO:tensorflow:loss = 51.069946, step = 2001 (0.310 sec)\n",
      "INFO:tensorflow:global_step/sec: 320.288\n",
      "INFO:tensorflow:loss = 89.318344, step = 2101 (0.313 sec)\n",
      "INFO:tensorflow:global_step/sec: 305.806\n",
      "INFO:tensorflow:loss = 63.80742, step = 2201 (0.327 sec)\n",
      "INFO:tensorflow:global_step/sec: 337.421\n",
      "INFO:tensorflow:loss = 96.18175, step = 2301 (0.297 sec)\n",
      "INFO:tensorflow:global_step/sec: 314.488\n",
      "INFO:tensorflow:loss = 52.962345, step = 2401 (0.317 sec)\n",
      "INFO:tensorflow:global_step/sec: 322.06\n",
      "INFO:tensorflow:loss = 99.22734, step = 2501 (0.311 sec)\n",
      "INFO:tensorflow:Saving checkpoints for 2550 into ./trained_model/model.ckpt.\n",
      "INFO:tensorflow:Loss for final step: 28.116444.\n",
      "INFO:tensorflow:Starting evaluation at 2018-02-05-21:33:27\n",
      "INFO:tensorflow:Restoring parameters from ./trained_model/model.ckpt-2550\n",
      "INFO:tensorflow:Finished evaluation at 2018-02-05-21:33:27\n",
      "INFO:tensorflow:Saving dict for global step 2550: average_loss = 0.61268145, global_step = 2550, loss = 77.379395\n",
      "INFO:tensorflow:Create CheckpointSaverHook.\n",
      "INFO:tensorflow:Restoring parameters from ./trained_model/model.ckpt-2550\n",
      "INFO:tensorflow:Saving checkpoints for 2551 into ./trained_model/model.ckpt.\n",
      "INFO:tensorflow:loss = 36.08465, step = 2551\n",
      "INFO:tensorflow:global_step/sec: 255.229\n",
      "INFO:tensorflow:loss = 69.826706, step = 2651 (0.396 sec)\n",
      "INFO:tensorflow:global_step/sec: 316.209\n",
      "INFO:tensorflow:loss = 53.066833, step = 2751 (0.317 sec)\n",
      "INFO:tensorflow:global_step/sec: 321.77\n",
      "INFO:tensorflow:loss = 57.239944, step = 2851 (0.313 sec)\n",
      "INFO:tensorflow:global_step/sec: 301.551\n",
      "INFO:tensorflow:loss = 63.743896, step = 2951 (0.328 sec)\n",
      "INFO:tensorflow:global_step/sec: 339.207\n",
      "INFO:tensorflow:loss = 82.662796, step = 3051 (0.293 sec)\n",
      "INFO:tensorflow:global_step/sec: 329.745\n",
      "INFO:tensorflow:loss = 57.145874, step = 3151 (0.307 sec)\n",
      "INFO:tensorflow:global_step/sec: 329.527\n",
      "INFO:tensorflow:loss = 59.16446, step = 3251 (0.302 sec)\n",
      "INFO:tensorflow:global_step/sec: 285.289\n",
      "INFO:tensorflow:loss = 76.62915, step = 3351 (0.351 sec)\n",
      "INFO:tensorflow:Saving checkpoints for 3400 into ./trained_model/model.ckpt.\n",
      "INFO:tensorflow:Loss for final step: 14.575626.\n",
      "INFO:tensorflow:Starting evaluation at 2018-02-05-21:33:31\n",
      "INFO:tensorflow:Restoring parameters from ./trained_model/model.ckpt-3400\n",
      "INFO:tensorflow:Finished evaluation at 2018-02-05-21:33:32\n",
      "INFO:tensorflow:Saving dict for global step 3400: average_loss = 0.6500092, global_step = 3400, loss = 82.09376\n",
      "INFO:tensorflow:Create CheckpointSaverHook.\n",
      "INFO:tensorflow:Restoring parameters from ./trained_model/model.ckpt-3400\n",
      "INFO:tensorflow:Saving checkpoints for 3401 into ./trained_model/model.ckpt.\n",
      "INFO:tensorflow:loss = 54.928062, step = 3401\n",
      "INFO:tensorflow:global_step/sec: 297.616\n",
      "INFO:tensorflow:loss = 99.51813, step = 3501 (0.341 sec)\n",
      "INFO:tensorflow:global_step/sec: 358.966\n",
      "INFO:tensorflow:loss = 84.044716, step = 3601 (0.278 sec)\n",
      "INFO:tensorflow:global_step/sec: 321.855\n",
      "INFO:tensorflow:loss = 59.324593, step = 3701 (0.311 sec)\n",
      "INFO:tensorflow:global_step/sec: 293.177\n",
      "INFO:tensorflow:loss = 51.44203, step = 3801 (0.341 sec)\n",
      "INFO:tensorflow:global_step/sec: 360.127\n",
      "INFO:tensorflow:loss = 92.28391, step = 3901 (0.278 sec)\n",
      "INFO:tensorflow:global_step/sec: 373.352\n",
      "INFO:tensorflow:loss = 55.525566, step = 4001 (0.269 sec)\n",
      "INFO:tensorflow:global_step/sec: 302.371\n",
      "INFO:tensorflow:loss = 61.405724, step = 4101 (0.330 sec)\n",
      "INFO:tensorflow:global_step/sec: 320.853\n",
      "INFO:tensorflow:loss = 57.866695, step = 4201 (0.309 sec)\n",
      "INFO:tensorflow:Saving checkpoints for 4250 into ./trained_model/model.ckpt.\n",
      "INFO:tensorflow:Loss for final step: 25.23357.\n",
      "INFO:tensorflow:Starting evaluation at 2018-02-05-21:33:36\n",
      "INFO:tensorflow:Restoring parameters from ./trained_model/model.ckpt-4250\n",
      "INFO:tensorflow:Finished evaluation at 2018-02-05-21:33:36\n",
      "INFO:tensorflow:Saving dict for global step 4250: average_loss = 0.6321937, global_step = 4250, loss = 79.84372\n",
      "INFO:tensorflow:Create CheckpointSaverHook.\n",
      "INFO:tensorflow:Restoring parameters from ./trained_model/model.ckpt-4250\n",
      "INFO:tensorflow:Saving checkpoints for 4251 into ./trained_model/model.ckpt.\n",
      "INFO:tensorflow:loss = 46.027428, step = 4251\n",
      "INFO:tensorflow:global_step/sec: 302.369\n",
      "INFO:tensorflow:loss = 50.174534, step = 4351 (0.335 sec)\n",
      "INFO:tensorflow:global_step/sec: 356.411\n",
      "INFO:tensorflow:loss = 50.896683, step = 4451 (0.281 sec)\n",
      "INFO:tensorflow:global_step/sec: 335.897\n",
      "INFO:tensorflow:loss = 96.52565, step = 4551 (0.299 sec)\n",
      "INFO:tensorflow:global_step/sec: 337.332\n",
      "INFO:tensorflow:loss = 65.96118, step = 4651 (0.296 sec)\n",
      "INFO:tensorflow:global_step/sec: 358.325\n",
      "INFO:tensorflow:loss = 142.06958, step = 4751 (0.279 sec)\n",
      "INFO:tensorflow:global_step/sec: 324.686\n",
      "INFO:tensorflow:loss = 97.71883, step = 4851 (0.309 sec)\n",
      "INFO:tensorflow:global_step/sec: 347.064\n",
      "INFO:tensorflow:loss = 55.16596, step = 4951 (0.287 sec)\n",
      "INFO:tensorflow:Saving checkpoints for 5000 into ./trained_model/model.ckpt.\n",
      "INFO:tensorflow:Loss for final step: 61.338676.\n",
      "INFO:tensorflow:Starting evaluation at 2018-02-05-21:33:39\n",
      "INFO:tensorflow:Restoring parameters from ./trained_model/model.ckpt-5000\n",
      "INFO:tensorflow:Finished evaluation at 2018-02-05-21:33:40\n",
      "INFO:tensorflow:Saving dict for global step 5000: average_loss = 0.62347496, global_step = 5000, loss = 78.74258\n"
     ]
    }
   ],
   "source": [
    "# Run the model\n",
    "OUTDIR = './trained_model'\n",
    "shutil.rmtree(OUTDIR, ignore_errors=True)\n",
    "train_and_evaluate(OUTDIR, 5000)"
   ]
  }
 ],
 "metadata": {
  "colab": {
   "default_view": {},
   "name": "first_steps_with_tensor_flow.ipynb",
   "provenance": [],
   "version": "0.3.2",
   "views": {}
  },
  "kernelspec": {
   "display_name": "Python 2",
   "language": "python",
   "name": "python2"
  },
  "language_info": {
   "codemirror_mode": {
    "name": "ipython",
    "version": 2
   },
   "file_extension": ".py",
   "mimetype": "text/x-python",
   "name": "python",
   "nbconvert_exporter": "python",
   "pygments_lexer": "ipython2",
   "version": "2.7.12"
  }
 },
 "nbformat": 4,
 "nbformat_minor": 0
}
